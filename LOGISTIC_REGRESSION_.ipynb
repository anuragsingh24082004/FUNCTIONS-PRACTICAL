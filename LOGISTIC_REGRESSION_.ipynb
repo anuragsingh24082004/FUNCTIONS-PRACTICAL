{
  "nbformat": 4,
  "nbformat_minor": 0,
  "metadata": {
    "colab": {
      "provenance": [],
      "authorship_tag": "ABX9TyNRZjtsX7AaYyiGLWQEMF1J",
      "include_colab_link": true
    },
    "kernelspec": {
      "name": "python3",
      "display_name": "Python 3"
    },
    "language_info": {
      "name": "python"
    }
  },
  "cells": [
    {
      "cell_type": "markdown",
      "metadata": {
        "id": "view-in-github",
        "colab_type": "text"
      },
      "source": [
        "<a href=\"https://colab.research.google.com/github/anuragsingh24082004/FUNCTIONS-PRACTICAL/blob/main/LOGISTIC_REGRESSION_.ipynb\" target=\"_parent\"><img src=\"https://colab.research.google.com/assets/colab-badge.svg\" alt=\"Open In Colab\"/></a>"
      ]
    },
    {
      "cell_type": "markdown",
      "source": [
        "GOOGLE COLAB LINK - https://colab.research.google.com/drive/1EWVo8rooNiMrvRadk3Nyb_qye4rBMP_z?usp=sharing"
      ],
      "metadata": {
        "id": "laZEOwMJQNl9"
      }
    },
    {
      "cell_type": "markdown",
      "source": [
        "GITHUB LINK-"
      ],
      "metadata": {
        "id": "YOhFnDJNQcr6"
      }
    },
    {
      "cell_type": "markdown",
      "source": [
        "# **THEORETICAL QUESTIONS -**"
      ],
      "metadata": {
        "id": "GkCMA62pfask"
      }
    },
    {
      "cell_type": "markdown",
      "source": [
        "# Q1-WHAT IS LOGISTIC REGRESSION, AND HOW DOES IT DIFFER FROM LINEAR REGRESSION ?"
      ],
      "metadata": {
        "id": "awvXQeAeWJ4-"
      }
    },
    {
      "cell_type": "markdown",
      "source": [
        "ANSWER- LOGISTIC REGRESSION IS A STATISTICAL METHOD USED FOR BINARY CLASSIFICATION TASKS. WHILE LINEAR REGRESSION PREDICTS CONTINUOUS OUTPUTS BY FITTING A LINEAR FUNCTION TO THE DATA, LOGISTIC REGRESSION USES THE SIGMOID FUNCTION TO SQUASH OUTPUTS BETWEEN 0 AND 1, MAKING IT SUITABLE FOR CLASSIFICATION PROBLEMS."
      ],
      "metadata": {
        "id": "zv6VPk25hlz7"
      }
    },
    {
      "cell_type": "markdown",
      "source": [
        "# Q2- WHAT IS THE MATHEMATICAL EQUATION OF LOGISTIC REGRESSION ?"
      ],
      "metadata": {
        "id": "GRU5nH8VWdpL"
      }
    },
    {
      "cell_type": "markdown",
      "source": [
        "ANSWER- THE EQUATION OF LOGISTIC REGRESSION IS:\n",
        "\n",
        "p(Y=1/X) = 1 / 1+e^-(β0 + β1X1+ β2X2+......+βnXn)"
      ],
      "metadata": {
        "id": "lmmWOX_Fhni3"
      }
    },
    {
      "cell_type": "markdown",
      "source": [
        "# Q3-WHY DO WE USE THE SIGMOID FUNCTION IN LOGISTIC REGRESSION ?"
      ],
      "metadata": {
        "id": "tS8pHdg3Wd8z"
      }
    },
    {
      "cell_type": "markdown",
      "source": [
        "ANSWER- THE SIGMOID FUNCTION SQUASHES ANY INPUT VALUE INTO A RANGE BETWEEN 0 AND 1, WHICH MAKES IT PERFECT FOR CLASSIFICATION TASKS WHERE WE NEED PROBABILITIES."
      ],
      "metadata": {
        "id": "RXmfNfiohpU2"
      }
    },
    {
      "cell_type": "markdown",
      "source": [
        "# Q4- WHAT IS THE COST FUNCTION OF LOGISTIC REGRESSION ?"
      ],
      "metadata": {
        "id": "vwNhoAyoWeUa"
      }
    },
    {
      "cell_type": "markdown",
      "source": [
        "ANSWER-  LOGISTIC REGRESSION USES LOG-LOSS OR CROSS-ENTROPY LOSS:\n",
        "\n",
        "𝐽\n",
        "(\n",
        "𝜃\n",
        ")\n",
        "=\n",
        "−\n",
        "1\n",
        "𝑚\n",
        "∑\n",
        "𝑖\n",
        "=\n",
        "1\n",
        "𝑚\n",
        "[\n",
        "𝑦\n",
        "𝑖\n",
        "log\n",
        "⁡\n",
        "(\n",
        "ℎ\n",
        "𝜃\n",
        "(\n",
        "𝑥\n",
        "𝑖\n",
        ")\n",
        ")\n",
        "+\n",
        "(\n",
        "1\n",
        "−\n",
        "𝑦\n",
        "𝑖\n",
        ")\n",
        "log\n",
        "⁡\n",
        "(\n",
        "1\n",
        "−\n",
        "ℎ\n",
        "𝜃\n",
        "(\n",
        "𝑥\n",
        "𝑖\n",
        ")\n",
        ")\n",
        "]\n",
        "J(θ)=−\n",
        "m\n",
        "1\n",
        "​\n",
        "\n",
        "IT PENALIZES WRONG PREDICTIONS HEAVILY AND HELPS THE MODEL LEARN EFFECTIVELY."
      ],
      "metadata": {
        "id": "F17a3_4Shqf7"
      }
    },
    {
      "cell_type": "markdown",
      "source": [
        "# Q5-WHAT IS REGULARIZATION IN LOGISTIC REGRESSION ? WHY IS IT NEEDED ?"
      ],
      "metadata": {
        "id": "jRaf1CuxWemH"
      }
    },
    {
      "cell_type": "markdown",
      "source": [
        "ANSWER- REGULARIZATION IS A TECHNIQUE TO PREVENT OVERFITTING BY ADDING A PENALTY TERM TO THE COST FUNCTION. IT HELPS THE MODEL GENERALIZE BETTER ON NEW DATA."
      ],
      "metadata": {
        "id": "KsKpFjYchrYl"
      }
    },
    {
      "cell_type": "markdown",
      "source": [
        "# Q6- EXPLAIN THE DIFFERENCE BETWEEN LASSO,RIDGE, AND ELASTIC NET REGRESSION."
      ],
      "metadata": {
        "id": "z6CpGvLoWe8h"
      }
    },
    {
      "cell_type": "markdown",
      "source": [
        "ANSWER-\n",
        "* LASSO (L1 REGULARIZATION): SHRINKS SOME COEFFICIENTS TO ZERO, EFFECTIVELY SELECTING IMPORTANT FEATURES.\n",
        "* RIDGE (L2 REGULARIZATION): SHRINKS COEFFICIENTS BUT NEVER MAKES THEM EXACTLY ZERO, KEEPING ALL FEATURES.\n",
        "* ELASTIC NET: A COMBINATION OF LASSO AND RIDGE, BALANCING FEATURE SELECTION AND STABILITY."
      ],
      "metadata": {
        "id": "reuxM9yThs4O"
      }
    },
    {
      "cell_type": "markdown",
      "source": [
        "# Q7-WHEN SHOULD WE USE ELASTIC NET INSTEAD OF LASSO OR RIDGE ?"
      ],
      "metadata": {
        "id": "YKXIsbjfXpq8"
      }
    },
    {
      "cell_type": "markdown",
      "source": [
        "ANSWER- USE ELASTIC NET WHEN YOU HAVE MANY FEATURES, AND SOME OF THEM ARE HIGHLY CORRELATED. IT HANDLES MULTICOLLINEARITY BETTER THAN LASSO OR RIDGE ALONE."
      ],
      "metadata": {
        "id": "lbyGLQ4Qht5w"
      }
    },
    {
      "cell_type": "markdown",
      "source": [
        "# Q8- WHAT IS THE IMPACT OF THE REGULARIZATION PARAMETER (λ) IN LOGISTIC REGRESSION ?"
      ],
      "metadata": {
        "id": "dzQpO7pMWfRX"
      }
    },
    {
      "cell_type": "markdown",
      "source": [
        "ANSWER- IF 𝜆 IS TOO HIGH → MODEL BECOMES TOO SIMPLE (UNDERFITTING).\n",
        "IF λ IS TOO LOW → MODEL MAY OVERFIT.\n",
        "NEED TO TUNE λ PROPERLY FOR BEST PERFORMANCE."
      ],
      "metadata": {
        "id": "AjTKoI_rhvCf"
      }
    },
    {
      "cell_type": "markdown",
      "source": [
        "## Q9- WHAT ARE THE KEY ASSUMPTIONS OF LOGISTIC REGRESSION ?"
      ],
      "metadata": {
        "id": "j_ZrG5DYWfi7"
      }
    },
    {
      "cell_type": "markdown",
      "source": [
        "ANSWER- 1) NO PERFECT MULTICOLLINEARITY (FEATURES SHOULD NOT BE HIGHLY CORRELATED).\n",
        "2) LOG ODDS HAVE A LINEAR RELATIONSHIP WITH INPUT VARIABLES.\n",
        "3) INDEPENDENT OBSERVATIONS."
      ],
      "metadata": {
        "id": "Y__UX3ybhwQF"
      }
    },
    {
      "cell_type": "markdown",
      "source": [
        "# Q10- WHAT ARE SOME ALTERNATIVES TO LOGISTIC REGRESSION FOR THE CLASSIFICATION TASKS ?"
      ],
      "metadata": {
        "id": "mM7HI2a9YS5u"
      }
    },
    {
      "cell_type": "markdown",
      "source": [
        "ANSWER-\n",
        "* DECISION TREES\n",
        "* RANDOM FORESTS\n",
        "* SUPPORT VECTOR MACHINES (SVM)\n",
        "* NEURAL NETWORKS\n",
        "* NAIVE BAYES"
      ],
      "metadata": {
        "id": "SKcR3P0Ahxey"
      }
    },
    {
      "cell_type": "markdown",
      "source": [
        "## Q11-WHAT ARE CLASSIFICATION EVOLUTION METRICS /"
      ],
      "metadata": {
        "id": "vqGXfNnYWf5E"
      }
    },
    {
      "cell_type": "markdown",
      "source": [
        "ANSWER-\n",
        "* ACCURACY\n",
        "* PRECISION\n",
        "* RECALL\n",
        "* F1-SCORE\n",
        "* AUC-ROC CURVE"
      ],
      "metadata": {
        "id": "fVRev_KZhy1_"
      }
    },
    {
      "cell_type": "markdown",
      "source": [
        "# Q12- HOW DOES CLASS IMBALANCE AFFECT LOGISTIC REGRESSION ?"
      ],
      "metadata": {
        "id": "oal76gUZWggr"
      }
    },
    {
      "cell_type": "markdown",
      "source": [
        "ANSWER- IF ONE CLASS HAS WAY MORE SAMPLES THAN THE OTHER, THE MODEL MAY BECOME BIASED AND IGNORE THE MINORITY CLASS. SOLUTIONS INCLUDE:\n",
        "\n",
        "* USING BALANCED DATA\n",
        "* ADJUSTING CLASS WEIGHTS\n",
        "* USING SMOTE (OVERSAMPLING MINORITY CLASS)"
      ],
      "metadata": {
        "id": "CI3djBdoh0j4"
      }
    },
    {
      "cell_type": "markdown",
      "source": [
        "# Q13- WHAT IS HYPERPARAMETER TUNING OF LOGISTIC REGRESSION ?"
      ],
      "metadata": {
        "id": "2SaixATWWgyY"
      }
    },
    {
      "cell_type": "markdown",
      "source": [
        "ANSWER- IT'S THE PROCESS OF FINDING THE BEST PARAMETERS (LIKE λ SOLVER, ETC.) TO IMPROVE MODEL PERFORMANCE USING METHODS LIKE GRID SEARCH OR RANDOM SEARCH."
      ],
      "metadata": {
        "id": "-Uh_OPiHh17-"
      }
    },
    {
      "cell_type": "markdown",
      "source": [
        "# Q14- WHAT ARE DIFFERENT SOLVERS IN LOGISTIC REGRESSION ? WHICH ONE SHOULD BE USED ?"
      ],
      "metadata": {
        "id": "2h7WfpC5Whg0"
      }
    },
    {
      "cell_type": "markdown",
      "source": [
        "ANSWER-\n",
        "* LIBLINEAR - GOOD FOR SMALL DATASETS.\n",
        "* LBFGS - WORKS WELL FOR MULTICLASS CLASSIFICATION.\n",
        "* SAG & SAGA - GOOD FOR LARGE DATASETS.\n",
        "* NEWTON-CG - WORKS WELL FOR STRONG CONVEX FUNCTIONS."
      ],
      "metadata": {
        "id": "xwWyW_KUh3U6"
      }
    },
    {
      "cell_type": "markdown",
      "source": [
        "# Q15- HOW IS LOGISTIC REGRESSION EXTENDED FOR MULTICLASS CLASSIFICATION ?"
      ],
      "metadata": {
        "id": "ZyReGqzjWh6G"
      }
    },
    {
      "cell_type": "markdown",
      "source": [
        "ANSWER-\n",
        "* ONE-VS-REST (OVR): TRAINS ONE CLASSIFIER FOR EACH CLASS.\n",
        "* SOFTMAX REGRESSION: EXTENDS LOGISTIC REGRESSION TO HANDLE MULTIPLE CLASSES DIRECTLY."
      ],
      "metadata": {
        "id": "x8R9Vjauh4Te"
      }
    },
    {
      "cell_type": "markdown",
      "source": [
        "# Q16- WHAT ARE THE ADVANTAGES AND DISADVANTAGES OF LOGISTIC REGRESSION ?"
      ],
      "metadata": {
        "id": "yPyNII2QWiOw"
      }
    },
    {
      "cell_type": "markdown",
      "source": [
        "ANSWER-\n",
        "\n",
        "ADVANTAGES:\n",
        "✅ EASY TO IMPLEMENT\n",
        "✅ FAST TO TRAIN\n",
        "✅ WORKS WELL FOR SIMPLE PROBLEMS\n",
        "\n",
        "DISADVANTAGES:\n",
        "❌ CAN'T HANDLE COMPLEX RELATIONSHIPS\n",
        "❌ SENSITIVE TO OUTLIERS\n",
        "❌ REQUIRES FEATURES TO BE INDEPENDENT"
      ],
      "metadata": {
        "id": "PPj4UETRh6pk"
      }
    },
    {
      "cell_type": "markdown",
      "source": [
        "# Q17- WHAT ARE THE SOME USE CASES OF LOGISTIC REGRESSION ?"
      ],
      "metadata": {
        "id": "toJ8mIfMWirl"
      }
    },
    {
      "cell_type": "markdown",
      "source": [
        "ANSWER-\n",
        "* SPAM EMAIL DETECTION\n",
        "* DISEASE PREDICTION\n",
        "* CUSTOMER CHURN PREDICTION\n",
        "* CREDIT CARD FRAUD DETECTION"
      ],
      "metadata": {
        "id": "ZbK703QBh8P9"
      }
    },
    {
      "cell_type": "markdown",
      "source": [
        "# Q18-WHAT IS THE DIFFERENCE BETWEEN SOFTMAX REGRESSION AND LOGISTIC REGRESSSION ?"
      ],
      "metadata": {
        "id": "AyfHT5KeWjcS"
      }
    },
    {
      "cell_type": "markdown",
      "source": [
        "ANSWER-\n",
        "* LOGISTIC REGRESSION → USED FOR BINARY CLASSIFICATION (TWO CLASSES).\n",
        "* SOFTMAX REGRESSION → USED FOR MULTICLASS CLASSIFICATION (MORE THAN TWO CLASSES)."
      ],
      "metadata": {
        "id": "UIimj8kvh9rl"
      }
    },
    {
      "cell_type": "markdown",
      "source": [
        "# Q19- HOW DO WE CHOOSE BETWEEN ONE-VS-REST(OvR) AND SOFTMAX FOR MULTICLASS CLASSIFICATION ?"
      ],
      "metadata": {
        "id": "7UXfz-WbWj3U"
      }
    },
    {
      "cell_type": "markdown",
      "source": [
        "ANSWER-\n",
        "* IF CLASSES ARE WELL SEPARATED → OVR WORKS WELL.\n",
        "* IF CLASSES ARE CLOSE TO EACH OTHER → SOFTMAX IS BETTER."
      ],
      "metadata": {
        "id": "EQ9qxn78h-7U"
      }
    },
    {
      "cell_type": "markdown",
      "source": [
        "## Q20- HOW DO WE INTERPRET COEFFICIENT IN LOGISTIC REGRESSION ?"
      ],
      "metadata": {
        "id": "VNxJc5o7WkKY"
      }
    },
    {
      "cell_type": "markdown",
      "source": [
        "ANSWER- EACH COEFFICIENT REPRESENTS THE LOG-ODDS CHANGE OF THE OUTPUT WHEN THAT FEATURE CHANGES BY ONE UNIT.\n",
        "\n",
        "e^beta i\n",
        "\n",
        "if it is greater than one , it increases the probability of the event .\n",
        "and if it is lower than 1 , it decreases the probability of the event .\n"
      ],
      "metadata": {
        "id": "JbL83QS8iAfJ"
      }
    },
    {
      "cell_type": "markdown",
      "source": [
        "# ***PRACTICAL QUESTIONS - ***"
      ],
      "metadata": {
        "id": "moSR0h2sWkk2"
      }
    },
    {
      "cell_type": "code",
      "source": [
        "import pandas as pd\n",
        "import numpy as np\n",
        "import matplotlib.pyplot as plt\n",
        "import warnings\n",
        "warnings.filterwarnings('ignore')\n",
        "from sklearn.model_selection import train_test_split, GridSearchCV, StratifiedKFold, RandomizedSearchCV, cross_val_score\n",
        "from sklearn.preprocessing import StandardScaler , LabelEncoder\n",
        "from sklearn.linear_model import LogisticRegression\n",
        "from sklearn.metrics import accuracy_score, confusion_matrix, classification_report, roc_auc_score, precision_recall_curve, cohen_kappa_score, matthews_corrcoef\n",
        "import joblib\n",
        "import seaborn as sns"
      ],
      "metadata": {
        "id": "1qu4Y4nW_lVK"
      },
      "execution_count": 14,
      "outputs": []
    },
    {
      "cell_type": "markdown",
      "source": [
        "Q1- WRITE A PYTHON PROGRAM THAT LOADS A DATASET, SPLITS IT INTO TRAINING AND TESTING SETS, APPLIES LOGISTIC REGRESSION, AND PRINTS THE MODEL ACCURACY"
      ],
      "metadata": {
        "id": "Ef8_d2HaapLo"
      }
    },
    {
      "cell_type": "code",
      "source": [
        "data = pd.read_csv('Car Sale.csv')\n",
        "categorical_columns = data.select_dtypes(include=['object']).columns\n",
        "if not categorical_columns.empty:\n",
        "    label_encoders = {}\n",
        "    for col in categorical_columns:\n",
        "        label_encoders[col] = LabelEncoder()\n",
        "        data[col] = label_encoders[col].fit_transform(data[col])"
      ],
      "metadata": {
        "id": "jaBldC0rANzy"
      },
      "execution_count": 22,
      "outputs": []
    },
    {
      "cell_type": "code",
      "source": [
        "scaler = StandardScaler()\n",
        "X_train = scaler.fit_transform(X_train)\n",
        "X_test = scaler.transform(X_test)"
      ],
      "metadata": {
        "id": "bza-7O5yGWWp"
      },
      "execution_count": 24,
      "outputs": []
    },
    {
      "cell_type": "code",
      "source": [
        "X = data.iloc[:, :-1]\n",
        "y = data.iloc[:, -1]\n",
        "X_train, X_test, y_train, y_test = train_test_split(X, y, test_size=0.2, random_state=1)\n",
        "\n",
        "model = LogisticRegression()\n",
        "model.fit(X_train, y_train)\n",
        "y_pred = model.predict(X_test)\n",
        "print(\"Accuracy:\", accuracy_score(y_test, y_pred))\n"
      ],
      "metadata": {
        "id": "4V5LfWVwAWZK",
        "colab": {
          "base_uri": "https://localhost:8080/"
        },
        "outputId": "89714a9c-d024-45bb-e9af-498649916f91"
      },
      "execution_count": 25,
      "outputs": [
        {
          "output_type": "stream",
          "name": "stdout",
          "text": [
            "Accuracy: 0.16290255123379338\n"
          ]
        }
      ]
    },
    {
      "cell_type": "markdown",
      "source": [
        "Q2-WRITE A PYTHON PROGRAM TO APPLY L1 REGULARIZATION (LASSO) ON A DATASET USING LOGISTICREGRESSION(PENALTY='L1') AND PRINT THE MODEL ACCURACY"
      ],
      "metadata": {
        "id": "d3ULk28fbpPV"
      }
    },
    {
      "cell_type": "code",
      "source": [
        "\n",
        "model_l1 = LogisticRegression(penalty='l1', solver='liblinear')\n",
        "model_l1.fit(X_train, y_train)\n",
        "print(\"L1 Accuracy:\", model_l1.score(X_test, y_test))"
      ],
      "metadata": {
        "id": "kwu-q390BMhY",
        "colab": {
          "base_uri": "https://localhost:8080/"
        },
        "outputId": "332af47d-8f0b-4fb7-e3a0-cbca33ec53ad"
      },
      "execution_count": 26,
      "outputs": [
        {
          "output_type": "stream",
          "name": "stdout",
          "text": [
            "L1 Accuracy: 0.5315767461313258\n"
          ]
        }
      ]
    },
    {
      "cell_type": "markdown",
      "source": [
        "Q3- WRITE A PYTHON PROGRAM TO TRAIN LOGISTIC REGRESSION WITH L2 REGULARIZATION (RIDGE) USING LOGISTICREGRESSION(PENALTY='L2'). PRINT MODEL ACCURACY AND COEFFICIENTS"
      ],
      "metadata": {
        "id": "4YNMSdOwbttq"
      }
    },
    {
      "cell_type": "code",
      "source": [
        "model_l2 = LogisticRegression(penalty='l2')\n",
        "model_l2.fit(X_train, y_train)\n",
        "print(\"L2 Accuracy:\", model_l2.score(X_test, y_test))\n",
        "print(\"Coefficients:\", model_l2.coef_)"
      ],
      "metadata": {
        "colab": {
          "base_uri": "https://localhost:8080/"
        },
        "id": "vCTNPuitGbhs",
        "outputId": "b2744f0c-5abd-4291-cc61-f94ec4dec54a"
      },
      "execution_count": 27,
      "outputs": [
        {
          "output_type": "stream",
          "name": "stdout",
          "text": [
            "L2 Accuracy: 0.16290255123379338\n",
            "Coefficients: [[-4.02545923e-06 -2.63276172e-08 -2.00917210e-07 -7.19502693e-11\n",
            "   2.59056144e-08 -3.25114114e-08 -1.11182107e-09 -8.36269073e-09\n",
            "   7.03786907e-13  7.03786907e-13  2.12886517e-12  1.04160009e-06\n",
            "  -1.87500803e-10 -1.04122591e-10 -1.19576954e-08]\n",
            " [ 1.46564546e-06 -3.96256790e-08 -2.06895887e-07 -2.36669478e-10\n",
            "  -2.04383280e-08  5.84850258e-08  2.07726561e-10  1.83815885e-08\n",
            "   2.64929602e-10  2.64929602e-10 -5.96030773e-11  7.96871010e-07\n",
            "   2.21296679e-08 -2.89371597e-09  2.50122651e-08]\n",
            " [ 2.86372588e-07 -9.63353354e-08 -3.52547984e-07  1.39161175e-10\n",
            "   2.30828607e-10 -1.63589112e-08 -1.57985672e-09 -1.71893840e-08\n",
            "  -3.76497373e-10 -3.76497373e-10 -3.53291452e-10  4.71641981e-07\n",
            "  -3.25618920e-08 -1.38504950e-10 -1.24374308e-08]\n",
            " [-1.46973081e-07  1.41566359e-07  7.57740951e-07  5.92956914e-11\n",
            "   8.03186092e-09  1.35306723e-08  2.21336682e-09  2.63284150e-08\n",
            "   1.70978310e-10  1.70978310e-10  3.13785531e-10 -2.41534931e-07\n",
            "  -2.04624162e-08 -6.14856690e-10  1.72663931e-08]\n",
            " [-1.92142284e-06 -2.45831807e-08 -1.32286879e-07 -1.89717251e-10\n",
            "  -2.74547079e-09 -5.21418922e-08  1.40327067e-09 -1.19233889e-08\n",
            "   1.03992353e-10  1.03992353e-10  3.68376494e-10 -1.51423417e-06\n",
            "  -4.95466058e-08  9.78173263e-12 -6.87308961e-10]\n",
            " [ 1.57225844e-06 -7.71855222e-08 -3.35493852e-07  1.22077133e-10\n",
            "   5.01997869e-08 -2.73171384e-09  5.09576266e-11  7.69178147e-10\n",
            "  -3.41372666e-10 -3.41372666e-10 -1.56941058e-10  4.08891847e-07\n",
            "   4.67991053e-08  3.27617403e-11 -2.22701117e-08]\n",
            " [ 2.76957866e-06  1.22490976e-07  4.70400860e-07  1.77802999e-10\n",
            "  -6.11842920e-08  3.17282307e-08 -1.18364388e-09 -8.00371807e-09\n",
            "   1.77265988e-10  1.77265988e-10 -1.14455302e-10 -9.63235822e-07\n",
            "   3.38296416e-08  3.70865673e-09  5.07388863e-09]]\n"
          ]
        }
      ]
    },
    {
      "cell_type": "markdown",
      "source": [
        "Q4-WRITE A PYTHON PROGRAM TO TRAIN LOGISTIC REGRESSION WITH ELASTIC NET REGULARIZATION (PENALTY='ELASTICNET')"
      ],
      "metadata": {
        "id": "1sd_-u7rb0Hs"
      }
    },
    {
      "cell_type": "code",
      "source": [
        "model_elastic = LogisticRegression(penalty='elasticnet', solver='saga', l1_ratio=0.5)\n",
        "model_elastic.fit(X_train, y_train)\n",
        "print(\"Elastic Net Accuracy:\", model_elastic.score(X_test, y_test))\n"
      ],
      "metadata": {
        "colab": {
          "base_uri": "https://localhost:8080/"
        },
        "id": "ef51Vly7HOxD",
        "outputId": "b7cdab4a-215e-4876-da34-5f473d0e9170"
      },
      "execution_count": 54,
      "outputs": [
        {
          "output_type": "stream",
          "name": "stdout",
          "text": [
            "Elastic Net Accuracy: 0.16248431618569636\n"
          ]
        }
      ]
    },
    {
      "cell_type": "markdown",
      "source": [
        "Q5-  WRITE A PYTHON PROGRAM TO TRAIN A LOGISTIC REGRESSION MODEL FOR MULTICLASS CLASSIFICATION USING MULTI_CLASS='OVR'"
      ],
      "metadata": {
        "id": "vL5llKSicCks"
      }
    },
    {
      "cell_type": "code",
      "source": [
        "model_ovr = LogisticRegression(multi_class='ovr', solver='lbfgs')\n",
        "model_ovr.fit(X_train, y_train)\n",
        "print(\"OvR Accuracy:\", model_ovr.score(X_test, y_test))"
      ],
      "metadata": {
        "colab": {
          "base_uri": "https://localhost:8080/"
        },
        "id": "6qMNYhM2HRPD",
        "outputId": "e377e713-6de3-4527-8d94-5876b4ec7dfa"
      },
      "execution_count": 53,
      "outputs": [
        {
          "output_type": "stream",
          "name": "stdout",
          "text": [
            "OvR Accuracy: 0.1562107904642409\n"
          ]
        }
      ]
    },
    {
      "cell_type": "markdown",
      "source": [
        "Q6-WRITE A PYTHON PROGRAM TO APPLY GRIDSEARCHCV TO TUNE THE HYPERPARAMETERS (C AND PENALTY) OF LOGISTIC REGRESSION PRINT THE BEST PARAMETERS AND ACCURACY"
      ],
      "metadata": {
        "id": "Q51awbxVcHs4"
      }
    },
    {
      "cell_type": "code",
      "source": [
        "param_grid = {'C': [0.01, 0.1, 1, 10], 'penalty': ['l1', 'l2']}\n",
        "grid_search = GridSearchCV(LogisticRegression(solver='liblinear'), param_grid, cv=5)\n",
        "grid_search.fit(X_train, y_train)\n",
        "print(\" Best parameters:\", grid_search.best_params_)\n",
        "print(\"Best Accuracy:\", grid_search.best_score_)\n"
      ],
      "metadata": {
        "colab": {
          "base_uri": "https://localhost:8080/"
        },
        "id": "M3B_SxqSHUkI",
        "outputId": "bfc4b912-1357-416a-b742-15892e4987f4"
      },
      "execution_count": 52,
      "outputs": [
        {
          "output_type": "stream",
          "name": "stdout",
          "text": [
            " Best parameters: {'C': 1, 'penalty': 'l1'}\n",
            "Best Accuracy: 0.528760002187765\n"
          ]
        }
      ]
    },
    {
      "cell_type": "markdown",
      "source": [
        "Q7-WRITE A PYTHON PROGRAM TO EVALUATE LOGISTIC REGRESSION USING STRATIFIED K-FOLD CROSS-VALIDATION. PRINT THE AVERAGE ACCURACY"
      ],
      "metadata": {
        "id": "3xpHVj59cTeG"
      }
    },
    {
      "cell_type": "code",
      "source": [
        "skf = StratifiedKFold(n_splits=5, shuffle=True, random_state=1)\n",
        "cross_val_scores = cross_val_score(model, X, y, cv=skf)\n",
        "print(\"Stratified K-Fold Accuracy:\", np.mean(cross_val_scores))"
      ],
      "metadata": {
        "colab": {
          "base_uri": "https://localhost:8080/"
        },
        "id": "Y24AGt8eHfR5",
        "outputId": "1037c045-eb06-42ac-b898-d76d59f4f938"
      },
      "execution_count": 55,
      "outputs": [
        {
          "output_type": "stream",
          "name": "stdout",
          "text": [
            "Stratified K-Fold Accuracy: 0.1725090367550839\n"
          ]
        }
      ]
    },
    {
      "cell_type": "markdown",
      "source": [
        "Q8-WRITE A PYTHON PROGRAM TO LOAD A DATASET FROM A CSV FILE, APPLY LOGISTIC REGRESSION, AND EVALUATE ITS ACCURACY."
      ],
      "metadata": {
        "id": "kt3MXX01cZEK"
      }
    },
    {
      "cell_type": "code",
      "source": [
        "data = pd.read_csv('Car Sale.csv')\n",
        "categorical_columns = data.select_dtypes(include=['object']).columns\n",
        "if not categorical_columns.empty:\n",
        "    label_encoders = {}\n",
        "    for col in categorical_columns:\n",
        "        label_encoders[col] = LabelEncoder()\n",
        "        data[col] = label_encoders[col].fit_transform(data[col])"
      ],
      "metadata": {
        "id": "Jn5yNFiMHmmj"
      },
      "execution_count": 48,
      "outputs": []
    },
    {
      "cell_type": "code",
      "source": [
        "X = data.iloc[:, :-1]\n",
        "y = data.iloc[:, -1]\n",
        "X_train, X_test, y_train, y_test = train_test_split(X, y, test_size=0.2, random_state=1)"
      ],
      "metadata": {
        "id": "IVGCNETYJUtJ"
      },
      "execution_count": 49,
      "outputs": []
    },
    {
      "cell_type": "code",
      "source": [
        "model = LogisticRegression()\n",
        "model.fit(X_train, y_train)\n",
        "y_pred = model.predict(X_test)\n",
        "print(\" Accuracy:\", accuracy_score(y_test, y_pred))"
      ],
      "metadata": {
        "colab": {
          "base_uri": "https://localhost:8080/"
        },
        "id": "vq4aJ-JuJWO3",
        "outputId": "4b7b2dc1-6c37-43b9-be36-1133e222e825"
      },
      "execution_count": 51,
      "outputs": [
        {
          "output_type": "stream",
          "name": "stdout",
          "text": [
            " Accuracy: 0.16290255123379338\n"
          ]
        }
      ]
    },
    {
      "cell_type": "markdown",
      "source": [
        "Q9-WRITE A PYTHON PROGRAM TO APPLY RANDOMIZEDSEARCHCV FOR TUNING HYPERPARAMETERS (C, PENALTY, SOLVER) IN LOGISTIC REGRESSION. PRINT THE BEST PARAMETERS AND ACCURACY"
      ],
      "metadata": {
        "id": "Eri6EnEycdJb"
      }
    },
    {
      "cell_type": "code",
      "source": [
        "param_dist = {'C': np.logspace(-4, 4, 20), 'penalty': ['l1', 'l2'], 'solver': ['liblinear', 'saga']}\n",
        "random_search = RandomizedSearchCV(LogisticRegression(), param_dist, cv=5, n_iter=10, random_state=1)\n",
        "random_search.fit(X_train, y_train)\n",
        "print(\"Best parameters:\", random_search.best_params_)\n",
        "print(\"Best Accuracy:\", random_search.best_score_)\n"
      ],
      "metadata": {
        "colab": {
          "base_uri": "https://localhost:8080/"
        },
        "id": "IRPHW3NiHu5U",
        "outputId": "39476785-badf-480a-b473-5f63659e0e92"
      },
      "execution_count": 56,
      "outputs": [
        {
          "output_type": "stream",
          "name": "stdout",
          "text": [
            "Best parameters: {'solver': 'liblinear', 'penalty': 'l2', 'C': 4.281332398719396}\n",
            "Best Accuracy: 0.17543401154045996\n"
          ]
        }
      ]
    },
    {
      "cell_type": "markdown",
      "source": [
        "Q10-WRITE A PYTHON PROGRAM TO IMPLEMENT ONE-VS-ONE (OVO) MULTICLASS LOGISTIC REGRESSION AND PRINT ACCURACY"
      ],
      "metadata": {
        "id": "0E9vgawsda7z"
      }
    },
    {
      "cell_type": "code",
      "source": [
        "model_ovo = LogisticRegression(multi_class='multinomial', solver='lbfgs')\n",
        "model_ovo.fit(X_train, y_train)\n",
        "print(\"OvO Accuracy:\", model_ovo.score(X_test, y_test))"
      ],
      "metadata": {
        "colab": {
          "base_uri": "https://localhost:8080/"
        },
        "id": "4zzBQOIHHwaE",
        "outputId": "43c6928d-a692-4ac7-ac3a-774949adf95d"
      },
      "execution_count": 57,
      "outputs": [
        {
          "output_type": "stream",
          "name": "stdout",
          "text": [
            "OvO Accuracy: 0.16290255123379338\n"
          ]
        }
      ]
    },
    {
      "cell_type": "markdown",
      "source": [
        "Q11- WRITE A PYTHON PROGRAM TO TRAIN A LOGISTIC REGRESSION MODEL AND VISUALIZE THE CONFUSION MATRIX FOR BINARY CLASSIFICATION"
      ],
      "metadata": {
        "id": "MoATcBIpdf7c"
      }
    },
    {
      "cell_type": "code",
      "source": [
        "conf_matrix = confusion_matrix(y_test, y_pred)\n",
        "sns.heatmap(conf_matrix, annot=True, fmt='d', cmap='Blues')\n",
        "plt.xlabel('Predicted')\n",
        "plt.ylabel('Actual')\n",
        "plt.title('Confusion Matrix')\n",
        "plt.show()"
      ],
      "metadata": {
        "colab": {
          "base_uri": "https://localhost:8080/",
          "height": 472
        },
        "id": "zYRVcEdvHzh0",
        "outputId": "48e4162c-a428-4789-8588-5161414fe65f"
      },
      "execution_count": 58,
      "outputs": [
        {
          "output_type": "display_data",
          "data": {
            "text/plain": [
              "<Figure size 640x480 with 2 Axes>"
            ],
            "image/png": "[encoded data removed]"
          },
          "metadata": {}
        }
      ]
    },
    {
      "cell_type": "markdown",
      "source": [
        "Q12-WRITE A PYTHON PROGRAM TO TRAIN A LOGISTIC REGRESSION MODEL AND EVALUATE ITS PERFORMANCE USING PRECISION, RECALL, AND F1-SCORE"
      ],
      "metadata": {
        "id": "l5xwoKijdxBq"
      }
    },
    {
      "cell_type": "code",
      "source": [
        "print(\"Classification Report:\\n\", classification_report(y_test, y_pred))"
      ],
      "metadata": {
        "colab": {
          "base_uri": "https://localhost:8080/"
        },
        "id": "uxQsmzVjH32X",
        "outputId": "8c98336e-2d09-41ff-9f8e-f90ddb0471f6"
      },
      "execution_count": 59,
      "outputs": [
        {
          "output_type": "stream",
          "name": "stdout",
          "text": [
            "Classification Report:\n",
            "               precision    recall  f1-score   support\n",
            "\n",
            "           0       0.00      0.00      0.00       655\n",
            "           1       0.16      0.99      0.28       780\n",
            "           2       0.00      0.00      0.00       622\n",
            "           3       0.13      0.01      0.01       727\n",
            "           4       0.00      0.00      0.00       610\n",
            "           5       0.00      0.00      0.00       667\n",
            "           6       0.00      0.00      0.00       721\n",
            "\n",
            "    accuracy                           0.16      4782\n",
            "   macro avg       0.04      0.14      0.04      4782\n",
            "weighted avg       0.05      0.16      0.05      4782\n",
            "\n"
          ]
        }
      ]
    },
    {
      "cell_type": "markdown",
      "source": [
        "Q13- WRITE A PYTHON PROGRAM TO TRAIN A LOGISTIC REGRESSION MODEL ON IMBALANCED DATA AND APPLY CLASS WEIGHTS TO IMPROVE MODEL PERFORMANCE"
      ],
      "metadata": {
        "id": "rpwJmrCjd3ep"
      }
    },
    {
      "cell_type": "code",
      "source": [
        "model_weighted = LogisticRegression(class_weight='balanced')\n",
        "model_weighted.fit(X_train, y_train)\n",
        "print(\"Weighted Model Accuracy:\", model_weighted.score(X_test, y_test))"
      ],
      "metadata": {
        "colab": {
          "base_uri": "https://localhost:8080/"
        },
        "id": "bwQ_OelfH8gi",
        "outputId": "80de1cc2-20d8-45ab-c72c-a2691c40ad9f"
      },
      "execution_count": 60,
      "outputs": [
        {
          "output_type": "stream",
          "name": "stdout",
          "text": [
            "Weighted Model Accuracy: 0.14345462149728147\n"
          ]
        }
      ]
    },
    {
      "cell_type": "markdown",
      "source": [
        "Q14-WRITE A PYTHON PROGRAM TO TRAIN LOGISTIC REGRESSION ON THE TITANIC DATASET, HANDLE MISSING VALUES, AND EVALUATE PERFORMANCE"
      ],
      "metadata": {
        "id": "6bV4BwLzd8Q7"
      }
    },
    {
      "cell_type": "code",
      "source": [],
      "metadata": {
        "id": "8lZzB129IAgG"
      },
      "execution_count": 81,
      "outputs": []
    },
    {
      "cell_type": "markdown",
      "source": [
        "Q15-WRITE A PYTHON PROGRAM TO APPLY FEATURE SCALING (STANDARDIZATION) BEFORE TRAINING A LOGISTIC REGRESSION MODEL. EVALUATE ITS ACCURACY AND COMPARE RESULTS WITH AND WITHOUT SCALING ."
      ],
      "metadata": {
        "id": "jV5xPMU9eAb0"
      }
    },
    {
      "cell_type": "markdown",
      "source": [
        "Q16- WRITE A PYTHON PROGRAM TO TRAIN LOGISTIC REGRESSION AND EVALUATE ITS PERFORMANCE USING ROC-AUC SCORE"
      ],
      "metadata": {
        "id": "eQO0yGSMeHut"
      }
    },
    {
      "cell_type": "code",
      "source": [],
      "metadata": {
        "id": "NUGoUqxaIGZN"
      },
      "execution_count": 81,
      "outputs": []
    },
    {
      "cell_type": "markdown",
      "source": [
        "Q17-WRITE A PYTHON PROGRAM TO TRAIN LOGISTIC REGRESSION USING A CUSTOM LEARNING RATE (C=0.5) AND EVALUATE ACCURACY"
      ],
      "metadata": {
        "id": "4MrFmCWteMlw"
      }
    },
    {
      "cell_type": "code",
      "source": [
        "model_custom_C = LogisticRegression(C=0.5)\n",
        "model_custom_C.fit(X_train, y_train)\n",
        "print(\"Accuracy with C=0.5:\", model_custom_C.score(X_test, y_test))"
      ],
      "metadata": {
        "colab": {
          "base_uri": "https://localhost:8080/"
        },
        "id": "Vzm1D1BCM15o",
        "outputId": "8cf4b4c1-52bc-4ba2-ac1e-d1bc06d2f77b"
      },
      "execution_count": 78,
      "outputs": [
        {
          "output_type": "stream",
          "name": "stdout",
          "text": [
            "Accuracy with C=0.5: 0.16290255123379338\n"
          ]
        }
      ]
    },
    {
      "cell_type": "markdown",
      "source": [
        "Q18-WRITE A PYTHON PROGRAM TO TRAIN LOGISTIC REGRESSION AND IDENTIFY IMPORTANT FEATURES BASED ON MODEL COEFFICIENTS"
      ],
      "metadata": {
        "id": "mC5RNCPxeVeK"
      }
    },
    {
      "cell_type": "code",
      "source": [
        "feature_importance = model.coef_\n",
        "print(\"Feature Importance:\", feature_importance)"
      ],
      "metadata": {
        "colab": {
          "base_uri": "https://localhost:8080/"
        },
        "id": "D0AxRBhoM7MN",
        "outputId": "f4c26f89-e9e3-480d-a214-9b4358f4156f"
      },
      "execution_count": 79,
      "outputs": [
        {
          "output_type": "stream",
          "name": "stdout",
          "text": [
            "Feature Importance: [[-4.02545923e-06 -2.63276172e-08 -2.00917210e-07 -7.19502693e-11\n",
            "   2.59056144e-08 -3.25114114e-08 -1.11182107e-09 -8.36269073e-09\n",
            "   7.03786907e-13  7.03786907e-13  2.12886517e-12  1.04160009e-06\n",
            "  -1.87500803e-10 -1.04122591e-10 -1.19576954e-08]\n",
            " [ 1.46564546e-06 -3.96256790e-08 -2.06895887e-07 -2.36669478e-10\n",
            "  -2.04383280e-08  5.84850258e-08  2.07726561e-10  1.83815885e-08\n",
            "   2.64929602e-10  2.64929602e-10 -5.96030773e-11  7.96871010e-07\n",
            "   2.21296679e-08 -2.89371597e-09  2.50122651e-08]\n",
            " [ 2.86372588e-07 -9.63353354e-08 -3.52547984e-07  1.39161175e-10\n",
            "   2.30828607e-10 -1.63589112e-08 -1.57985672e-09 -1.71893840e-08\n",
            "  -3.76497373e-10 -3.76497373e-10 -3.53291452e-10  4.71641981e-07\n",
            "  -3.25618920e-08 -1.38504950e-10 -1.24374308e-08]\n",
            " [-1.46973081e-07  1.41566359e-07  7.57740951e-07  5.92956914e-11\n",
            "   8.03186092e-09  1.35306723e-08  2.21336682e-09  2.63284150e-08\n",
            "   1.70978310e-10  1.70978310e-10  3.13785531e-10 -2.41534931e-07\n",
            "  -2.04624162e-08 -6.14856690e-10  1.72663931e-08]\n",
            " [-1.92142284e-06 -2.45831807e-08 -1.32286879e-07 -1.89717251e-10\n",
            "  -2.74547079e-09 -5.21418922e-08  1.40327067e-09 -1.19233889e-08\n",
            "   1.03992353e-10  1.03992353e-10  3.68376494e-10 -1.51423417e-06\n",
            "  -4.95466058e-08  9.78173263e-12 -6.87308961e-10]\n",
            " [ 1.57225844e-06 -7.71855222e-08 -3.35493852e-07  1.22077133e-10\n",
            "   5.01997869e-08 -2.73171384e-09  5.09576266e-11  7.69178147e-10\n",
            "  -3.41372666e-10 -3.41372666e-10 -1.56941058e-10  4.08891847e-07\n",
            "   4.67991053e-08  3.27617403e-11 -2.22701117e-08]\n",
            " [ 2.76957866e-06  1.22490976e-07  4.70400860e-07  1.77802999e-10\n",
            "  -6.11842920e-08  3.17282307e-08 -1.18364388e-09 -8.00371807e-09\n",
            "   1.77265988e-10  1.77265988e-10 -1.14455302e-10 -9.63235822e-07\n",
            "   3.38296416e-08  3.70865673e-09  5.07388863e-09]]\n"
          ]
        }
      ]
    },
    {
      "cell_type": "markdown",
      "source": [
        "Q19-WRITE A PYTHON PROGRAM TO TRAIN LOGISTIC REGRESSION AND EVALUATE ITS PERFORMANCE USING COHEN’S KAPPA SCORE"
      ],
      "metadata": {
        "id": "nVvMjcQneaRb"
      }
    },
    {
      "cell_type": "code",
      "source": [
        "kappa_score = cohen_kappa_score(y_test, y_pred)\n",
        "print(\"Cohen’s Kappa Score:\", kappa_score)"
      ],
      "metadata": {
        "colab": {
          "base_uri": "https://localhost:8080/"
        },
        "id": "-_2n-ownIgfV",
        "outputId": "413ed076-1ee1-4ce5-8413-9d810ab5df54"
      },
      "execution_count": 69,
      "outputs": [
        {
          "output_type": "stream",
          "name": "stdout",
          "text": [
            "Cohen’s Kappa Score: -0.00015219886607931166\n"
          ]
        }
      ]
    },
    {
      "cell_type": "markdown",
      "source": [
        "Q20-WRITE A PYTHON PROGRAM TO TRAIN LOGISTIC REGRESSION AND VISUALIZE THE PRECISION-RECALL CURVE FOR BINARY CLASSIFICATION."
      ],
      "metadata": {
        "id": "_Imd__xYefDD"
      }
    },
    {
      "cell_type": "code",
      "source": [
        "if len(set(y_test)) > 2:\n",
        "    print(\"Precision-Recall Curve is not supported for multiclass classification.\")\n",
        "else:\n",
        "    precision, recall, _ = precision_recall_curve(y_test, model.predict_proba(X_test)[:, 1])\n",
        "    plt.plot(recall, precision, marker='.')\n",
        "    plt.xlabel('Recall')\n",
        "    plt.ylabel('Precision')\n",
        "    plt.title('Precision-Recall Curve')\n",
        "    plt.show()\n"
      ],
      "metadata": {
        "colab": {
          "base_uri": "https://localhost:8080/"
        },
        "id": "c2bqaw1IKyzB",
        "outputId": "1486686f-5529-4638-ad9e-b01497b4f1b5"
      },
      "execution_count": 70,
      "outputs": [
        {
          "output_type": "stream",
          "name": "stdout",
          "text": [
            "Precision-Recall Curve is not supported for multiclass classification.\n"
          ]
        }
      ]
    },
    {
      "cell_type": "markdown",
      "source": [
        "Q21-WRITE A PYTHON PROGRAM TO TRAIN LOGISTIC REGRESSION WITH DIFFERENT SOLVERS (LIBLINEAR, SAGA, LBFGS) AND COMPARE THEIR ACCURACY."
      ],
      "metadata": {
        "id": "f0TyirvFelYU"
      }
    },
    {
      "cell_type": "code",
      "source": [
        "solvers = ['liblinear', 'saga', 'lbfgs']\n",
        "for solver in solvers:\n",
        "    model_solver = LogisticRegression(solver=solver)\n",
        "    model_solver.fit(X_train, y_train)\n",
        "    print(f\"Q21 Accuracy with {solver} solver:\", model_solver.score(X_test, y_test))"
      ],
      "metadata": {
        "colab": {
          "base_uri": "https://localhost:8080/"
        },
        "id": "L2cueGepItXX",
        "outputId": "86f011cc-12cc-49e9-b5bc-757698c18463"
      },
      "execution_count": 43,
      "outputs": [
        {
          "output_type": "stream",
          "name": "stdout",
          "text": [
            "Q21 Accuracy with liblinear solver: 0.16227519866164786\n",
            "Q21 Accuracy with saga solver: 0.16248431618569636\n",
            "Q21 Accuracy with lbfgs solver: 0.16290255123379338\n"
          ]
        }
      ]
    },
    {
      "cell_type": "markdown",
      "source": [
        "Q22-WRITE A PYTHON PROGRAM TO TRAIN LOGISTIC REGRESSION AND EVALUATE ITS PERFORMANCE USING MATTHEWS CORRELATION COEFFICIENT (MCC) ."
      ],
      "metadata": {
        "id": "rWGPvQaqeqZ6"
      }
    },
    {
      "cell_type": "code",
      "source": [
        "mcc = matthews_corrcoef(y_test, y_pred)\n",
        "print(\"MCC:\", mcc)\n"
      ],
      "metadata": {
        "colab": {
          "base_uri": "https://localhost:8080/"
        },
        "id": "PdMhlJ0uIlmA",
        "outputId": "648e3294-50f0-462d-e63c-5b7f1ebcf54e"
      },
      "execution_count": 75,
      "outputs": [
        {
          "output_type": "stream",
          "name": "stdout",
          "text": [
            "MCC: -0.0011757066560095096\n"
          ]
        }
      ]
    },
    {
      "cell_type": "markdown",
      "source": [
        "Q23-WRITE A PYTHON PROGRAM TO TRAIN LOGISTIC REGRESSION ON BOTH RAW AND STANDARDIZED DATA. COMPARE THEIR ACCURACY TO SEE THE IMPACT OF FEATURE SCALING."
      ],
      "metadata": {
        "id": "KIFNlhHnevlo"
      }
    },
    {
      "cell_type": "code",
      "source": [
        "car_data = pd.read_csv('Car Sale.csv')\n"
      ],
      "metadata": {
        "id": "2k5VismoLe9t"
      },
      "execution_count": 86,
      "outputs": []
    },
    {
      "cell_type": "markdown",
      "source": [
        "Q24-WRITE A PYTHON PROGRAM TO TRAIN LOGISTIC REGRESSION AND FIND THE OPTIMAL C (REGULARIZATION STRENGTH) USING CROSS-VALIDATION."
      ],
      "metadata": {
        "id": "gNQWAdsMe1Ym"
      }
    },
    {
      "cell_type": "code",
      "source": [
        "c_values = [0.01, 0.1, 1, 10, 100]\n",
        "cv_scores = {}\n",
        "for c in c_values:\n",
        "    model_c = LogisticRegression(C=c)\n",
        "    scores = cross_val_score(model_c, X_train, y_train, cv=5)\n",
        "    cv_scores[c] = np.mean(scores)\n",
        "print(\" Optimal C:\", max(cv_scores, key=cv_scores.get))\n",
        "print(\"Best Accuracy:\", max(cv_scores.values()))\n"
      ],
      "metadata": {
        "colab": {
          "base_uri": "https://localhost:8080/"
        },
        "id": "PrKI6i64LQv9",
        "outputId": "b51010dc-54ff-4eb9-8e8a-70fca6d207da"
      },
      "execution_count": 72,
      "outputs": [
        {
          "output_type": "stream",
          "name": "stdout",
          "text": [
            " Optimal C: 0.01\n",
            "Best Accuracy: 0.17564316186725734\n"
          ]
        }
      ]
    },
    {
      "cell_type": "markdown",
      "source": [
        "Q25-WRITE A PYTHON PROGRAM TO TRAIN LOGISTIC REGRESSION, SAVE THE TRAINED MODEL USING JOBLIB, AND LOAD IT AGAIN TO MAKE PREDICTIONS."
      ],
      "metadata": {
        "id": "DSdD1Afde5xm"
      }
    },
    {
      "cell_type": "code",
      "source": [
        "joblib.dump(model, 'logistic_regression_model.pkl')\n",
        "loaded_model = joblib.load('logistic_regression_model.pkl')\n",
        "print(\"Loaded Model Accuracy:\", loaded_model.score(X_test, y_test))"
      ],
      "metadata": {
        "colab": {
          "base_uri": "https://localhost:8080/"
        },
        "id": "C8VgIpC-Io16",
        "outputId": "feb2e063-2389-474f-d03e-8cfd76870a98"
      },
      "execution_count": 73,
      "outputs": [
        {
          "output_type": "stream",
          "name": "stdout",
          "text": [
            "Loaded Model Accuracy: 0.16290255123379338\n"
          ]
        }
      ]
    }
  ]
}