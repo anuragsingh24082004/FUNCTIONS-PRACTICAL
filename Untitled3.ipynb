{
  "nbformat": 4,
  "nbformat_minor": 0,
  "metadata": {
    "colab": {
      "provenance": [],
      "authorship_tag": "ABX9TyNG85GPf5euWE+pyzY/OR5K",
      "include_colab_link": true
    },
    "kernelspec": {
      "name": "python3",
      "display_name": "Python 3"
    },
    "language_info": {
      "name": "python"
    }
  },
  "cells": [
    {
      "cell_type": "markdown",
      "metadata": {
        "id": "view-in-github",
        "colab_type": "text"
      },
      "source": [
        "<a href=\"https://colab.research.google.com/github/anuragsingh24082004/FUNCTIONS-PRACTICAL/blob/main/Untitled3.ipynb\" target=\"_parent\"><img src=\"https://colab.research.google.com/assets/colab-badge.svg\" alt=\"Open In Colab\"/></a>"
      ]
    },
    {
      "cell_type": "markdown",
      "source": [
        "GOOGLE COLAB LINK - https://colab.research.google.com/drive/1FrN06ezML5Jyjyg8je9KYYhB14GPPlRV?usp=sharing"
      ],
      "metadata": {
        "id": "7mVRBYRfJZCC"
      }
    },
    {
      "cell_type": "markdown",
      "source": [
        "GITHUB LINK -"
      ],
      "metadata": {
        "id": "78drDiWiKsq1"
      }
    },
    {
      "cell_type": "markdown",
      "source": [
        "# **THEORY**"
      ],
      "metadata": {
        "id": "Z9w6QoaYJTnu"
      }
    },
    {
      "cell_type": "markdown",
      "source": [
        "**Q1. WHAT IS A SUPPORT VECTOR MACHINE (SVM)?**"
      ],
      "metadata": {
        "id": "fb-d2NE48C0W"
      }
    },
    {
      "cell_type": "markdown",
      "source": [
        "ANSWER 1. A SUPPORT VECTOR MACHINE (SVM) IS A MACHINE LEARNING MODEL USED FOR CLASSIFICATION AND REGRESSION. IT WORK BY FINDING THE BEST LINE OR PLANE THAT SEPARATES DATA INTO DIFFERENT CATEGORIES.  \n"
      ],
      "metadata": {
        "id": "7XPPFYl8GS8g"
      }
    },
    {
      "cell_type": "markdown",
      "source": [
        "**Q2. WHAT IS THE DIFFERENCE BETWEEN HARD MARGIN AND SOFT MARGIN SVM?**"
      ],
      "metadata": {
        "id": "dCQ-Mrgb8CEM"
      }
    },
    {
      "cell_type": "markdown",
      "source": [
        "ANSWER 2. HARD MARGIN SVM STRICTLY SEPARATE DATA WITHOUT ANY MISTAKES, BUT IT ONLY WORK WHEN DATA IS PERFECTLY SEPARABLE. SOFT MARGIN SVM ALLOWS SOME MISTAKE TO MAKE THE MODEL MORE FLEXIBLE AND WORK BETTER WITH REAL-WORLD DATA.  \n"
      ],
      "metadata": {
        "id": "VmQ-sPKrGZVz"
      }
    },
    {
      "cell_type": "markdown",
      "source": [
        "**Q3. WHAT IS THE MATHEMATICAL INTUITION BEHIND SVM?**"
      ],
      "metadata": {
        "id": "8iy-l-6w8FPF"
      }
    },
    {
      "cell_type": "markdown",
      "source": [
        "ANSWER 3. SVM TRIES TO FIND A LINE (OR PLANE) THAT MAXIMIZES THE GAP BETWEEN DIFFERENT CLASSES. THIS GAP IS CALLED A \"MARGIN.\" IT USES MATH CONCEPTS LIKE VECTORS AND DOT PRODUCTS TO DO THIS.  \n"
      ],
      "metadata": {
        "id": "YYKotU7JGce0"
      }
    },
    {
      "cell_type": "markdown",
      "source": [
        "**Q4. WHAT IS THE ROLE OF LAGRANGE MULTIPLIERS IN SVM?**"
      ],
      "metadata": {
        "id": "n_XX8O4A8Ft1"
      }
    },
    {
      "cell_type": "markdown",
      "source": [
        "ANSWER 4. LAGRANGE MULTIPLIERS HELP IN SOLVING THE SVM OPTIMIZATION PROBLEM. THEY HELP TO MAXIMIZE THE MARGIN WHILE ENSURING THAT ALL POINTS ARE CLASSIFIED CORRECTLY OR WITH MINIMAL MISTAKES.  \n"
      ],
      "metadata": {
        "id": "QVVLploAGfdf"
      }
    },
    {
      "cell_type": "markdown",
      "source": [
        "**Q5. WHAT ARE SUPPORT VECTORS IN SVM?**  "
      ],
      "metadata": {
        "id": "-lGFqoIm8GCE"
      }
    },
    {
      "cell_type": "markdown",
      "source": [
        "ANSWER 5. SUPPORT VECTORS ARE THE DATA POINT WHICH IS CLOSEST TO THE DECISION BOUNDARY. THEY ARE IMPORTANT BECAUSE THEY DEFINE THE POSITION OF THE SEPARATING LINE OR PLANE.  \n"
      ],
      "metadata": {
        "id": "ie2NgHexGiF-"
      }
    },
    {
      "cell_type": "markdown",
      "source": [
        "**Q6. WHAT IS A SUPPORT VECTOR CLASSIFIER (SVC)?**\n"
      ],
      "metadata": {
        "id": "OqRQPDJ28GxF"
      }
    },
    {
      "cell_type": "markdown",
      "source": [
        "ANSWER 6. A SUPPORT VECTOR CLASSIFIER (SVC) IS A TYPE OF SVM USED FOR CLASSIFICATION TASKS. IT TRIES TO SEPARATE DATA INTO DIFFERENT GROUPS USING THE BEST POSSIBLE LINE OR PLANE.  \n"
      ],
      "metadata": {
        "id": "suhW_2GyGlKS"
      }
    },
    {
      "cell_type": "markdown",
      "source": [
        "**Q7. WHAT IS A SUPPORT VECTOR REGRESSOR (SVR)?**\n"
      ],
      "metadata": {
        "id": "qI6uwTjt8HGA"
      }
    },
    {
      "cell_type": "markdown",
      "source": [
        "ANSWER 7. A SUPPORT VECTOR REGRESSOR (SVR) IS SIMILAR TO SVC BUT USED FOR PREDICTING NUMERICAL VALUES INSTEAD OF CLASSIFYING DATA. IT TRY TO KEEP MOST DATA POINTS WITHIN A CERTAIN RANGE FROM THE PREDICTED LINE.  \n"
      ],
      "metadata": {
        "id": "DvMpEN6IGpQ8"
      }
    },
    {
      "cell_type": "markdown",
      "source": [
        "**Q8. WHAT IS THE KERNEL TRICK IN SVM?**  \n"
      ],
      "metadata": {
        "id": "fFpd_D6z8HXx"
      }
    },
    {
      "cell_type": "markdown",
      "source": [
        "ANSWER 8. THE KERNEL TRICK IS A METHOD IN SVM THAT TRANSFORMS DATA INTO A HIGHER DIMENSION TO MAKE IT EASIER TO SEPARATE. THIS HELP WHEN DATA IS NOT LINEARLY SEPARABLE."
      ],
      "metadata": {
        "id": "UtdQwbMDGwGY"
      }
    },
    {
      "cell_type": "markdown",
      "source": [
        "**Q9. COMPARE LINEAR KERNEL, POLYNOMIAL KERNEL, AND RBF KERNEL.**  \n"
      ],
      "metadata": {
        "id": "n179caES8HxE"
      }
    },
    {
      "cell_type": "markdown",
      "source": [
        "ANSWER 9. A LINEAR KERNEL WORKS WHEN DATA CAN BE SEPARATED BY A STRAIGHT LINE. A POLYNOMIAL KERNEL USES CURVED BOUNDARIES FOR MORE COMPLEX DATA. AN RBF (RADIAL BASIS FUNCTION) KERNEL IS VERY FLEXIBLE AND WORKS WELL WHEN DATA HAS COMPLEX RELATIONSHIPS."
      ],
      "metadata": {
        "id": "Mrwnko8uGyYi"
      }
    },
    {
      "cell_type": "markdown",
      "source": [
        "Q10. WHAT IS THE EFFECT OF THE C PARAMETER IN SVM?  \n"
      ],
      "metadata": {
        "id": "Lp6DT59g8ITz"
      }
    },
    {
      "cell_type": "markdown",
      "source": [
        "ANSWER 10. THE C PARAMETER CONTROLS HOW MUCH THE MODEL PUNISHES MISTAKES. A HIGH C MAKES THE MODEL STRICTER (LESS MISTAKES ALLOWED), WHILE A LOW C MAKES IT MORE FLEXIBLE (MORE MISTAKES ALLOWED)."
      ],
      "metadata": {
        "id": "l3ivah1MG2Fd"
      }
    },
    {
      "cell_type": "markdown",
      "source": [
        "**Q11. WHAT IS THE ROLE OF THE GAMMA PARAMETER IN RBF KERNEL SVM?**"
      ],
      "metadata": {
        "id": "l1ttRcSL8Iko"
      }
    },
    {
      "cell_type": "markdown",
      "source": [
        "ANSWER 11. THE GAMMA PARAMETER CONTROLS HOW FAR A SINGLE DATA POINT CAN INFLUENCE THE DECISION BOUNDARY. A HIGH GAMMA FOCUSES MORE ON CLOSE POINTS, WHILE A LOW GAMMA CONSIDERS POINTS FARTHER AWAY."
      ],
      "metadata": {
        "id": "qf-QIenOG4bs"
      }
    },
    {
      "cell_type": "markdown",
      "source": [
        "**Q12. WHAT IS THE NAÏVE BAYES CLASSIFIER, AND WHY IS IT CALLED \"NAÏVE\"?**\n"
      ],
      "metadata": {
        "id": "UNRIFRNc8I0-"
      }
    },
    {
      "cell_type": "markdown",
      "source": [
        "ANSWER 12. A NAÏVE BAYES CLASSIFIER IS A MACHINE LEARNING MODEL BASED ON BAYES’ THEOREM. IT IS CALLED \"NAÏVE\" BECAUSE IT ASSUMES THAT ALL FEATURES ARE INDEPENDENT, WHICH IS NOT ALWAYS TRUE IN REAL DATA."
      ],
      "metadata": {
        "id": "svERLOO7G6vZ"
      }
    },
    {
      "cell_type": "markdown",
      "source": [
        "**Q13. WHAT IS BAYES' THEOREM?**  \n"
      ],
      "metadata": {
        "id": "OBzicOhl8JDm"
      }
    },
    {
      "cell_type": "markdown",
      "source": [
        "ANSWER 13. BAYES' THEOREM IS A FORMULA USED TO FIND THE PROBABILITY OF AN EVENT BASED ON PRIOR KNOWLEDGE OF CONDITIONS RELATED TO THE EVENT. IT HELPS IN PREDICTING OUTCOMES BASED ON EXISTING DATA."
      ],
      "metadata": {
        "id": "eQrAqNq1G8y5"
      }
    },
    {
      "cell_type": "markdown",
      "source": [
        "**Q14. EXPLAIN THE DIFFERENCES BETWEEN GAUSSIAN NAÏVE BAYES, MULTINOMIAL NAÏVE BAYES, AND BERNOULLI NAÏVE BAYES.**  \n"
      ],
      "metadata": {
        "id": "qthNQpLp8JRb"
      }
    },
    {
      "cell_type": "markdown",
      "source": [
        "ANSWER 14. GAUSSIAN NAÏVE BAYES IS USED FOR DATA THAT FOLLOWS A NORMAL DISTRIBUTION. MULTINOMIAL NAÏVE BAYES IS USED FOR TEXT DATA LIKE DOCUMENT CLASSIFICATION. BERNOULLI NAÏVE BAYES IS USED FOR BINARY DATA (YES/NO OR TRUE/FALSE)."
      ],
      "metadata": {
        "id": "xXuLJbh6G_uC"
      }
    },
    {
      "cell_type": "markdown",
      "source": [
        "**Q15. WHEN SHOULD YOU USE GAUSSIAN NAÏVE BAYES OVER OTHER VARIANTS?**  \n"
      ],
      "metadata": {
        "id": "J_qVPvSU8Jrp"
      }
    },
    {
      "cell_type": "markdown",
      "source": [
        "ANSWER 15. GAUSSIAN NAÏVE BAYES IS BEST WHEN DATA HAS CONTINUOUS VALUES AND FOLLOWS A NORMAL DISTRIBUTION. IT WORKS WELL FOR CLASSIFYING DATA WITH MEASUREMENTS LIKE HEIGHT, WEIGHT, OR TEMPERATURE."
      ],
      "metadata": {
        "id": "lzWdAsWNHCOG"
      }
    },
    {
      "cell_type": "markdown",
      "source": [
        "**Q16. WHAT ARE THE KEY ASSUMPTIONS MADE BY NAÏVE BAYES?**\n"
      ],
      "metadata": {
        "id": "znltUbtA8J54"
      }
    },
    {
      "cell_type": "markdown",
      "source": [
        "ANSWER 16. NAÏVE BAYES ASSUME THAT ALL FEATURES ARE INDEPENDENT, DATA FOLLOWS A SPECIFIC PROBABILITY DISTRIBUTION, AND EACH FEATURE CONTRIBUTES EQUALLY TO THE FINAL CLASSIFICATION."
      ],
      "metadata": {
        "id": "Bx9l83hdHEtm"
      }
    },
    {
      "cell_type": "markdown",
      "source": [
        "**Q17. WHAT ARE THE ADVANTAGES AND DISADVANTAGES OF NAÏVE BAYES?**\n"
      ],
      "metadata": {
        "id": "BWjMxIuQ8LpY"
      }
    },
    {
      "cell_type": "markdown",
      "source": [
        "ANSWER 17. ADVANTAGES OF NAÏVE BAYES: IT IS FAST, WORK WELL WITH SMALL DATA, AND IS GOOD FOR TEXT CLASSIFICATION. DISADVANTAGES: IT ASSUMES FEATURES ARE INDEPENDENT, WHICH IS NOT ALWAYS TRUE, AND IT MAY NOT WORK WELL WITH COMPLEX DATA RELATIONSHIPS."
      ],
      "metadata": {
        "id": "oyaDohp7HHHy"
      }
    },
    {
      "cell_type": "markdown",
      "source": [
        "**Q18. WHY IS NAÏVE BAYES A GOOD CHOICE FOR TEXT CLASSIFICATION?**\n"
      ],
      "metadata": {
        "id": "0Ph6JpFo8MC-"
      }
    },
    {
      "cell_type": "markdown",
      "source": [
        "ANSWER 18. NAÏVE BAYES IS GOOD FOR TEXT CLASSIFICATION BECAUSE IT WORKS WELL WITH WORD FREQUENCIES AND CAN HANDLE LARGE AMOUNTS OF TEXT DATA QUICKLY. IT IS USED IN SPAM DETECTION AND SENTIMENT ANALYSIS."
      ],
      "metadata": {
        "id": "jLpOsRICHLsd"
      }
    },
    {
      "cell_type": "markdown",
      "source": [
        "**Q19. COMPARE SVM AND NAÏVE BAYES FOR CLASSIFICATION TASKS.**\n"
      ],
      "metadata": {
        "id": "ra43ucY78Mcs"
      }
    },
    {
      "cell_type": "markdown",
      "source": [
        "ANSWER 19. SVM IS GOOD WHEN DATA IS COMPLEX AND HAS A CLEAR BOUNDARY BETWEEN CLASSES. NAÏVE BAYES IS BETTER WHEN FEATURES ARE INDEPENDENT AND FOR TEXT DATA. SVM TAKES MORE TIME, WHILE NAÏVE BAYES IS FASTER."
      ],
      "metadata": {
        "id": "kIJMaqmJHOU3"
      }
    },
    {
      "cell_type": "markdown",
      "source": [
        "**Q20. HOW DOES LAPLACE SMOOTHING HELP IN NAÏVE BAYES?**  "
      ],
      "metadata": {
        "id": "4x5m9ctB8MvA"
      }
    },
    {
      "cell_type": "markdown",
      "source": [
        "ANSWER 20. LAPLACE SMOOTHING PREVENTS PROBLEMS WHEN A CATEGORY HAS ZERO PROBABILITY. IT ADDS A SMALL VALUE TO ALL POSSIBLE CATEGORIES TO ENSURE NO PROBABILITY IS ZERO, MAKING PREDICTIONS MORE RELIABLE."
      ],
      "metadata": {
        "id": "RoXjAy42HQ__"
      }
    },
    {
      "cell_type": "markdown",
      "source": [
        "# **PRACTICAL**"
      ],
      "metadata": {
        "id": "BGgdj7MA8M-X"
      }
    },
    {
      "cell_type": "markdown",
      "source": [
        "Q21. WRITE A PYTHON PROGRAM TO TRAIN AN SVM CLASSIFIER ON THE IRIS DATASET AND EVALUATE ACCURACY."
      ],
      "metadata": {
        "id": "XWwrrA308NZs"
      }
    },
    {
      "cell_type": "code",
      "source": [
        "from sklearn import datasets\n",
        "from sklearn.model_selection import train_test_split\n",
        "from sklearn.svm import SVC\n",
        "from sklearn.metrics import accuracy_score\n",
        "\n",
        "iris = datasets.load_iris()\n",
        "X, y = iris.data, iris.target\n",
        "X_train, X_test, y_train, y_test = train_test_split(X, y, test_size=0.2, random_state=1)\n",
        "\n",
        "svm = SVC()\n",
        "svm.fit(X_train, y_train)\n",
        "\n",
        "y_pred = svm.predict(X_test)\n",
        "print(\"Accuracy:\", accuracy_score(y_test, y_pred))\n"
      ],
      "metadata": {
        "colab": {
          "base_uri": "https://localhost:8080/"
        },
        "id": "a-PkUXRFfA1v",
        "outputId": "d1735def-964c-4926-c6c4-7731f0a13a76"
      },
      "execution_count": 1,
      "outputs": [
        {
          "output_type": "stream",
          "name": "stdout",
          "text": [
            "Accuracy: 1.0\n"
          ]
        }
      ]
    },
    {
      "cell_type": "markdown",
      "source": [
        "Q22. WRITE A PYTHON PROGRAM TO TRAIN TWO SVM CLASSIFIERS WITH LINEAR AND RBF KERNELS ON THE WINE DATASET, THEN COMPARE THEIR ACCURACIES."
      ],
      "metadata": {
        "id": "CtwcD5oN8N2f"
      }
    },
    {
      "cell_type": "code",
      "source": [
        "from sklearn import datasets\n",
        "from sklearn.model_selection import train_test_split\n",
        "from sklearn.svm import SVC\n",
        "from sklearn.metrics import accuracy_score\n",
        "\n",
        "wine = datasets.load_wine()\n",
        "X, y = wine.data, wine.target\n",
        "X_train, X_test, y_train, y_test = train_test_split(X, y, test_size=0.2, random_state=42)\n",
        "\n",
        "svm_linear = SVC(kernel='linear')\n",
        "svm_rbf = SVC(kernel='rbf')\n",
        "\n",
        "svm_linear.fit(X_train, y_train)\n",
        "svm_rbf.fit(X_train, y_train)\n",
        "\n",
        "y_pred_linear = svm_linear.predict(X_test)\n",
        "y_pred_rbf = svm_rbf.predict(X_test)\n",
        "\n",
        "print(\"Linear Kernel Accuracy:\", accuracy_score(y_test, y_pred_linear))\n",
        "print(\"RBF Kernel Accuracy:\", accuracy_score(y_test, y_pred_rbf))\n"
      ],
      "metadata": {
        "colab": {
          "base_uri": "https://localhost:8080/"
        },
        "id": "RCHVvtOWfITk",
        "outputId": "182ac0cd-551a-4170-bc27-f2397a0cb703"
      },
      "execution_count": 2,
      "outputs": [
        {
          "output_type": "stream",
          "name": "stdout",
          "text": [
            "Linear Kernel Accuracy: 1.0\n",
            "RBF Kernel Accuracy: 0.8055555555555556\n"
          ]
        }
      ]
    },
    {
      "cell_type": "markdown",
      "source": [
        "Q23. WRITE A PYTHON PROGRAM TO TRAIN AN SVM REGRESSOR (SVR) ON A HOUSING DATASET AND EVALUATE IT USING MEAN SQUARED ERROR (MSE)."
      ],
      "metadata": {
        "id": "LAvQrG3o8OUD"
      }
    },
    {
      "cell_type": "code",
      "source": [
        "from sklearn.svm import SVR\n",
        "from sklearn.model_selection import train_test_split\n",
        "from sklearn.metrics import mean_squared_error\n",
        "from sklearn.datasets import fetch_california_housing\n",
        "\n",
        "housing = fetch_california_housing()\n",
        "X, y = housing.data, housing.target\n",
        "X_train, X_test, y_train, y_test = train_test_split(X, y, test_size=0.2, random_state=42)\n",
        "\n",
        "svr = SVR()\n",
        "svr.fit(X_train, y_train)\n",
        "\n",
        "y_pred = svr.predict(X_test)\n",
        "print(\"MSE:\", mean_squared_error(y_test, y_pred))\n"
      ],
      "metadata": {
        "colab": {
          "base_uri": "https://localhost:8080/"
        },
        "id": "i74HALYofo73",
        "outputId": "f3d10c3a-f751-4d66-dbef-4b6a88f7ac3b"
      },
      "execution_count": 3,
      "outputs": [
        {
          "output_type": "stream",
          "name": "stdout",
          "text": [
            "MSE: 1.3320115421348744\n"
          ]
        }
      ]
    },
    {
      "cell_type": "markdown",
      "source": [
        "Q24. WRITE A PYTHON PROGRAM TO TRAIN AN SVM CLASSIFIER WITH A POLYNOMIAL KERNEL AND VISUALIZE THE DECISION BOUNDARY."
      ],
      "metadata": {
        "id": "7FSY2aw-8O4W"
      }
    },
    {
      "cell_type": "code",
      "source": [
        "import numpy as np\n",
        "import matplotlib.pyplot as plt\n",
        "from sklearn.svm import SVC\n",
        "from sklearn.datasets import make_classification\n",
        "X, y = make_classification(n_features=2, n_redundant=0, n_informative=2,n_clusters_per_class=1, random_state=42)\n",
        "svm_poly = SVC(kernel='poly', degree=3)\n",
        "svm_poly.fit(X, y)\n",
        "\n",
        "xx, yy = np.meshgrid(np.linspace(X[:, 0].min(), X[:, 0].max(), 100),np.linspace(X[:, 1].min(), X[:, 1].max(), 100))\n",
        "Z = svm_poly.predict(np.c_[xx.ravel(), yy.ravel()])\n",
        "Z = Z.reshape(xx.shape)\n",
        "\n",
        "plt.contourf(xx, yy, Z, alpha=0.3)\n",
        "plt.scatter(X[:, 0], X[:, 1], c=y, edgecolors='k')\n",
        "plt.title(\"SVM Classifier with Polynomial Kernel\")\n",
        "plt.show()\n"
      ],
      "metadata": {
        "colab": {
          "base_uri": "https://localhost:8080/",
          "height": 452
        },
        "id": "7ngdvimofsbT",
        "outputId": "ff1b17ca-23d8-49da-db34-ab50dde77d16"
      },
      "execution_count": 6,
      "outputs": [
        {
          "output_type": "display_data",
          "data": {
            "text/plain": [
              "<Figure size 640x480 with 1 Axes>"
            ],
            "image/png": "[encoded data removed]"
          },
          "metadata": {}
        }
      ]
    },
    {
      "cell_type": "markdown",
      "source": [
        "Q25. WRITE A PYTHON PROGRAM TO TRAIN A GAUSSIAN NAÏVE BAYES CLASSIFIER ON THE BREAST CANCER DATASET AND EVALUATE ACCURACY."
      ],
      "metadata": {
        "id": "vJTRshFl8PNg"
      }
    },
    {
      "cell_type": "code",
      "source": [
        "from sklearn.naive_bayes import GaussianNB\n",
        "from sklearn.model_selection import train_test_split\n",
        "from sklearn.datasets import load_breast_cancer\n",
        "from sklearn.metrics import accuracy_score\n",
        "\n",
        "data = load_breast_cancer()\n",
        "X, y = data.data, data.target\n",
        "X_train, X_test, y_train, y_test = train_test_split(X, y, test_size=0.2, random_state=42)\n",
        "\n",
        "gnb = GaussianNB()\n",
        "gnb.fit(X_train, y_train)\n",
        "\n",
        "y_pred = gnb.predict(X_test)\n",
        "print(\"Accuracy:\", accuracy_score(y_test, y_pred))\n"
      ],
      "metadata": {
        "colab": {
          "base_uri": "https://localhost:8080/"
        },
        "id": "xJhvojCafwpx",
        "outputId": "e43abf61-88f5-4e51-df53-e369d383d801"
      },
      "execution_count": 7,
      "outputs": [
        {
          "output_type": "stream",
          "name": "stdout",
          "text": [
            "Accuracy: 0.9736842105263158\n"
          ]
        }
      ]
    },
    {
      "cell_type": "markdown",
      "source": [
        "Q26. WRITE A PYTHON PROGRAM TO TRAIN A MULTINOMIAL NAÏVE BAYES CLASSIFIER FOR TEXT CLASSIFICATION USING THE 20 NEWSGROUPS DATASET."
      ],
      "metadata": {
        "id": "D3KcRxGA8QEt"
      }
    },
    {
      "cell_type": "code",
      "source": [
        "from sklearn.naive_bayes import MultinomialNB\n",
        "from sklearn.datasets import fetch_20newsgroups\n",
        "from sklearn.feature_extraction.text import CountVectorizer\n",
        "from sklearn.model_selection import train_test_split\n",
        "from sklearn.metrics import accuracy_score\n",
        "\n",
        "data = fetch_20newsgroups(subset='all')\n",
        "vectorizer = CountVectorizer()\n",
        "X = vectorizer.fit_transform(data.data)\n",
        "y = data.target\n",
        "\n",
        "X_train, X_test, y_train, y_test = train_test_split(X, y, test_size=0.2, random_state=42)\n",
        "\n",
        "mnb = MultinomialNB()\n",
        "mnb.fit(X_train, y_train)\n",
        "\n",
        "y_pred = mnb.predict(X_test)\n",
        "print(\"Accuracy:\", accuracy_score(y_test, y_pred))\n"
      ],
      "metadata": {
        "colab": {
          "base_uri": "https://localhost:8080/"
        },
        "id": "nvMPlbvMfyG-",
        "outputId": "61e68757-5fdb-4eb3-d99e-618cdbba7101"
      },
      "execution_count": 8,
      "outputs": [
        {
          "output_type": "stream",
          "name": "stdout",
          "text": [
            "Accuracy: 0.8503978779840848\n"
          ]
        }
      ]
    },
    {
      "cell_type": "markdown",
      "source": [
        "Q27. WRITE A PYTHON PROGRAM TO TRAIN AN SVM CLASSIFIER WITH DIFFERENT C VALUES AND COMPARE THE DECISION BOUNDARIES VISUALLY."
      ],
      "metadata": {
        "id": "TyZN6gba8QY2"
      }
    },
    {
      "cell_type": "code",
      "source": [
        "import numpy as np\n",
        "import matplotlib.pyplot as plt\n",
        "from sklearn.svm import SVC\n",
        "from sklearn.datasets import make_classification\n",
        "X, y = make_classification(n_features=2, n_informative=2, n_redundant=0,\n",
        "                           n_clusters_per_class=1, random_state=42)\n",
        "\n",
        "C_values = [0.1, 1, 10]\n",
        "\n",
        "plt.figure(figsize=(15, 5))\n",
        "for i, C in enumerate(C_values):\n",
        "    svm = SVC(kernel='linear', C=C)\n",
        "    svm.fit(X, y)\n",
        "\n",
        "    xx, yy = np.meshgrid(np.linspace(X[:, 0].min(), X[:, 0].max(), 100),\n",
        "                         np.linspace(X[:, 1].min(), X[:, 1].max(), 100))\n",
        "    Z = svm.predict(np.c_[xx.ravel(), yy.ravel()])\n",
        "    Z = Z.reshape(xx.shape)\n",
        "\n",
        "    plt.subplot(1, 3, i+1)\n",
        "    plt.contourf(xx, yy, Z, alpha=0.3)\n",
        "    plt.scatter(X[:, 0], X[:, 1], c=y, edgecolors='k')\n",
        "    plt.title(f\"C = {C}\")\n",
        "\n",
        "plt.show()\n"
      ],
      "metadata": {
        "colab": {
          "base_uri": "https://localhost:8080/",
          "height": 468
        },
        "id": "96k35ju3f0FU",
        "outputId": "1c33cf2a-60f7-47da-fbe5-3025cd4f2eff"
      },
      "execution_count": 10,
      "outputs": [
        {
          "output_type": "display_data",
          "data": {
            "text/plain": [
              "<Figure size 1500x500 with 3 Axes>"
            ],
            "image/png": "[encoded data removed]"
          },
          "metadata": {}
        }
      ]
    },
    {
      "cell_type": "markdown",
      "source": [
        "Q28. WRITE A PYTHON PROGRAM TO TRAIN A BERNOULLI NAÏVE BAYES CLASSIFIER FOR BINARY CLASSIFICATION ON A DATASET WITH BINARY FEATURES."
      ],
      "metadata": {
        "id": "R13tMGVJTTXD"
      }
    },
    {
      "cell_type": "code",
      "source": [
        "from sklearn.naive_bayes import BernoulliNB\n",
        "from sklearn.model_selection import train_test_split\n",
        "from sklearn.datasets import make_classification\n",
        "from sklearn.metrics import accuracy_score\n",
        "\n",
        "X, y = make_classification(n_features=10, n_classes=2, random_state=42)\n",
        "X = (X > 0).astype(int)\n",
        "\n",
        "X_train, X_test, y_train, y_test = train_test_split(X, y, test_size=0.2, random_state=42)\n",
        "\n",
        "bnb = BernoulliNB()\n",
        "bnb.fit(X_train, y_train)\n",
        "\n",
        "y_pred = bnb.predict(X_test)\n",
        "print(\"Accuracy:\", accuracy_score(y_test, y_pred))\n"
      ],
      "metadata": {
        "colab": {
          "base_uri": "https://localhost:8080/"
        },
        "id": "LZReu4pkiZOM",
        "outputId": "413173d1-0916-4abd-eee6-af05d72fb638"
      },
      "execution_count": 11,
      "outputs": [
        {
          "output_type": "stream",
          "name": "stdout",
          "text": [
            "Accuracy: 1.0\n"
          ]
        }
      ]
    },
    {
      "cell_type": "markdown",
      "source": [
        "Q29. WRITE A PYTHON PROGRAM TO APPLY FEATURE SCALING BEFORE TRAINING AN SVM MODEL AND COMPARE RESULTS WITH UNSCALED DATA."
      ],
      "metadata": {
        "id": "XQJ-WIjrTTx4"
      }
    },
    {
      "cell_type": "code",
      "source": [
        "from sklearn.preprocessing import StandardScaler\n",
        "from sklearn.svm import SVC\n",
        "from sklearn.model_selection import train_test_split\n",
        "from sklearn.metrics import accuracy_score\n",
        "from sklearn.datasets import load_wine\n",
        "\n",
        "data = load_wine()\n",
        "X, y = data.data, data.target\n",
        "X_train, X_test, y_train, y_test = train_test_split(X, y, test_size=0.2, random_state=42)\n",
        "\n",
        "svm_unscaled = SVC()\n",
        "svm_unscaled.fit(X_train, y_train)\n",
        "y_pred_unscaled = svm_unscaled.predict(X_test)\n",
        "\n",
        "scaler = StandardScaler()\n",
        "X_train_scaled = scaler.fit_transform(X_train)\n",
        "X_test_scaled = scaler.transform(X_test)\n",
        "\n",
        "svm_scaled = SVC()\n",
        "svm_scaled.fit(X_train_scaled, y_train)\n",
        "y_pred_scaled = svm_scaled.predict(X_test_scaled)\n",
        "\n",
        "print(\"Unscaled Accuracy:\", accuracy_score(y_test, y_pred_unscaled))\n",
        "print(\"Scaled Accuracy:\", accuracy_score(y_test, y_pred_scaled))\n"
      ],
      "metadata": {
        "colab": {
          "base_uri": "https://localhost:8080/"
        },
        "id": "vNNjB3Caia4o",
        "outputId": "8ea7ee3a-d324-4d79-ed9b-b85bf9a0ad25"
      },
      "execution_count": 13,
      "outputs": [
        {
          "output_type": "stream",
          "name": "stdout",
          "text": [
            "Unscaled Accuracy: 0.8055555555555556\n",
            "Scaled Accuracy: 1.0\n"
          ]
        }
      ]
    },
    {
      "cell_type": "markdown",
      "source": [
        "Q30. WRITE A PYTHON PROGRAM TO TRAIN A GAUSSIAN NAÏVE BAYES MODEL AND COMPARE THE PREDICTIONS BEFORE AND AFTER LAPLACE SMOOTHING."
      ],
      "metadata": {
        "id": "JUt0Cx7qTUS_"
      }
    },
    {
      "cell_type": "code",
      "source": [
        "from sklearn.naive_bayes import GaussianNB\n",
        "from sklearn.model_selection import train_test_split\n",
        "from sklearn.datasets import make_classification\n",
        "from sklearn.metrics import accuracy_score\n",
        "\n",
        "X, y = make_classification(n_features=5, n_classes=2, random_state=42)\n",
        "X_train, X_test, y_train, y_test = train_test_split(X, y, test_size=0.2, random_state=42)\n",
        "\n",
        "gnb = GaussianNB(var_smoothing=1e-9)\n",
        "gnb.fit(X_train, y_train)\n",
        "\n",
        "y_pred = gnb.predict(X_test)\n",
        "print(\"Accuracy:\", accuracy_score(y_test, y_pred))\n"
      ],
      "metadata": {
        "colab": {
          "base_uri": "https://localhost:8080/"
        },
        "id": "PxVS1H2oid42",
        "outputId": "f3c63981-7198-4a85-ba6a-980fb05bcc8f"
      },
      "execution_count": 12,
      "outputs": [
        {
          "output_type": "stream",
          "name": "stdout",
          "text": [
            "Accuracy: 1.0\n"
          ]
        }
      ]
    },
    {
      "cell_type": "markdown",
      "source": [
        "Q31. WRITE A PYTHON PROGRAM TO TRAIN AN SVM CLASSIFIER AND USE GRIDSEARCHCV TO TUNE THE HYPERPARAMETERS (C, GAMMA, KERNEL)."
      ],
      "metadata": {
        "id": "XxanUGl2TUki"
      }
    },
    {
      "cell_type": "code",
      "source": [
        "from sklearn.svm import SVC\n",
        "from sklearn.model_selection import GridSearchCV, train_test_split\n",
        "from sklearn.datasets import load_iris\n",
        "\n",
        "data = load_iris()\n",
        "X, y = data.data, data.target\n",
        "X_train, X_test, y_train, y_test = train_test_split(X, y, test_size=0.2, random_state=42)\n",
        "\n",
        "param_grid = {'C': [0.1, 1, 10], 'gamma': ['scale', 'auto'], 'kernel': ['linear', 'rbf']}\n",
        "grid_search = GridSearchCV(SVC(), param_grid, cv=5)\n",
        "grid_search.fit(X_train, y_train)\n",
        "\n",
        "print(\"Best Parameters:\", grid_search.best_params_)\n"
      ],
      "metadata": {
        "colab": {
          "base_uri": "https://localhost:8080/"
        },
        "id": "N1qz41lsih61",
        "outputId": "cdb89078-ccc3-4422-f38e-3880b2966308"
      },
      "execution_count": 14,
      "outputs": [
        {
          "output_type": "stream",
          "name": "stdout",
          "text": [
            "Best Parameters: {'C': 1, 'gamma': 'scale', 'kernel': 'linear'}\n"
          ]
        }
      ]
    },
    {
      "cell_type": "markdown",
      "source": [
        "Q32. WRITE A PYTHON PROGRAM TO TRAIN AN SVM CLASSIFIER ON AN IMBALANCED DATASET AND APPLY CLASS WEIGHTING TO CHECK IF IT IMPROVES ACCURACY."
      ],
      "metadata": {
        "id": "d3W4kWxMTU2u"
      }
    },
    {
      "cell_type": "code",
      "source": [
        "from sklearn.svm import SVC\n",
        "from sklearn.model_selection import train_test_split\n",
        "from sklearn.utils.class_weight import compute_class_weight\n",
        "from sklearn.datasets import make_classification\n",
        "from sklearn.metrics import accuracy_score\n",
        "\n",
        "X, y = make_classification(n_samples=1000, weights=[0.9, 0.1], random_state=42)\n",
        "X_train, X_test, y_train, y_test = train_test_split(X, y, test_size=0.2, random_state=42)\n",
        "\n",
        "svm_unweighted = SVC()\n",
        "svm_unweighted.fit(X_train, y_train)\n",
        "y_pred_unweighted = svm_unweighted.predict(X_test)\n",
        "\n",
        "svm_weighted = SVC(class_weight='balanced')\n",
        "svm_weighted.fit(X_train, y_train)\n",
        "y_pred_weighted = svm_weighted.predict(X_test)\n",
        "\n",
        "print(\"Unweighted Accuracy:\", accuracy_score(y_test, y_pred_unweighted))\n",
        "print(\"Weighted Accuracy:\", accuracy_score(y_test, y_pred_weighted))\n"
      ],
      "metadata": {
        "colab": {
          "base_uri": "https://localhost:8080/"
        },
        "id": "3gR-_m_aikhB",
        "outputId": "18d559d2-022b-4862-b0fb-16338082f3be"
      },
      "execution_count": 15,
      "outputs": [
        {
          "output_type": "stream",
          "name": "stdout",
          "text": [
            "Unweighted Accuracy: 0.895\n",
            "Weighted Accuracy: 0.895\n"
          ]
        }
      ]
    },
    {
      "cell_type": "markdown",
      "source": [
        "Q33. WRITE A PYTHON PROGRAM TO IMPLEMENT A NAÏVE BAYES CLASSIFIER FOR SPAM DETECTION USING EMAIL DATA."
      ],
      "metadata": {
        "id": "57lBqssATVI9"
      }
    },
    {
      "cell_type": "code",
      "source": [
        "from sklearn.naive_bayes import MultinomialNB\n",
        "from sklearn.feature_extraction.text import CountVectorizer\n",
        "from sklearn.model_selection import train_test_split\n",
        "from sklearn.datasets import fetch_20newsgroups\n",
        "from sklearn.metrics import accuracy_score\n",
        "\n",
        "data = fetch_20newsgroups(subset='all', categories=['sci.space', 'comp.graphics'])\n",
        "vectorizer = CountVectorizer()\n",
        "X = vectorizer.fit_transform(data.data)\n",
        "y = data.target\n",
        "\n",
        "X_train, X_test, y_train, y_test = train_test_split(X, y, test_size=0.2, random_state=42)\n",
        "\n",
        "nb = MultinomialNB()\n",
        "nb.fit(X_train, y_train)\n",
        "\n",
        "y_pred = nb.predict(X_test)\n",
        "print(\"Accuracy:\", accuracy_score(y_test, y_pred))\n"
      ],
      "metadata": {
        "colab": {
          "base_uri": "https://localhost:8080/"
        },
        "id": "bINgYPd2imoe",
        "outputId": "f693fbab-3012-4f06-e04c-d23898ae0e9a"
      },
      "execution_count": 16,
      "outputs": [
        {
          "output_type": "stream",
          "name": "stdout",
          "text": [
            "Accuracy: 0.9872448979591837\n"
          ]
        }
      ]
    },
    {
      "cell_type": "markdown",
      "source": [
        "Q34. WRITE A PYTHON PROGRAM TO TRAIN AN SVM CLASSIFIER AND A NAÏVE BAYES CLASSIFIER ON THE SAME DATASET AND COMPARE THEIR ACCURACY."
      ],
      "metadata": {
        "id": "smOwpBctTVce"
      }
    },
    {
      "cell_type": "code",
      "source": [
        "import pandas as pd\n",
        "from sklearn.model_selection import train_test_split\n",
        "from sklearn.naive_bayes import GaussianNB\n",
        "from sklearn.svm import SVC\n",
        "from sklearn.metrics import accuracy_score\n",
        "from sklearn.datasets import load_wine\n",
        "data = load_wine()\n",
        "X, y = data.data, data.target\n",
        "\n",
        "X_train, X_test, y_train, y_test = train_test_split(X, y, test_size=0.2, random_state=42)\n",
        "\n",
        "svm = SVC(kernel='linear')\n",
        "svm.fit(X_train, y_train)\n",
        "svm_pred = svm.predict(X_test)\n",
        "nb = GaussianNB()\n",
        "nb.fit(X_train, y_train)\n",
        "nb_pred = nb.predict(X_test)\n",
        "\n",
        "# COMPARIN THE  ACCURACY\n",
        "svm_acc = accuracy_score(y_test, svm_pred)\n",
        "nb_acc = accuracy_score(y_test, nb_pred)\n",
        "\n",
        "print(f\"SVM Accuracy: {svm_acc}\")\n",
        "print(f\"Naive Bayes Accuracy: {nb_acc}\")\n"
      ],
      "metadata": {
        "colab": {
          "base_uri": "https://localhost:8080/"
        },
        "id": "eGb2f8qBi6dt",
        "outputId": "7c18461a-116e-4c8b-adcb-bb60b2c22bd9"
      },
      "execution_count": 17,
      "outputs": [
        {
          "output_type": "stream",
          "name": "stdout",
          "text": [
            "SVM Accuracy: 1.0\n",
            "Naive Bayes Accuracy: 1.0\n"
          ]
        }
      ]
    },
    {
      "cell_type": "markdown",
      "source": [
        "Q35. WRITE A PYTHON PROGRAM TO PERFORM FEATURE SELECTION BEFORE TRAINING A NAÏVE BAYES CLASSIFIER AND COMPARE RESULTS."
      ],
      "metadata": {
        "id": "9Q2KRlWuTWGk"
      }
    },
    {
      "cell_type": "code",
      "source": [
        "from sklearn.feature_selection import SelectKBest, f_classif\n",
        "selector = SelectKBest(score_func=f_classif, k=10)\n",
        "X_new = selector.fit_transform(X, y)\n",
        "nb = GaussianNB()\n",
        "nb.fit(X_train, y_train)\n",
        "nb_pred = nb.predict(X_test)\n",
        "\n",
        "# COMPARING TH E RESULTS\n",
        "print(\"Accuracy with feature selection:\", accuracy_score(y_test, nb_pred))\n"
      ],
      "metadata": {
        "colab": {
          "base_uri": "https://localhost:8080/"
        },
        "id": "qVYyGBKyi9BM",
        "outputId": "3fd1d053-f36a-43f0-85ec-9389e5300626"
      },
      "execution_count": 18,
      "outputs": [
        {
          "output_type": "stream",
          "name": "stdout",
          "text": [
            "Accuracy with feature selection: 1.0\n"
          ]
        }
      ]
    },
    {
      "cell_type": "markdown",
      "source": [
        "Q36. WRITE A PYTHON PROGRAM TO TRAIN AN SVM CLASSIFIER USING ONE-VS-REST (OVR) AND ONE-VS-ONE (OVO) STRATEGIES ON THE WINE DATASET AND COMPARE THEIR ACCURACY."
      ],
      "metadata": {
        "id": "nL-fHg8FTWa6"
      }
    },
    {
      "cell_type": "code",
      "source": [
        "from sklearn.multiclass import OneVsRestClassifier, OneVsOneClassifier\n",
        "\n",
        "# TRAINING WITH One-vs-Rest (OvR)\n",
        "ovr = OneVsRestClassifier(SVC(kernel='linear'))\n",
        "ovr.fit(X_train, y_train)\n",
        "ovr_acc = accuracy_score(y_test, ovr.predict(X_test))\n",
        "\n",
        "# TRAINING WITH One-vs-One (OvO)\n",
        "ovo = OneVsOneClassifier(SVC(kernel='linear'))\n",
        "ovo.fit(X_train, y_train)\n",
        "ovo_acc = accuracy_score(y_test, ovo.predict(X_test))\n",
        "\n",
        "print(f\"OvR Accuracy: {ovr_acc}\")\n",
        "print(f\"OvO Accuracy: {ovo_acc}\")\n"
      ],
      "metadata": {
        "colab": {
          "base_uri": "https://localhost:8080/"
        },
        "id": "bMW1oZrijAPc",
        "outputId": "14f999d0-801d-4244-f369-019cae85ce63"
      },
      "execution_count": 19,
      "outputs": [
        {
          "output_type": "stream",
          "name": "stdout",
          "text": [
            "OvR Accuracy: 1.0\n",
            "OvO Accuracy: 1.0\n"
          ]
        }
      ]
    },
    {
      "cell_type": "markdown",
      "source": [
        "Q37. WRITE A PYTHON PROGRAM TO TRAIN AN SVM CLASSIFIER USING LINEAR, POLYNOMIAL, AND RBF KERNELS ON THE BREAST CANCER DATASET AND COMPARE THEIR ACCURACY."
      ],
      "metadata": {
        "id": "TXKha5oZTWtb"
      }
    },
    {
      "cell_type": "code",
      "source": [
        "kernels = ['linear', 'poly', 'rbf']\n",
        "for kernel in kernels:\n",
        "    model = SVC(kernel=kernel)\n",
        "    model.fit(X_train, y_train)\n",
        "    acc = accuracy_score(y_test, model.predict(X_test))\n",
        "    print(f\"Kernel: {kernel}, Accuracy: {acc}\")\n"
      ],
      "metadata": {
        "colab": {
          "base_uri": "https://localhost:8080/"
        },
        "id": "Rr8FIk2zjBYm",
        "outputId": "5441b2dd-45a7-4ac8-e21f-b66b0912baba"
      },
      "execution_count": 20,
      "outputs": [
        {
          "output_type": "stream",
          "name": "stdout",
          "text": [
            "Kernel: linear, Accuracy: 1.0\n",
            "Kernel: poly, Accuracy: 0.8333333333333334\n",
            "Kernel: rbf, Accuracy: 0.8055555555555556\n"
          ]
        }
      ]
    },
    {
      "cell_type": "markdown",
      "source": [
        "Q38. WRITE A PYTHON PROGRAM TO TRAIN AN SVM CLASSIFIER USING STRATIFIED K-FOLD CROSS-VALIDATION AND COMPUTE THE AVERAGE ACCURACY."
      ],
      "metadata": {
        "id": "EA-ck8Q0TW_1"
      }
    },
    {
      "cell_type": "code",
      "source": [
        "from sklearn.model_selection import StratifiedKFold, cross_val_score\n",
        "\n",
        "skf = StratifiedKFold(n_splits=5)\n",
        "svm = SVC(kernel='linear')\n",
        "scores = cross_val_score(svm, X, y, cv=skf)\n",
        "\n",
        "print(\"Average Accuracy:\", scores.mean())\n"
      ],
      "metadata": {
        "colab": {
          "base_uri": "https://localhost:8080/"
        },
        "id": "uScKMowtjDxg",
        "outputId": "7dd9d15b-0900-4b7a-b9e7-d40c6271e713"
      },
      "execution_count": 21,
      "outputs": [
        {
          "output_type": "stream",
          "name": "stdout",
          "text": [
            "Average Accuracy: 0.961111111111111\n"
          ]
        }
      ]
    },
    {
      "cell_type": "markdown",
      "source": [
        "Q39. WRITE A PYTHON PROGRAM TO TRAIN A NAÏVE BAYES CLASSIFIER USING DIFFERENT PRIOR PROBABILITIES AND COMPARE PERFORMANCE."
      ],
      "metadata": {
        "id": "kYSZ7qTPTXR2"
      }
    },
    {
      "cell_type": "code",
      "source": [
        "priors_list = [[0.2, 0.5, 0.3], [0.33, 0.33, 0.34]]\n",
        "for priors in priors_list:\n",
        "    nb = GaussianNB(priors=priors)\n",
        "    nb.fit(X_train, y_train)\n",
        "    acc = accuracy_score(y_test, nb.predict(X_test))\n",
        "    print(f\"Priors: {priors}, Accuracy: {acc}\")\n"
      ],
      "metadata": {
        "colab": {
          "base_uri": "https://localhost:8080/"
        },
        "id": "WmkyrjvqjFsv",
        "outputId": "ee3479be-3271-470c-a9e5-c0d68285db90"
      },
      "execution_count": 22,
      "outputs": [
        {
          "output_type": "stream",
          "name": "stdout",
          "text": [
            "Priors: [0.2, 0.5, 0.3], Accuracy: 1.0\n",
            "Priors: [0.33, 0.33, 0.34], Accuracy: 1.0\n"
          ]
        }
      ]
    },
    {
      "cell_type": "markdown",
      "source": [
        "Q40. WRITE A PYTHON PROGRAM TO PERFORM RECURSIVE FEATURE ELIMINATION (RFE) BEFORE TRAINING AN SVM CLASSIFIER AND COMPARE ACCURACY."
      ],
      "metadata": {
        "id": "0rNXvirmTXmF"
      }
    },
    {
      "cell_type": "code",
      "source": [
        "from sklearn.feature_selection import RFE\n",
        "\n",
        "svm = SVC(kernel='linear')\n",
        "rfe = RFE(svm, n_features_to_select=5)\n",
        "X_rfe = rfe.fit_transform(X, y)\n",
        "\n",
        "svm.fit(X_rfe, y)\n",
        "print(\"Model trained with Recursive Feature Elimination (RFE)\")\n"
      ],
      "metadata": {
        "colab": {
          "base_uri": "https://localhost:8080/"
        },
        "id": "hUxpzEuhjIJP",
        "outputId": "81e12221-9e66-49d3-9efd-11c45c1b35df"
      },
      "execution_count": 23,
      "outputs": [
        {
          "output_type": "stream",
          "name": "stdout",
          "text": [
            "Model trained with Recursive Feature Elimination (RFE)\n"
          ]
        }
      ]
    },
    {
      "cell_type": "markdown",
      "source": [
        "Q41. WRITE A PYTHON PROGRAM TO TRAIN AN SVM CLASSIFIER AND EVALUATE ITS PERFORMANCE USING PRECISION, RECALL, AND F1-SCORE INSTEAD OF ACCURACY."
      ],
      "metadata": {
        "id": "puTseGdfTX-1"
      }
    },
    {
      "cell_type": "code",
      "source": [
        "from sklearn.metrics import precision_score, recall_score, f1_score\n",
        "X_test_rfe = rfe.transform(X_test)\n",
        "\n",
        "y_pred = svm.predict(X_test_rfe)\n",
        "\n",
        "print(\"Precision:\", precision_score(y_test, y_pred, average='weighted'))\n",
        "print(\"Recall:\", recall_score(y_test, y_pred, average='weighted'))\n",
        "print(\"F1 Score:\", f1_score(y_test, y_pred, average='weighted'))\n"
      ],
      "metadata": {
        "colab": {
          "base_uri": "https://localhost:8080/"
        },
        "id": "kns2ZhNvjKgb",
        "outputId": "7e1ce85f-f209-4ca3-9a4e-11ec7f762e87"
      },
      "execution_count": 30,
      "outputs": [
        {
          "output_type": "stream",
          "name": "stdout",
          "text": [
            "Precision: 0.974074074074074\n",
            "Recall: 0.9722222222222222\n",
            "F1 Score: 0.9721867461331064\n"
          ]
        }
      ]
    },
    {
      "cell_type": "markdown",
      "source": [
        "Q42. WRITE A PYTHON PROGRAM TO TRAIN A NAÏVE BAYES CLASSIFIER AND EVALUATE ITS PERFORMANCE USING LOG LOSS (CROSS-ENTROPY LOSS)."
      ],
      "metadata": {
        "id": "vaN3xHZaTYV9"
      }
    },
    {
      "cell_type": "code",
      "source": [
        "from sklearn.metrics import log_loss\n",
        "\n",
        "y_prob = nb.predict_proba(X_test)\n",
        "print(\"Log Loss:\", log_loss(y_test, y_prob))\n"
      ],
      "metadata": {
        "colab": {
          "base_uri": "https://localhost:8080/"
        },
        "id": "82UK_2LHjSgD",
        "outputId": "2549e9a5-be38-4f68-9c25-a628eed96ae6"
      },
      "execution_count": 25,
      "outputs": [
        {
          "output_type": "stream",
          "name": "stdout",
          "text": [
            "Log Loss: 0.01461798846631309\n"
          ]
        }
      ]
    },
    {
      "cell_type": "markdown",
      "source": [
        "Q43. WRITE A PYTHON PROGRAM TO TRAIN AN SVM CLASSIFIER AND VISUALIZE THE CONFUSION MATRIX USING SEABORN."
      ],
      "metadata": {
        "id": "E-dVSZSYTZB1"
      }
    },
    {
      "cell_type": "code",
      "source": [
        "import seaborn as sns\n",
        "import matplotlib.pyplot as plt\n",
        "from sklearn.metrics import confusion_matrix\n",
        "X_test_rfe = rfe.transform(X_test)\n",
        "y_pred = svm.predict(X_test_rfe)\n",
        "cm = confusion_matrix(y_test, y_pred)\n",
        "sns.heatmap(cm, annot=True, fmt='d', cmap=\"Blues\")\n",
        "plt.xlabel(\"Predicted\")\n",
        "plt.ylabel(\"Actual\")\n",
        "plt.title(\"Confusion Matrix\")\n",
        "plt.show()\n"
      ],
      "metadata": {
        "colab": {
          "base_uri": "https://localhost:8080/",
          "height": 472
        },
        "id": "NCKrjTI3jU9J",
        "outputId": "75e07790-9f71-4f50-a2ea-d85db1f7f105"
      },
      "execution_count": 34,
      "outputs": [
        {
          "output_type": "display_data",
          "data": {
            "text/plain": [
              "<Figure size 640x480 with 2 Axes>"
            ],
            "image/png": "[encoded data removed]"
          },
          "metadata": {}
        }
      ]
    },
    {
      "cell_type": "markdown",
      "source": [
        "Q44. WRITE A PYTHON PROGRAM TO TRAIN AN SVM REGRESSOR (SVR) AND EVALUATE ITS PERFORMANCE USING MEAN ABSOLUTE ERROR (MAE) INSTEAD OF MSE."
      ],
      "metadata": {
        "id": "cFWfwJBgTZeD"
      }
    },
    {
      "cell_type": "code",
      "source": [
        "from sklearn.metrics import mean_absolute_error\n",
        "from sklearn.svm import SVR\n",
        "\n",
        "svr = SVR()\n",
        "svr.fit(X_train, y_train)\n",
        "y_pred = svr.predict(X_test)\n",
        "\n",
        "print(\"Mean Absolute Error (MAE):\", mean_absolute_error(y_test, y_pred))\n"
      ],
      "metadata": {
        "colab": {
          "base_uri": "https://localhost:8080/"
        },
        "id": "eeez6d--jWCt",
        "outputId": "44bc1433-235f-47fa-c369-38dd5bab3d0f"
      },
      "execution_count": 27,
      "outputs": [
        {
          "output_type": "stream",
          "name": "stdout",
          "text": [
            "Mean Absolute Error (MAE): 0.33196267483682557\n"
          ]
        }
      ]
    },
    {
      "cell_type": "markdown",
      "source": [
        "Q45. WRITE A PYTHON PROGRAM TO TRAIN A NAÏVE BAYES CLASSIFIER AND EVALUATE ITS PERFORMANCE USING THE ROC-AUC SCORE."
      ],
      "metadata": {
        "id": "Sq6XQ__lchFL"
      }
    },
    {
      "cell_type": "code",
      "source": [
        "from sklearn.metrics import roc_auc_score\n",
        "\n",
        "y_prob = nb.predict_proba(X_test)  # Get class probabilities\n",
        "\n",
        "# USE multi_class=\"ovr\" FOR MULTICLASS PROBLEMS\n",
        "roc_auc = roc_auc_score(y_test, y_prob, multi_class=\"ovr\")\n",
        "\n",
        "print(\"ROC-AUC Score:\", roc_auc)\n"
      ],
      "metadata": {
        "colab": {
          "base_uri": "https://localhost:8080/"
        },
        "id": "VggivQs8jYVG",
        "outputId": "b8329318-7a32-4a9e-bb9f-1199c99addf4"
      },
      "execution_count": 32,
      "outputs": [
        {
          "output_type": "stream",
          "name": "stdout",
          "text": [
            "ROC-AUC Score: 1.0\n"
          ]
        }
      ]
    },
    {
      "cell_type": "markdown",
      "source": [
        "Q46. WRITE A PYTHON PROGRAM TO TRAIN AN SVM CLASSIFIER AND VISUALIZE THE PRECISION-RECALL CURVE."
      ],
      "metadata": {
        "id": "J8a8O4UFci_M"
      }
    },
    {
      "cell_type": "code",
      "source": [
        "from sklearn.metrics import precision_recall_curve\n",
        "\n",
        "# CONVERT MULTI-CLASS TO BINARY CLASSIFICATION (E.G., CLASSIFY CLASS 0 VS REST)\n",
        "y_test_binary = (y_test == 0).astype(int)  # Convert to binary (1 for class 0, 0 for others)\n",
        "y_prob_binary = y_prob[:, 0]  # Take probabilities for class 0\n",
        "\n",
        "precision, recall, _ = precision_recall_curve(y_test_binary, y_prob_binary)\n",
        "\n",
        "plt.plot(recall, precision, marker=\".\")\n",
        "plt.xlabel(\"Recall\")\n",
        "plt.ylabel(\"Precision\")\n",
        "plt.title(\"Precision-Recall Curve\")\n",
        "plt.show()\n"
      ],
      "metadata": {
        "colab": {
          "base_uri": "https://localhost:8080/",
          "height": 472
        },
        "id": "b5PmC0OSjaEz",
        "outputId": "921913f0-46ae-44f1-e25f-4c0fc04af1f0"
      },
      "execution_count": 33,
      "outputs": [
        {
          "output_type": "display_data",
          "data": {
            "text/plain": [
              "<Figure size 640x480 with 1 Axes>"
            ],
            "image/png": "[encoded data removed]"
          },
          "metadata": {}
        }
      ]
    }
  ]
}