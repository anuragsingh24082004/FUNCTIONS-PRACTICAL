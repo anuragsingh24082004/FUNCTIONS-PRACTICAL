{
  "nbformat": 4,
  "nbformat_minor": 0,
  "metadata": {
    "colab": {
      "provenance": [],
      "authorship_tag": "ABX9TyN73sGhrKXH9p4Sv9e2y97F",
      "include_colab_link": true
    },
    "kernelspec": {
      "name": "python3",
      "display_name": "Python 3"
    },
    "language_info": {
      "name": "python"
    }
  },
  "cells": [
    {
      "cell_type": "markdown",
      "metadata": {
        "id": "view-in-github",
        "colab_type": "text"
      },
      "source": [
        "<a href=\"https://colab.research.google.com/github/anuragsingh24082004/FUNCTIONS-PRACTICAL/blob/main/FUNCTION_PRACTICALS.ipynb\" target=\"_parent\"><img src=\"https://colab.research.google.com/assets/colab-badge.svg\" alt=\"Open In Colab\"/></a>"
      ]
    },
    {
      "cell_type": "markdown",
      "source": [
        "                                                        PRACTICALS"
      ],
      "metadata": {
        "id": "10SEg7VuNl1R"
      }
    },
    {
      "cell_type": "markdown",
      "source": [
        "# Q.1 WRITE A PYTHON FUNCTION THAT TAKES LIST OF NUMBERS AS INPUT AND RETURNS THE SUM OF ALL EVEN NUMBERS IN THE LIST ."
      ],
      "metadata": {
        "id": "JvHsCjGTRrpj"
      }
    },
    {
      "cell_type": "markdown",
      "source": [
        "ANWER -"
      ],
      "metadata": {
        "id": "DbfbnvyIRwJc"
      }
    },
    {
      "cell_type": "code",
      "source": [
        "def sum_of_all_even_numbers(numbers):\n",
        "    sum = 0\n",
        "    for num in numbers:\n",
        "        if num % 2 == 0:\n",
        "            sum += num\n",
        "    return sum"
      ],
      "metadata": {
        "id": "LbuJHQVqSs2E"
      },
      "execution_count": null,
      "outputs": []
    },
    {
      "cell_type": "code",
      "source": [
        "sum_of_all_even_numbers([5,6,4,6,3,2,1,5])"
      ],
      "metadata": {
        "colab": {
          "base_uri": "https://localhost:8080/"
        },
        "id": "O7Q96_s9TDCZ",
        "outputId": "a8042def-8278-4030-bf9c-5b79cdc0beb8"
      },
      "execution_count": null,
      "outputs": [
        {
          "output_type": "execute_result",
          "data": {
            "text/plain": [
              "18"
            ]
          },
          "metadata": {},
          "execution_count": 2
        }
      ]
    },
    {
      "cell_type": "markdown",
      "source": [
        "# Q.2- CREATE A PYTHON FUNCTION THAT ACCEPTS A STRING AND RETURNS THE REVERSE OF THAT STRING ."
      ],
      "metadata": {
        "id": "Cq3EvGTHVgPO"
      }
    },
    {
      "cell_type": "code",
      "source": [
        "# ANSWER -\n",
        "\n",
        "def reverse_string(string):\n",
        "    reversed_string = \"\"\n",
        "    for i in range(len(string) - 1, -1, -1):\n",
        "        reversed_string += string[i]\n",
        "    return reversed_string\n"
      ],
      "metadata": {
        "id": "AW5kY3vMVzz0"
      },
      "execution_count": null,
      "outputs": []
    },
    {
      "cell_type": "code",
      "source": [
        "string = \"HELLO BROTHER !\"\n",
        "reverse_string(string)"
      ],
      "metadata": {
        "colab": {
          "base_uri": "https://localhost:8080/",
          "height": 35
        },
        "id": "VjxOjmJtWfe7",
        "outputId": "54844d26-39e8-4c20-a174-28c99142d140"
      },
      "execution_count": null,
      "outputs": [
        {
          "output_type": "execute_result",
          "data": {
            "text/plain": [
              "'! REHTORB OLLEH'"
            ],
            "application/vnd.google.colaboratory.intrinsic+json": {
              "type": "string"
            }
          },
          "metadata": {},
          "execution_count": 13
        }
      ]
    },
    {
      "cell_type": "markdown",
      "source": [
        "# Q.3- IMPLEMENT A PYTHON THAT TAKES A LIST OF INTEGERS AND RETURNS A NEW LIST CONTAINING THE SQUARES OF EACH NUMBER ."
      ],
      "metadata": {
        "id": "OLbwpf6UT6wS"
      }
    },
    {
      "cell_type": "code",
      "source": [
        "# ANSWER -\n",
        "\n",
        "def square_of_numbers(numbers):\n",
        "    squares = []\n",
        "    for num in numbers:\n",
        "        squares.append(num ** 2)\n",
        "    return squares\n"
      ],
      "metadata": {
        "id": "-xeC36gQUX4Y"
      },
      "execution_count": null,
      "outputs": []
    },
    {
      "cell_type": "code",
      "source": [
        "# FOR EXAMPLE -\n",
        "square_of_numbers(numbers=[3,4,5,6,7,25])"
      ],
      "metadata": {
        "colab": {
          "base_uri": "https://localhost:8080/"
        },
        "id": "lYFONwXmVHSK",
        "outputId": "f8b8f239-f243-47e7-8c7a-03e7bdcd5b29"
      },
      "execution_count": null,
      "outputs": [
        {
          "output_type": "execute_result",
          "data": {
            "text/plain": [
              "[9, 16, 25, 36, 49, 625]"
            ]
          },
          "metadata": {},
          "execution_count": 11
        }
      ]
    },
    {
      "cell_type": "markdown",
      "source": [
        "# Q.4- WRITE A PYTHON FUNCTION THAT CHECKS IF A GIVEN NUMBER IS PRIME OR NOT FROM 1 TO 200."
      ],
      "metadata": {
        "id": "d5C1LgPwVbNt"
      }
    },
    {
      "cell_type": "code",
      "source": [
        "def prime_number(num):\n",
        "    if num < 2:\n",
        "        return False\n",
        "    for i in range(2, int(num ** 0.5) + 1):\n",
        "        if num % i == 0:\n",
        "            return False\n",
        "    return True"
      ],
      "metadata": {
        "id": "imnm5UATXQSL"
      },
      "execution_count": null,
      "outputs": []
    },
    {
      "cell_type": "code",
      "source": [
        "#   FOR EXAMPLE -\n",
        "\n",
        "for i in range(1, 201):\n",
        "    if prime_number(i):\n",
        "        print(i)"
      ],
      "metadata": {
        "colab": {
          "base_uri": "https://localhost:8080/"
        },
        "id": "Qk_4UI_fXvqK",
        "outputId": "b416a0f6-5731-4de7-8348-079de9a4eecb"
      },
      "execution_count": null,
      "outputs": [
        {
          "output_type": "stream",
          "name": "stdout",
          "text": [
            "2\n",
            "3\n",
            "5\n",
            "7\n",
            "11\n",
            "13\n",
            "17\n",
            "19\n",
            "23\n",
            "29\n",
            "31\n",
            "37\n",
            "41\n",
            "43\n",
            "47\n",
            "53\n",
            "59\n",
            "61\n",
            "67\n",
            "71\n",
            "73\n",
            "79\n",
            "83\n",
            "89\n",
            "97\n",
            "101\n",
            "103\n",
            "107\n",
            "109\n",
            "113\n",
            "127\n",
            "131\n",
            "137\n",
            "139\n",
            "149\n",
            "151\n",
            "157\n",
            "163\n",
            "167\n",
            "173\n",
            "179\n",
            "181\n",
            "191\n",
            "193\n",
            "197\n",
            "199\n"
          ]
        }
      ]
    },
    {
      "cell_type": "markdown",
      "source": [
        "# Q.5- CREATE AN ITERATOR CLASS IN PYTHON THAT GENERATES THE FIBONACCI SEQUENCE UP TO A SPECIFIED NUMBER OF TERMS ."
      ],
      "metadata": {
        "id": "1U9hKA6fX9FS"
      }
    },
    {
      "cell_type": "code",
      "source": [
        "def fibonacci_sequence(n):\n",
        "    a, b = 0, 1\n",
        "    for _ in range(n):\n",
        "        yield a\n",
        "        a, b = b, a + b"
      ],
      "metadata": {
        "id": "F1au9zpKX8RN"
      },
      "execution_count": null,
      "outputs": []
    },
    {
      "cell_type": "code",
      "source": [
        "for num in fibonacci_sequence(10):\n",
        "    print(num)"
      ],
      "metadata": {
        "colab": {
          "base_uri": "https://localhost:8080/"
        },
        "id": "ex1o5b-mYjkM",
        "outputId": "06d0326b-0034-42e8-afeb-08291c679b62"
      },
      "execution_count": null,
      "outputs": [
        {
          "output_type": "stream",
          "name": "stdout",
          "text": [
            "0\n",
            "1\n",
            "1\n",
            "2\n",
            "3\n",
            "5\n",
            "8\n",
            "13\n",
            "21\n",
            "34\n"
          ]
        }
      ]
    },
    {
      "cell_type": "markdown",
      "source": [
        "# Q.6- WRITE A GENERATOR FUNCTION IN PYTHON THAT YIELDS THE POWER OF 2 UP TO A GIVEN EXPONENT ."
      ],
      "metadata": {
        "id": "39nOgyXmZH4W"
      }
    },
    {
      "cell_type": "code",
      "source": [
        "# ANSWER -\n",
        "\n",
        "def power_of_two(exponent):\n",
        "    for i in range(exponent + 1):\n",
        "        yield 2 ** i"
      ],
      "metadata": {
        "id": "7H5cvGp5aPFF"
      },
      "execution_count": null,
      "outputs": []
    },
    {
      "cell_type": "code",
      "source": [
        "# FOR EXAMPLE -\n",
        "\n",
        "for num in power_of_two(5):\n",
        "    print(num)"
      ],
      "metadata": {
        "colab": {
          "base_uri": "https://localhost:8080/"
        },
        "id": "D4VXR3jKaUCM",
        "outputId": "c22b13dd-9439-4163-90b4-25fd0203dea1"
      },
      "execution_count": null,
      "outputs": [
        {
          "output_type": "stream",
          "name": "stdout",
          "text": [
            "1\n",
            "2\n",
            "4\n",
            "8\n",
            "16\n",
            "32\n"
          ]
        }
      ]
    },
    {
      "cell_type": "markdown",
      "source": [
        "# Q.7- IMPLEMENT A GENERATOR FUNCTION THAT READS A FILE LINE BY LINE AND YIELDS EACH LINE AS A STRING ."
      ],
      "metadata": {
        "id": "yAkP7Prfam9F"
      }
    },
    {
      "cell_type": "code",
      "source": [
        "# ANSWER -\n",
        "\n",
        "def read_file_line_by_line(file_path):\n",
        "  try:\n",
        "    with open(file_path, 'r') as file:\n",
        "      for line in file:\n",
        "        yield line.strip()\n",
        "  except FileNotFoundError:\n",
        "    print(\"File not found.\")\n"
      ],
      "metadata": {
        "id": "9T9EvMuQbTJ_"
      },
      "execution_count": 5,
      "outputs": []
    },
    {
      "cell_type": "code",
      "source": [
        "# EXAMPLE -\n",
        "\n",
        "for line in read_file_line_by_line('KUCHH_BHI.txt'):\n",
        "    print(line)"
      ],
      "metadata": {
        "colab": {
          "base_uri": "https://localhost:8080/"
        },
        "id": "usPhcpRDJCMh",
        "outputId": "37de4774-ff89-4159-a740-2074c61164c6"
      },
      "execution_count": 6,
      "outputs": [
        {
          "output_type": "stream",
          "name": "stdout",
          "text": [
            "File not found.\n"
          ]
        }
      ]
    },
    {
      "cell_type": "markdown",
      "source": [
        "# Q.8- USE A LAMBDA FUNCTION IN PYTHON TO START A LIST OF TUPLES BASED ON THE SECOND ELEMENT OF EACH TUPLE."
      ],
      "metadata": {
        "id": "dBJNMsJqcRFZ"
      }
    },
    {
      "cell_type": "code",
      "source": [
        "# ANSWER-\n",
        "actual_list = [(2,4),(5,8),(1,3),(6,9)]\n",
        "sorted_list = sorted(actual_list, key=lambda x: x[1])\n",
        "print(sorted_list)"
      ],
      "metadata": {
        "colab": {
          "base_uri": "https://localhost:8080/"
        },
        "id": "4yV5DI0AcoC9",
        "outputId": "bc98f5a0-7959-44fa-d75b-da5f48b7e537"
      },
      "execution_count": null,
      "outputs": [
        {
          "output_type": "stream",
          "name": "stdout",
          "text": [
            "[(1, 3), (2, 4), (5, 8), (6, 9)]\n"
          ]
        }
      ]
    },
    {
      "cell_type": "markdown",
      "source": [
        "# Q.9- WRITE A PYTHON PROGRAMMING THAT USES 'map()' TO CONVERT A LIST OF TEMPERATURES FROM CELSIUS TO FARENHEIT."
      ],
      "metadata": {
        "id": "Tm7db5McdQ-C"
      }
    },
    {
      "cell_type": "code",
      "source": [
        "# ANSWER -\n",
        "\n",
        "def celsius_to_fahrenheit(celsius):\n",
        "    return (celsius * 9/5) + 32"
      ],
      "metadata": {
        "id": "RhRc6LEsea1k"
      },
      "execution_count": null,
      "outputs": []
    },
    {
      "cell_type": "code",
      "source": [
        "celsius = [0, 10, 20, 30, 40, 5]\n",
        "fahrenheit = list(map(celsius_to_fahrenheit, celsius))\n",
        "print(fahrenheit)"
      ],
      "metadata": {
        "colab": {
          "base_uri": "https://localhost:8080/"
        },
        "id": "dP6twgwMeoZr",
        "outputId": "628d6b39-f190-43c8-ae2b-b4df8b3d2993"
      },
      "execution_count": null,
      "outputs": [
        {
          "output_type": "stream",
          "name": "stdout",
          "text": [
            "[32.0, 50.0, 68.0, 86.0, 104.0, 41.0]\n"
          ]
        }
      ]
    },
    {
      "cell_type": "markdown",
      "source": [
        "# Q.10 CREATE A PYTHON PROGRAM THAT USES 'filter()' TO REMOVE ALL THE VOWELS FROM A GIVEN STRING ."
      ],
      "metadata": {
        "id": "HKBzPmire0j0"
      }
    },
    {
      "cell_type": "code",
      "source": [
        "# ANSWER -\n",
        "\n",
        "def remove_vowels(string):\n",
        "    vowels = 'aeiouAEIOUGJJFGHGDYYTT'\n",
        "    return ''.join(char for char in string if char not in vowels)"
      ],
      "metadata": {
        "id": "dD1kVnsWfMRd"
      },
      "execution_count": null,
      "outputs": []
    },
    {
      "cell_type": "code",
      "source": [
        "vowels = \"HELLO BROTHER !\"\n",
        "remove_vowels(vowels)\n"
      ],
      "metadata": {
        "colab": {
          "base_uri": "https://localhost:8080/",
          "height": 35
        },
        "id": "exv9H6BNfVp7",
        "outputId": "658a9480-8041-448d-e2ce-602a99e9df25"
      },
      "execution_count": null,
      "outputs": [
        {
          "output_type": "execute_result",
          "data": {
            "text/plain": [
              "'LL BRR !'"
            ],
            "application/vnd.google.colaboratory.intrinsic+json": {
              "type": "string"
            }
          },
          "metadata": {},
          "execution_count": 34
        }
      ]
    },
    {
      "cell_type": "markdown",
      "source": [
        "# ANSWER 11 - Write a Python program, which returns a list with 2-tuples. Each tuple consists of the order number and the\n",
        "# product of the price per item and the quantity. The product should be increased by 10,- € if the value of the\n",
        "# order is smaller than 100,00 €.\n",
        "\n",
        "# Write a Python program using lambda and map."
      ],
      "metadata": {
        "id": "OrMI3INWfnad"
      }
    },
    {
      "cell_type": "code",
      "source": [
        "order_items = [(34587, 40.95, 4),(98762, 56.80, 5),(77226, 32.95, 3),(88112, 24.99, 3)]"
      ],
      "metadata": {
        "id": "OHVeIRA8MM_T"
      },
      "execution_count": 24,
      "outputs": []
    },
    {
      "cell_type": "code",
      "source": [
        "calculate_product = lambda item: (item[0], item[1] * item[2])"
      ],
      "metadata": {
        "id": "IgJgk36MPfJf"
      },
      "execution_count": 25,
      "outputs": []
    },
    {
      "cell_type": "code",
      "source": [
        "adjust_product = lambda item: (item[0], item[1] + 10.0 if item[1] < 100.0 else item[1])"
      ],
      "metadata": {
        "id": "hF3pH6UNPkyo"
      },
      "execution_count": 26,
      "outputs": []
    },
    {
      "cell_type": "code",
      "source": [
        "result = list(map(adjust_product, map(calculate_product, order_items)))"
      ],
      "metadata": {
        "id": "qpjtuWWzPqhB"
      },
      "execution_count": 27,
      "outputs": []
    },
    {
      "cell_type": "code",
      "source": [
        "for order_number, total_price in result:\n",
        "    print(f\"Order {order_number}: Total price = {total_price:.2f} €\")"
      ],
      "metadata": {
        "colab": {
          "base_uri": "https://localhost:8080/"
        },
        "id": "G82eiK1zP_om",
        "outputId": "3c11a7ca-6157-4e1b-c1fb-98f14172e0eb"
      },
      "execution_count": 28,
      "outputs": [
        {
          "output_type": "stream",
          "name": "stdout",
          "text": [
            "Order 34587: Total price = 163.80 €\n",
            "Order 98762: Total price = 284.00 €\n",
            "Order 77226: Total price = 108.85 €\n",
            "Order 88112: Total price = 84.97 €\n"
          ]
        }
      ]
    }
  ]
}