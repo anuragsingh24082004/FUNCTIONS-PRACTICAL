{
  "nbformat": 4,
  "nbformat_minor": 0,
  "metadata": {
    "colab": {
      "provenance": [],
      "authorship_tag": "ABX9TyN990V5uU3yAApkJ7CAMhC2",
      "include_colab_link": true
    },
    "kernelspec": {
      "name": "python3",
      "display_name": "Python 3"
    },
    "language_info": {
      "name": "python"
    }
  },
  "cells": [
    {
      "cell_type": "markdown",
      "metadata": {
        "id": "view-in-github",
        "colab_type": "text"
      },
      "source": [
        "<a href=\"https://colab.research.google.com/github/anuragsingh24082004/FUNCTIONS-PRACTICAL/blob/main/SQL.ipynb\" target=\"_parent\"><img src=\"https://colab.research.google.com/assets/colab-badge.svg\" alt=\"Open In Colab\"/></a>"
      ]
    },
    {
      "cell_type": "markdown",
      "source": [
        "                                                                 **ASSIGNMENT**"
      ],
      "metadata": {
        "id": "TlyHTUnUMvkq"
      }
    },
    {
      "cell_type": "markdown",
      "source": [
        "Q1- CREATE A TABLE CALLED EMPLOYEES WITH THE FOLLOWING STRUCTURE:\n",
        "\n",
        "EMP_ID (INTEGER, SHOULD NOT BE NULL AND SHOULD BE A PRIMARY KEY).\n",
        "EMP_NAME (TEXT, SHOULD NOT BE NULL).\n",
        "AGE (INTEGER, SHOULD HAVE A CHECK CONSTRAINT TO ENSURE THE AGE IS AT LEAST 18).\n",
        "EMAIL (TEXT, SHOULD BE UNIQUE FOR EACH EMPLOYEE).\n",
        "SALARY (DECIMAL, WITH A DEFAULT VALUE OF 30,000).\n",
        "WRITE THE SQL QUERY TO CREATE THE ABOVE TABLE WITH ALL CONSTRAINTS."
      ],
      "metadata": {
        "id": "QRokTtlPM5In"
      }
    },
    {
      "cell_type": "code",
      "source": [
        "#ANSWER-\n",
        "import sqlite3\n",
        "conn = sqlite3.connect(':memory:')\n",
        "c = conn.cursor()\n",
        "\n",
        "c.execute('''CREATE TABLE employees (\n",
        "    emp_id INTEGER NOT NULL PRIMARY KEY,\n",
        "    emp_name TEXT NOT NULL,\n",
        "    age INTEGER NOT NULL CHECK (age >= 18),\n",
        "    email TEXT UNIQUE NOT NULL,\n",
        "    salary DECIMAL DEFAULT 30000\n",
        ")''')\n"
      ],
      "metadata": {
        "colab": {
          "base_uri": "https://localhost:8080/"
        },
        "id": "ukr1YSl692nd",
        "outputId": "8349a648-4f85-4eb0-c27d-044869f49498"
      },
      "execution_count": 14,
      "outputs": [
        {
          "output_type": "execute_result",
          "data": {
            "text/plain": [
              "<sqlite3.Cursor at 0x7d568edaa7c0>"
            ]
          },
          "metadata": {},
          "execution_count": 14
        }
      ]
    },
    {
      "cell_type": "markdown",
      "source": [
        "Q2- EXPLAIN THE PURPOSE OF CONSTRAINTS AND HOW THEY HELP MAINTAIN DATA INTEGRITY IN A DATABASE. PROVIDE EXAMPLES OF COMMON TYPES OF CONSTRAINTS."
      ],
      "metadata": {
        "id": "8JRkU6UaPlZ1"
      }
    },
    {
      "cell_type": "markdown",
      "source": [
        "ANSWER- CONSTRAINTS ARE RULES THAT ENSURE DATA IN A DATABASE IS ACCURATE, CONSISTENT, AND RELIABLE. THEY PREVENT INVALID DATA ENTRY AND ENFORCE RELATIONSHIPS BETWEEN TABLES.\n",
        "\n",
        "COMMON CONSTRAINTS:\n",
        "* PRIMARY KEY: UNIQUELY IDENTIFIES EACH RECORD.\n",
        "* FOREIGN KEY: LINKS TABLES TO MAINTAIN RELATIONSHIPS.\n",
        "* UNIQUE: ENSURES VALUES IN A COLUMN ARE DISTINCT.\n",
        "* NOT NULL: REQUIRES A COLUMN TO HAVE A VALUE.\n",
        "* CHECK: VALIDATES DATA BASED ON CONDITIONS.\n",
        "* DEFAULT: PROVIDES A DEFAULT VALUE IF NONE IS GIVEN."
      ],
      "metadata": {
        "id": "06R5m-3gPxVA"
      }
    },
    {
      "cell_type": "markdown",
      "source": [
        "Q3 - WHY WOULD YOU APPLY THE NOT NULL CONSTRAINT TO A COLUMN ? CAN A PRIMARY KEY CONTAIN NUULL VALUES ? JUUSTIFY YOUR ANSWER ."
      ],
      "metadata": {
        "id": "0UiWTtuzXvB-"
      }
    },
    {
      "cell_type": "markdown",
      "source": [
        "ANSWER -  \n",
        "* THE NOT NULL CONSTRAINT ENSURES THAT A COLUMN CANNOT HAVE NULL VALUES. IT IS APPLIED TO ENFORCE THAT A SPECIFIC FIELD MUST ALWAYS HAVE VALID DATA. FOR EXAMPLE, IN A USERS TABLE, THE USERNAME COLUMN SHOULD NOT BE NULL BECAUSE EVERY USER MUST HAVE A NAME.\n",
        "\n",
        "* CAN A PRIMARY KEY CONTAIN NULL VALUES?  \n",
        "NO, A PRIMARY KEY CANNOT CONTAIN NULL VALUES. THIS IS BECAUSE A PRIMARY KEY IS USED TO UNIQUELY IDENTIFY EACH RECORD IN A TABLE. A NULL VALUE REPRESENTS \"UNKNOWN\" OR \"MISSING\" DATA, WHICH CANNOT GUARANTEE UNIQUENESS. HENCE, PRIMARY KEYS MUST ALWAYS HAVE VALID, NON-NULL VALUES.\n"
      ],
      "metadata": {
        "id": "CISYVp_qYIdy"
      }
    },
    {
      "cell_type": "markdown",
      "source": [
        "Q4- EXPLAIN THE STEPS AND SQL COMMANDS USED TO ADD OR REMOVE CONSTRAINTS ON AN EXISTING TABLE . PROVIDE AN EXAMPLE FOR BOTH ADDING AND REMOVING A CONSTRAINT."
      ],
      "metadata": {
        "id": "p3easTGYYKHh"
      }
    },
    {
      "cell_type": "markdown",
      "source": [
        "ANSWER -\n",
        "\n",
        "# STEPS USED TO ADD CONSSTRAINTS ON AN EXISTING TABLE\n",
        "c.execute('''\n",
        "ALTER TABLE employees\n",
        "ADD CONSTRAINT employees_father_name PRIMARY KEY (father_name);\n",
        "''')\n"
      ],
      "metadata": {
        "id": "spnaAWFFYli8"
      }
    },
    {
      "cell_type": "markdown",
      "source": [
        "Q5 - EXPLAIN THE CONSEQUENCES OF ATTEMPTING TO INSERT , UPDATE , OR DELETE DATA IN A WAY THAT VIOLATES CONSTRAINTS . PROVIDE AN EXAMPLE OF AN ERROER MESSAGE THAT MIGHT OCCUR WHEN VIOLATING A CONSTRAINT."
      ],
      "metadata": {
        "id": "9j_onbRHYneo"
      }
    },
    {
      "cell_type": "markdown",
      "source": [
        "ANSWER - VIOLATING CONSTRAINTS DURING INSERT, UPDATE, OR DELETE OPERATIONS RESULTS IN ERRORS TO PRESERVE DATA INTEGRITY\n",
        "FOR EXAMPLE - IF THERE IS ANY VIOLATION OF PRIMARY KEY BECAUSE OF THE DUPLICATE OR NULL VALUES ."
      ],
      "metadata": {
        "id": "YWtIO81bZLWr"
      }
    },
    {
      "cell_type": "markdown",
      "source": [
        "Q6- YOU CREATED A PRODUUCT TABLE WITHOUT CONSTRAINTS AS FOLLOWS:\n",
        "\n",
        "CREATE TABLE products (\n",
        "  product_id INT,\n",
        "  product_name VARCHAR(50),\n",
        "  price DECIMAL(10,2));\n",
        "\n",
        "NOW YOU REALISE THAT\n",
        "* THE product_id SHOULD BE A PRIMARY KEY .\n",
        "* THE price SHOULD HAVE A DEFAULT VALUE OF 50.00"
      ],
      "metadata": {
        "id": "XFRAgYTrZaSH"
      }
    },
    {
      "cell_type": "code",
      "source": [
        "#ANSWER-\n",
        "c.execute(''' CREATE TABLE products ( product_id INT, product_name VARCHAR(50), price DECIMAL(10,2)); ''')\n"
      ],
      "metadata": {
        "collapsed": true,
        "id": "q0hqFBPrTiK5"
      },
      "execution_count": null,
      "outputs": []
    },
    {
      "cell_type": "code",
      "source": [
        "#FOR THE FIRST STATEMENT -\n",
        "c.execute(''' ALTER TABLE\n",
        "products ADD CONSTRAINT pk_product_id PRIMARY KEY (product_id); ''')"
      ],
      "metadata": {
        "id": "ZfWXrh6OT09e"
      },
      "execution_count": null,
      "outputs": []
    },
    {
      "cell_type": "code",
      "source": [
        "#FOR THE SECOND STATEMENT -\n",
        "c.execute(''' ALTER TABLE products ALTER COLUMN price SET DEFAULT 50.00; ''')"
      ],
      "metadata": {
        "id": "l8Uye1-tU3sT"
      },
      "execution_count": null,
      "outputs": []
    },
    {
      "cell_type": "markdown",
      "source": [
        "Q7- YOU HAVE TWO TABLES :\n",
        "\n",
        "* STUDENTS: student_id = 1 ,2,3\n",
        "student_name = Alice,Bob,Charlie\n",
        "class_id = 101,102,101\n",
        "\n",
        "* Classes: class_id = 101,102,103\n",
        "class_name = Math , Science , History\n",
        "\n",
        "WRITE A QUERY TO FETCH THE student_name AND class_name FOR EACH STUDENT USING AN INNER JOIN."
      ],
      "metadata": {
        "id": "4BrC34OCawT8"
      }
    },
    {
      "cell_type": "code",
      "source": [
        "#ANSWER-\n",
        "c.execute(''' CREATE TABLE Students (\n",
        "    student_id INT PRIMARY KEY,\n",
        "    student_name VARCHAR(50),\n",
        "    class_id INT\n",
        ");''')"
      ],
      "metadata": {
        "id": "bWcDkBKdVmx9"
      },
      "execution_count": null,
      "outputs": []
    },
    {
      "cell_type": "code",
      "source": [
        "c.execute(''' INSERT INTO Students (student_id, student_name, class_id)\n",
        "VALUES\n",
        "(1, 'Alice', 101),\n",
        "(2, 'Bob', 102),\n",
        "(3, 'Charlie', 101); ''')"
      ],
      "metadata": {
        "id": "ReldFxQoWEdU"
      },
      "execution_count": null,
      "outputs": []
    },
    {
      "cell_type": "code",
      "source": [
        "c.execute(''' CREATE TABLE Classes (\n",
        "    class_id INT PRIMARY KEY,\n",
        "    class_name VARCHAR(50)\n",
        ");''')"
      ],
      "metadata": {
        "id": "Q-g-i7_8WQ2p"
      },
      "execution_count": null,
      "outputs": []
    },
    {
      "cell_type": "code",
      "source": [
        "c.execute('''\n",
        "INSERT INTO Classes (class_id, class_name)\n",
        "VALUES\n",
        "(101, 'Math'),\n",
        "(102, 'Science'),\n",
        "(103, 'History');''')"
      ],
      "metadata": {
        "id": "f6dM8UMGWY-K"
      },
      "execution_count": null,
      "outputs": []
    },
    {
      "cell_type": "code",
      "source": [
        "# QUERY TO FETCH STUDENT_NAME AND CLASS_NAME USING AN INNER JOIN:\n",
        "\n",
        "c.execute(''' SELECT\n",
        "    Students.student_name,\n",
        "    Classes.class_name\n",
        "FROM\n",
        "    Students\n",
        "INNER JOIN\n",
        "    Classes\n",
        "ON\n",
        "    Students.class_id = Classes.class_id; ''')\n"
      ],
      "metadata": {
        "id": "k8xPHwrLWj50"
      },
      "execution_count": null,
      "outputs": []
    },
    {
      "cell_type": "markdown",
      "source": [
        "Q8- CONSIDER THE FOLLOWING THREE TABLES:\n",
        "\n",
        "ORDERS:\n",
        "\n",
        "order_id = 1,2\n",
        "order_date = 2024-01-01, 2024-01-03\n",
        "customer_id = 101,102\n",
        "\n",
        "Customers:\n",
        "\n",
        "customer_id = 101,102\n",
        "customer_name = Alice, Bob\n",
        "\n",
        "Products:\n",
        "\n",
        "product_id = 1,2\n",
        "product_name = Laptop , Phone\n",
        "order_id = 1 , NULL\n",
        "\n",
        "WRITE A QUERY THAT SHOWS ALL order_id , customer_id , customer_name,AND product_name,ENSURING THAT ALL PRODUCTS ARE LISTED EVEN IF THEY ARE NOT ASSOCIATED WITH AN ORDER\n",
        "HINT:(USE INNER JOIN AND LEFT JOIN )."
      ],
      "metadata": {
        "id": "3qWebYaq46eu"
      }
    },
    {
      "cell_type": "code",
      "source": [
        "# ANSWER-\n",
        "c.execute('''CREATE TABLE Orders (\n",
        "    order_id INT PRIMARY KEY,\n",
        "    order_date DATE,\n",
        "    customer_id INT\n",
        ");''')"
      ],
      "metadata": {
        "colab": {
          "base_uri": "https://localhost:8080/"
        },
        "id": "Lh9a3ck7b3rW",
        "outputId": "39d6ae43-d900-4819-8f82-0d70533f4fdd"
      },
      "execution_count": 20,
      "outputs": [
        {
          "output_type": "execute_result",
          "data": {
            "text/plain": [
              "<sqlite3.Cursor at 0x7d568edaa7c0>"
            ]
          },
          "metadata": {},
          "execution_count": 20
        }
      ]
    },
    {
      "cell_type": "code",
      "source": [
        "c.execute('''INSERT INTO Orders (order_id, order_date, customer_id)\n",
        "VALUES\n",
        "(1, '2024-01-01', 101),\n",
        "(2, '2024-01-03', 102);''')"
      ],
      "metadata": {
        "colab": {
          "base_uri": "https://localhost:8080/"
        },
        "id": "vcIOByFeb_56",
        "outputId": "d6d290d3-43fa-400d-dc22-c71c1546a135"
      },
      "execution_count": 21,
      "outputs": [
        {
          "output_type": "execute_result",
          "data": {
            "text/plain": [
              "<sqlite3.Cursor at 0x7d568edaa7c0>"
            ]
          },
          "metadata": {},
          "execution_count": 21
        }
      ]
    },
    {
      "cell_type": "code",
      "source": [
        "c.execute('''CREATE TABLE Customers (\n",
        "    customer_id INT PRIMARY KEY,\n",
        "    customer_name VARCHAR(50)\n",
        ");''')"
      ],
      "metadata": {
        "colab": {
          "base_uri": "https://localhost:8080/"
        },
        "id": "ii2lL02ocH0k",
        "outputId": "706e95b8-cbed-479f-dcca-2f51ee59ada1"
      },
      "execution_count": 22,
      "outputs": [
        {
          "output_type": "execute_result",
          "data": {
            "text/plain": [
              "<sqlite3.Cursor at 0x7d568edaa7c0>"
            ]
          },
          "metadata": {},
          "execution_count": 22
        }
      ]
    },
    {
      "cell_type": "code",
      "source": [
        "c.execute('''INSERT INTO Customers (customer_id, customer_name)\n",
        "VALUES\n",
        "(101, 'Alice'),\n",
        "(102, 'Bob');''')"
      ],
      "metadata": {
        "colab": {
          "base_uri": "https://localhost:8080/"
        },
        "id": "LHWB_NtycOil",
        "outputId": "59fb7b94-893a-4cfd-c72e-cfbb725466ee"
      },
      "execution_count": 23,
      "outputs": [
        {
          "output_type": "execute_result",
          "data": {
            "text/plain": [
              "<sqlite3.Cursor at 0x7d568edaa7c0>"
            ]
          },
          "metadata": {},
          "execution_count": 23
        }
      ]
    },
    {
      "cell_type": "code",
      "source": [
        "c.execute('''CREATE TABLE Product_s (\n",
        "    product_id INT PRIMARY KEY,\n",
        "    product_name VARCHAR(50),\n",
        "    order_id INT\n",
        ");''')"
      ],
      "metadata": {
        "colab": {
          "base_uri": "https://localhost:8080/"
        },
        "id": "520dIVOKcT9o",
        "outputId": "0ab60dff-fe7d-4f59-dd25-6f188e494a3a"
      },
      "execution_count": 24,
      "outputs": [
        {
          "output_type": "execute_result",
          "data": {
            "text/plain": [
              "<sqlite3.Cursor at 0x7d568edaa7c0>"
            ]
          },
          "metadata": {},
          "execution_count": 24
        }
      ]
    },
    {
      "cell_type": "code",
      "source": [
        "c.execute('''INSERT INTO Product_s (product_id, product_name, order_id)\n",
        "VALUES\n",
        "(1, 'Laptop', 1),\n",
        "(2, 'Phone', NULL);''')"
      ],
      "metadata": {
        "colab": {
          "base_uri": "https://localhost:8080/"
        },
        "id": "5zAimHb8czNj",
        "outputId": "8c22ecd9-c0f3-46db-b34c-0e0fbd74c574"
      },
      "execution_count": 25,
      "outputs": [
        {
          "output_type": "execute_result",
          "data": {
            "text/plain": [
              "<sqlite3.Cursor at 0x7d568edaa7c0>"
            ]
          },
          "metadata": {},
          "execution_count": 25
        }
      ]
    },
    {
      "cell_type": "code",
      "source": [
        "# QUERY USING INNER JOIN AND LEFT JOIN:(product table name is written as product_s to avoid the duplicate)\n",
        "c.execute('''SELECT\n",
        "    Orders.order_id,\n",
        "    Orders.customer_id,\n",
        "    Customers.customer_name,\n",
        "    Product_s.product_name\n",
        "FROM\n",
        "    Product_s\n",
        "LEFT JOIN\n",
        "    Orders ON Product_s.order_id = Orders.order_id\n",
        "LEFT JOIN\n",
        "    Customers ON Orders.customer_id = Customers.customer_id;''')\n"
      ],
      "metadata": {
        "colab": {
          "base_uri": "https://localhost:8080/"
        },
        "id": "6QGUAVShc_Jn",
        "outputId": "c7fa1e36-f0d2-4e14-9946-b3572d021b20"
      },
      "execution_count": 26,
      "outputs": [
        {
          "output_type": "execute_result",
          "data": {
            "text/plain": [
              "<sqlite3.Cursor at 0x7d568edaa7c0>"
            ]
          },
          "metadata": {},
          "execution_count": 26
        }
      ]
    },
    {
      "cell_type": "markdown",
      "source": [
        "Q9 - GIVEN THE FOLLOWING TABLES:\n",
        "\n",
        "SALES:\n",
        "sales_id = 1,2,3\n",
        "product_id = 101,102,101\n",
        "amount = 700\n",
        "\n",
        "Products:\n",
        "product_id = 101,102\n",
        "product_name = Laptop , Phone\n",
        "\n",
        "WRITE A QUERY TO FIND THE TOTAL SALES FOR EACH PRODUCT USING AN INNER JOIN AND THE SUM() FUNCTION ."
      ],
      "metadata": {
        "id": "9YzHg3Il6flU"
      }
    },
    {
      "cell_type": "code",
      "source": [
        "# ANSWER -\n",
        "c.execute('''\n",
        "CREATE TABLE Sales (\n",
        "    sales_id INTEGER PRIMARY KEY,\n",
        "    product_id INTEGER,\n",
        "    amount DECIMAL(10, 2)\n",
        ")\n",
        "''')\n"
      ],
      "metadata": {
        "colab": {
          "base_uri": "https://localhost:8080/"
        },
        "id": "embJenLaeFM5",
        "outputId": "c48a18b6-88c6-4edf-b5b8-6db567056a56"
      },
      "execution_count": 18,
      "outputs": [
        {
          "output_type": "execute_result",
          "data": {
            "text/plain": [
              "<sqlite3.Cursor at 0x7d568edaa7c0>"
            ]
          },
          "metadata": {},
          "execution_count": 18
        }
      ]
    },
    {
      "cell_type": "code",
      "source": [
        "c.execute('''INSERT INTO Sales (sales_id, product_id, amount)\n",
        "VALUES\n",
        "(1, 101, 700),\n",
        "(2, 102, 700),\n",
        "(3, 101, 700); ''')"
      ],
      "metadata": {
        "colab": {
          "base_uri": "https://localhost:8080/"
        },
        "id": "hOvHLmBdebiT",
        "outputId": "f3b64940-0ca7-44b1-8f7f-fc8e30659bd4"
      },
      "execution_count": 19,
      "outputs": [
        {
          "output_type": "execute_result",
          "data": {
            "text/plain": [
              "<sqlite3.Cursor at 0x7d568edaa7c0>"
            ]
          },
          "metadata": {},
          "execution_count": 19
        }
      ]
    },
    {
      "cell_type": "markdown",
      "source": [
        "Q10 - YOU ARE GIVEN THREE TABLES:\n",
        "\n",
        "Orders:\n",
        "order_id = 1,2\n",
        "order_date = 2024-01-02,2024-01-05\n",
        "customer_id = 1,2\n",
        "\n",
        "Customers:\n",
        "customer_id = 1,2\n",
        "customer_name = Alice,Bob\n",
        "\n",
        "Order_Details:\n",
        "\n",
        "order_id = 1,2,3\n",
        "product_id = 101,102,101\n",
        "quantity = 2,1,3\n",
        "\n",
        "WRITE A QUERY TO DISPLAY THE order_id,customer_id,customer_name,AND THE QUANTITY OF PRODUCTS ORDERED BY EACH CUSTOMER USING AN INNER JOIN BETWEEN ALL THREE TABLES.\n",
        "\n",
        "NOTE- THE ABOVE-MENTIONED QUESTIONS DON'T REQUIRE ANY DATASET."
      ],
      "metadata": {
        "id": "llsHq5Ak8U6P"
      }
    },
    {
      "cell_type": "code",
      "source": [
        "#ANSWER - orders is written as order__s to avoid duplicate\n",
        "c.execute('''CREATE TABLE Order__s (\n",
        "    order_id INT PRIMARY KEY,\n",
        "    order_date DATE,\n",
        "    customer_id INT\n",
        ");''')"
      ],
      "metadata": {
        "colab": {
          "base_uri": "https://localhost:8080/"
        },
        "id": "2Lmpdmg2gUIB",
        "outputId": "2959c2ab-6e49-42b6-f45d-eb5dece1a451"
      },
      "execution_count": 27,
      "outputs": [
        {
          "output_type": "execute_result",
          "data": {
            "text/plain": [
              "<sqlite3.Cursor at 0x7d568edaa7c0>"
            ]
          },
          "metadata": {},
          "execution_count": 27
        }
      ]
    },
    {
      "cell_type": "markdown",
      "source": [
        "c.execute('''INSERT INTO Orders (order_id, order_date, customer_id)\n",
        "VALUES(1, '2024-01-02', 1),(2, '2024-01-05', 2);''')"
      ],
      "metadata": {
        "id": "88L8lW2DegWG"
      }
    },
    {
      "cell_type": "code",
      "source": [
        "\n",
        "c.execute('''CREATE TABLE Orders (\n",
        "    order_id INT PRIMARY KEY,\n",
        "    order_date DATE,\n",
        "    customer_id INT\n",
        ");\n",
        "\n",
        "INSERT INTO Orders (order_id, order_date, customer_id)\n",
        "VALUES\n",
        "(1, '2024-01-02', 1),\n",
        "(2, '2024-01-05', 2);\n",
        "\n",
        "-- CREATE CUSTOMERS TABLE\n",
        "CREATE TABLE Customers (\n",
        "    customer_id INT PRIMARY KEY,\n",
        "    customer_name VARCHAR(50)\n",
        ");\n",
        "\n",
        "INSERT INTO Customers (customer_id, customer_name)\n",
        "VALUES\n",
        "(1, 'Alice'),\n",
        "(2, 'Bob');\n",
        "\n",
        "-- CREATE ORDER_DETAILS TABLE\n",
        "CREATE TABLE Order_Details (\n",
        "    order_id INT,\n",
        "    product_id INT,\n",
        "    quantity INT,\n",
        "    PRIMARY KEY (order_id, product_id)\n",
        ");\n",
        "\n",
        "INSERT INTO Order_Details (order_id, product_id, quantity)\n",
        "VALUES\n",
        "(1, 101, 2),\n",
        "(2, 102, 1),\n",
        "(3, 101, 3); ''')\n"
      ],
      "metadata": {
        "id": "LY9nk-jKhUSH"
      },
      "execution_count": null,
      "outputs": []
    },
    {
      "cell_type": "code",
      "source": [
        "#QUERY TO DISPLAY THE ORDER DETAILS, CUSTOMER INFO, AND QUANTITY:\n",
        "SELECT\n",
        "    Orders.order_id,\n",
        "    Orders.customer_id,\n",
        "    Customers.customer_name,\n",
        "    Order_Details.quantity\n",
        "FROM\n",
        "    Orders\n",
        "INNER JOIN\n",
        "    Customers ON Orders.customer_id = Customers.customer_id\n",
        "INNER JOIN\n",
        "    Order_Details ON Orders.order_id = Order_Details.order_id;\n"
      ],
      "metadata": {
        "id": "ebAzvSa5hXiw"
      },
      "execution_count": null,
      "outputs": []
    },
    {
      "cell_type": "markdown",
      "source": [
        "# **SQL COMMANDS**"
      ],
      "metadata": {
        "id": "cCQkx64shgGM"
      }
    },
    {
      "cell_type": "markdown",
      "source": [
        "Q1- IDENTIFY THE PRIMARY KEYS AND FOREIGN KEYS IN MAVEN MOVIES DB.DISCUSS THE DIFFERENCES ."
      ],
      "metadata": {
        "id": "xeIFKpHshpbC"
      }
    },
    {
      "cell_type": "markdown",
      "source": [
        "ANSWER-\n",
        "* PRIMARY KEYS IN MAVEN MOVIES DATABASE ARE SUCH AS -\n",
        "actor_id , film_id , customer_id, inventory_id, rental_id , payment_id\n",
        "\n",
        "* FOREIGN KEYS -\n",
        "\n",
        "film_actor: actor_id = actor(actor_id),film_id = film(film_id)\n",
        "rental: inventory = inventory(inventory_id),customer_id = customer(customer_id)\n",
        "payment: rental_id = rental(rental_id),customer_id = customer(customer_id)  \n",
        "inventory: film_id = film(film_id), store_id = store(store_id)\n",
        "\n",
        "* DIFFERENCES - 1) PRIMARY KEY UNIQUELY IDENTIFIES A RECORD IN A TABLE WHERE FOREIGN KEY LINKS TWO TABLES BY REFRENCING A PRIMARY KEY .\n",
        "2) PRIMARY KEY MUST BE UNIQUE FOR EACH RECORD WHERE FOREIGN KEY CAN HAVE DUPLICATE VALUES WITHN THE CHILD TABLE.\n",
        "3) PRIMARY CAN NOOT BE NULL WHERE FOREIGN KEY CAN HAVE NULL VALUES."
      ],
      "metadata": {
        "id": "i5Lm3Xf6-z1V"
      }
    },
    {
      "cell_type": "markdown",
      "source": [
        "2- LIST ALL DETAILS OF ACTORS"
      ],
      "metadata": {
        "id": "3EO6WrWKjqp6"
      }
    },
    {
      "cell_type": "markdown",
      "source": [
        "ANSWER -\n",
        "\n",
        "connection = sqlite3.connect(\"Mavenmovies.sql\")\n",
        "with open(\"Mavenmovies.sql\", \"r\") as sql_file:\n",
        "    sql_script = sql_file.read()\n",
        "cursor = connection.cursor()\n",
        "c.execute('''SELECT * FROM actor;\n",
        "''')"
      ],
      "metadata": {
        "id": "7tEGovCGhxsF"
      }
    },
    {
      "cell_type": "markdown",
      "source": [
        "3- LIST ALL CUSTOMER INFORMATION FROM DB."
      ],
      "metadata": {
        "id": "mWjdGGjCjxyH"
      }
    },
    {
      "cell_type": "code",
      "source": [
        " #ANSWER - c.execute('''SELECT * FROM customer;''')"
      ],
      "metadata": {
        "id": "53kccwHTDYYC"
      },
      "execution_count": null,
      "outputs": []
    },
    {
      "cell_type": "markdown",
      "source": [
        "4- LIST DIFFERENT COUNTRIES."
      ],
      "metadata": {
        "id": "ZyQnp2IFj4fq"
      }
    },
    {
      "cell_type": "code",
      "source": [
        "#ANSWER - c.execute('''SELECT DISTINCT country FROM country;''')"
      ],
      "metadata": {
        "id": "wmuZxu3IDcqn"
      },
      "execution_count": null,
      "outputs": []
    },
    {
      "cell_type": "markdown",
      "source": [
        "5- DISPLAY ALL ACTIVE CUSTOMERS."
      ],
      "metadata": {
        "id": "7RPkj7Utj86P"
      }
    },
    {
      "cell_type": "code",
      "source": [
        "#ANSWER- SELECT rental_id FROM rental WHERE customer_id = 1;\n"
      ],
      "metadata": {
        "id": "IZao7YdoFXIN"
      },
      "execution_count": null,
      "outputs": []
    },
    {
      "cell_type": "markdown",
      "source": [
        "6- LIST OF ALL RENTAL IDs FOR CUSTOMER WITH ID 1."
      ],
      "metadata": {
        "id": "TLezs4spkChD"
      }
    },
    {
      "cell_type": "code",
      "source": [
        "#ANSWER- SELECT rental_id FROM rental WHERE customer_id = 1;\n"
      ],
      "metadata": {
        "id": "jU4u5qu1FaWP"
      },
      "execution_count": null,
      "outputs": []
    },
    {
      "cell_type": "markdown",
      "source": [
        "7- DISPLAY ALL THE FILMS WHOSE RENTAL DURATION IS GREATER THAN 5."
      ],
      "metadata": {
        "id": "UFJ2-uFRkPAX"
      }
    },
    {
      "cell_type": "code",
      "source": [
        "#ANSWER- SELECT * FROM film WHERE rental_duration > 5;\n"
      ],
      "metadata": {
        "id": "zIHcRytNFdoK"
      },
      "execution_count": null,
      "outputs": []
    },
    {
      "cell_type": "markdown",
      "source": [
        "8- LIST THE TOTAL NUMBER OF FILMS WHOSE REPLACEMENT COST IS GREATER THAN $15 AND LESS THAN $20."
      ],
      "metadata": {
        "id": "23vOqrPGkYr3"
      }
    },
    {
      "cell_type": "code",
      "source": [
        "#ANSWER- SELECT COUNT(*) FROM film WHERE replacement_cost > 15 AND replacement_cost < 20;\n"
      ],
      "metadata": {
        "id": "Yb-W8k_ZFeDd"
      },
      "execution_count": null,
      "outputs": []
    },
    {
      "cell_type": "markdown",
      "source": [
        "9- DISPLAY THE COUNT OF UNIQUE FIRST NAMES OF ACTORS."
      ],
      "metadata": {
        "id": "tEEI_W6YkrF9"
      }
    },
    {
      "cell_type": "code",
      "source": [
        "#ANSWER- SELECT COUNT(DISTINCT first_name) FROM actor;\n"
      ],
      "metadata": {
        "id": "I4WxEEjiFeji"
      },
      "execution_count": null,
      "outputs": []
    },
    {
      "cell_type": "markdown",
      "source": [
        "10- DISPLAY THE FIRST 10 RECORDS FROM THE CUSTOMER TABLE ."
      ],
      "metadata": {
        "id": "nZ_UDHsCk3as"
      }
    },
    {
      "cell_type": "code",
      "source": [
        "#ANSWER- SELECT * FROM customer LIMIT 10;\n"
      ],
      "metadata": {
        "id": "bKqJtVPTFfSn"
      },
      "execution_count": null,
      "outputs": []
    },
    {
      "cell_type": "markdown",
      "source": [
        "11- DISPLAY THE FIRST 3 RECORDS FRONM THE CUSTOMER TABLE WHOSE FIRST NAME STARTS WITH 'B'."
      ],
      "metadata": {
        "id": "XPi-Jn9WlAuj"
      }
    },
    {
      "cell_type": "code",
      "source": [
        "#ANSWER- SELECT * FROM customer WHERE first_name LIKE 'B%' LIMIT 3;\n"
      ],
      "metadata": {
        "id": "MJtwNtfAFf6O"
      },
      "execution_count": null,
      "outputs": []
    },
    {
      "cell_type": "markdown",
      "source": [
        "12- DISPLAY THE NAMES OF THE FIRST 5 MOVIES WHICH ARE RELATED AS 'G'."
      ],
      "metadata": {
        "id": "jzFXR5vP3j5v"
      }
    },
    {
      "cell_type": "code",
      "source": [
        "#ANSWER- SELECT title FROM film WHERE rating = 'G' LIMIT 5;\n"
      ],
      "metadata": {
        "id": "SaSxiRgrFgdY"
      },
      "execution_count": null,
      "outputs": []
    },
    {
      "cell_type": "markdown",
      "source": [
        "13- FIND ALL CUSTOMERS WHOSE FIRST NAME STARTS WITH 'a'."
      ],
      "metadata": {
        "id": "pVmMkBGm31dQ"
      }
    },
    {
      "cell_type": "code",
      "source": [
        "#ANSWER- SELECT * FROM customer WHERE first_name LIKE 'A%';\n"
      ],
      "metadata": {
        "id": "VzhanUFIFg3s"
      },
      "execution_count": null,
      "outputs": []
    },
    {
      "cell_type": "markdown",
      "source": [
        "14- FIND ALL CUSTOMERS WHOSE FIRST NAME ENDS WITH \"A\"."
      ],
      "metadata": {
        "id": "0y1lbfGD4BsX"
      }
    },
    {
      "cell_type": "code",
      "source": [
        "#ANSWER- SELECT * FROM customer WHERE first_name LIKE '%A';\n"
      ],
      "metadata": {
        "id": "X3PTV0rLFi4T"
      },
      "execution_count": null,
      "outputs": []
    },
    {
      "cell_type": "markdown",
      "source": [
        "15- DISPLAY THE LIST OF FIRST 4 CITIES WHICH STARTS AND ENDS WITH 'A'."
      ],
      "metadata": {
        "id": "08gV-FNu4Ip6"
      }
    },
    {
      "cell_type": "code",
      "source": [
        "#ANSWER- SELECT DISTINCT city FROM city WHERE city LIKE 'A%' AND city LIKE '%A' LIMIT 4;\n"
      ],
      "metadata": {
        "id": "_wUvzhADFjjU"
      },
      "execution_count": null,
      "outputs": []
    },
    {
      "cell_type": "markdown",
      "source": [
        "16- FIND ALL CUSTOMERS WHOSE FIRST NAME HAVE \"NI\" IN ANY POSITION ."
      ],
      "metadata": {
        "id": "qTqXWR-54dh1"
      }
    },
    {
      "cell_type": "code",
      "source": [
        "#ANSWER- SELECT * FROM customer WHERE first_name LIKE '%NI%';\n"
      ],
      "metadata": {
        "id": "rkSjgp9vFj8l"
      },
      "execution_count": null,
      "outputs": []
    },
    {
      "cell_type": "markdown",
      "source": [
        "17- FIND ALL CUSTOMERS WHOSE FIRST NAME HAVE \"r\" IN THE SECOND POSITION ."
      ],
      "metadata": {
        "id": "WqpfR_gB4pBv"
      }
    },
    {
      "cell_type": "code",
      "source": [
        "#ANSWER- SELECT * FROM customer WHERE first_name LIKE '_R%';\n"
      ],
      "metadata": {
        "id": "RohF3z2lFkdo"
      },
      "execution_count": null,
      "outputs": []
    },
    {
      "cell_type": "markdown",
      "source": [
        "18- FIND ALL CUSTOMERS WHOSE FIRST NAME STARTS WITH \"a\" AND ARE AT LEAST 5 CHARACTERS IN LENGTH ."
      ],
      "metadata": {
        "id": "xH4TNdVz41sJ"
      }
    },
    {
      "cell_type": "code",
      "source": [
        "#ANSWER- SELECT * FROM customer WHERE first_name LIKE 'A%' AND LENGTH(first_name) >= 5;\n"
      ],
      "metadata": {
        "id": "NY_ElVKAFlDZ"
      },
      "execution_count": null,
      "outputs": []
    },
    {
      "cell_type": "markdown",
      "source": [
        "19- FIND ALL CUSTOMERS WHOSE FIRST NAME STARTS WITH \"a\" AND ENDS WITH \"o\"."
      ],
      "metadata": {
        "id": "3HxuhBmO5Dwr"
      }
    },
    {
      "cell_type": "code",
      "source": [
        "#ANSWER- SELECT * FROM customer WHERE first_name LIKE 'A%O';\n"
      ],
      "metadata": {
        "id": "L4UAj8JyFlmv"
      },
      "execution_count": null,
      "outputs": []
    },
    {
      "cell_type": "markdown",
      "source": [
        "20- GET THE FILMS WITH PG AND PG-13 RATING USING IN OPERATOR."
      ],
      "metadata": {
        "id": "qzwgy8Jo5R4R"
      }
    },
    {
      "cell_type": "code",
      "source": [
        "#ANSWER- SELECT * FROM film WHERE rating IN ('PG', 'PG-13');\n"
      ],
      "metadata": {
        "id": "VraIMgzaFl8r"
      },
      "execution_count": null,
      "outputs": []
    },
    {
      "cell_type": "markdown",
      "source": [
        "21- GET THE FILMS WITH LENGTH BETWEEN 50 TO 100 USING BETWEEN OPERATOR."
      ],
      "metadata": {
        "id": "Gw2Y3jv65caN"
      }
    },
    {
      "cell_type": "code",
      "source": [
        "#ANSWER- SELECT * FROM film WHERE length BETWEEN 50 AND 100;\n"
      ],
      "metadata": {
        "id": "0WnzsvyuFmVK"
      },
      "execution_count": null,
      "outputs": []
    },
    {
      "cell_type": "markdown",
      "source": [
        "22- GET THE TOP 50 ACTORS USING LIMIT OPERATOR."
      ],
      "metadata": {
        "id": "bzZ4iQUf5nVp"
      }
    },
    {
      "cell_type": "code",
      "source": [
        "#ANSWER- SELECT * FROM actor LIMIT 50;\n"
      ],
      "metadata": {
        "id": "uq9ab4fTFm1f"
      },
      "execution_count": null,
      "outputs": []
    },
    {
      "cell_type": "markdown",
      "source": [
        "23- GET THE DISTINCT FILM IDS FROM INVENTORY TABLE."
      ],
      "metadata": {
        "id": "BWTJ2KLk5tzc"
      }
    },
    {
      "cell_type": "code",
      "source": [
        "#ANSWER- SELECT DISTINCT film_id FROM inventory;\n"
      ],
      "metadata": {
        "id": "0Jma9anhFnR1"
      },
      "execution_count": null,
      "outputs": []
    },
    {
      "cell_type": "markdown",
      "source": [
        "# FUNCTIONS"
      ],
      "metadata": {
        "id": "Jl7iWh7eHeXw"
      }
    },
    {
      "cell_type": "markdown",
      "source": [
        "Q1-RETRIEVE THE TOTAL NUMBER OF RENTALS MADE IN THE SAKILA DATABASE.\n",
        "\n",
        "HINT: USE THE COUNT() FUNCTION."
      ],
      "metadata": {
        "id": "5lni00tBHg5d"
      }
    },
    {
      "cell_type": "markdown",
      "source": [
        "SELECT COUNT(*) AS total_rentals\n",
        "FROM rental;\n"
      ],
      "metadata": {
        "id": "CocfemjYfH-5"
      }
    },
    {
      "cell_type": "markdown",
      "source": [
        "Q2- FIND THE AVERAGE RENTAL DURATION (IN DAYS) OF MOVIES RENTED FROM THE SAKILA DATABASE.\n",
        "\n",
        "HINT: UTILIZE THE AVG() FUNCTION."
      ],
      "metadata": {
        "id": "8yPY36CqIKCI"
      }
    },
    {
      "cell_type": "markdown",
      "source": [
        "ANSWER- SELECT COUNT(*) AS total_rentals\n",
        "FROM rental;\n"
      ],
      "metadata": {
        "id": "sksi5Y8gfLFY"
      }
    },
    {
      "cell_type": "markdown",
      "source": [
        "Q3- DISPLAY THE FIRST NAME AND LAST NAME OF CUSTOMERS IN UPPERCASE.\n",
        "\n",
        "HINT: USE THE UPPER() FUNCTION."
      ],
      "metadata": {
        "id": "HcUPW2adISS_"
      }
    },
    {
      "cell_type": "markdown",
      "source": [
        "ANSWER-\n",
        "SELECT UPPER(first_name) AS first_name_upper,\n",
        "       UPPER(last_name) AS last_name_upper\n",
        "FROM customer;\n"
      ],
      "metadata": {
        "id": "1Y2JQhsSfpdN"
      }
    },
    {
      "cell_type": "markdown",
      "source": [
        "Q4- EXTRACT THE MONTH FROM THE RENTAL DATE AND DISPLAY IT ALONGSIDE THE RENTAL ID.\n",
        "\n",
        "HINT: EMPLOY THE MONTH() FUNCTION."
      ],
      "metadata": {
        "id": "2XWFqzV6Igy3"
      }
    },
    {
      "cell_type": "markdown",
      "source": [
        "ANSWER -\n",
        "\n",
        "SELECT rental_id,\n",
        "       strftime('%m', rental_date) AS rental_month\n",
        "FROM rental;\n"
      ],
      "metadata": {
        "id": "a5drJtTFfvbt"
      }
    },
    {
      "cell_type": "markdown",
      "source": [
        "Q5- RETRIEVE THE COUNT OF RENTALS FOR EACH CUSTOMER (DISPLAY CUSTOMER ID AND THE COUNT OF RENTALS).\n",
        "\n",
        "HINT: USE COUNT() IN CONJUNCTION WITH GROUP BY."
      ],
      "metadata": {
        "id": "dEnV0Ik1In_S"
      }
    },
    {
      "cell_type": "markdown",
      "source": [
        "ANSWER -\n",
        "\n",
        "SELECT customer_id,\n",
        "       COUNT(*) AS rental_count\n",
        "FROM rental\n",
        "GROUP BY customer_id;"
      ],
      "metadata": {
        "id": "NZgEIqYFf0FD"
      }
    },
    {
      "cell_type": "markdown",
      "source": [
        "Q6- FIND THE TOTAL REVENUE GENERATED BY EACH STORE.\n",
        "\n",
        "HINT: COMBINE SUM() AND GROUP BY."
      ],
      "metadata": {
        "id": "-J2AcHf2IvZu"
      }
    },
    {
      "cell_type": "markdown",
      "source": [
        "ANSWER-\n",
        "\n",
        "SELECT store_id,\n",
        "       SUM(amount) AS total_revenue\n",
        "FROM payment\n",
        "GROUP BY store_id;\n"
      ],
      "metadata": {
        "id": "cECCPreif7yL"
      }
    },
    {
      "cell_type": "markdown",
      "source": [
        "Q7- DETERMINE THE TOTAL NUMBER OF RENTALS FOR EACH CATEGORY OF MOVIES.\n",
        "\n",
        "HINT: JOIN FILM_CATEGORY, FILM, AND RENTAL TABLES, THEN USE COUNT() AND GROUP BY."
      ],
      "metadata": {
        "id": "NV-Ar93kJA2G"
      }
    },
    {
      "cell_type": "markdown",
      "source": [
        "ANSWER -\n",
        "SELECT c.name AS category_name,\n",
        "       COUNT(r.rental_id) AS rental_count\n",
        "FROM rental r\n",
        "JOIN inventory i ON r.inventory_id = i.inventory_id\n",
        "JOIN film f ON i.film_id = f.film_id\n",
        "JOIN film_category fc ON f.film_id = fc.film_id\n",
        "JOIN category c ON fc.category_id = c.category_id\n",
        "GROUP BY c.name;"
      ],
      "metadata": {
        "id": "fAzELJNRgAFW"
      }
    },
    {
      "cell_type": "markdown",
      "source": [
        "Q8- FIND THE AVERAGE RENTAL RATE OF MOVIES IN EACH LANGUAGE.\n",
        "\n",
        "HINT: JOIN FILM AND LANGUAGE TABLES, THEN USE AVG() AND GROUP BY."
      ],
      "metadata": {
        "id": "SAYYq-1nJESI"
      }
    },
    {
      "cell_type": "markdown",
      "source": [
        "ANSWER -\n",
        "\n",
        "SELECT l.name AS language_name,\n",
        "       AVG(f.rental_rate) AS avg_rental_rate\n",
        "FROM film f\n",
        "JOIN language l ON f.language_id = l.language_id\n",
        "GROUP BY l.name;\n"
      ],
      "metadata": {
        "id": "f0KV1k1VgEJW"
      }
    },
    {
      "cell_type": "markdown",
      "source": [
        "Q9- DISPLAY THE TITLE OF THE MOVIE, CUSTOMER'S FIRST NAME, AND LAST NAME WHO RENTED IT.\n",
        "\n",
        "HINT: USE JOIN BETWEEN THE FILM, INVENTORY, RENTAL, AND CUSTOMER TABLES."
      ],
      "metadata": {
        "id": "5a3Nvl2xJHmZ"
      }
    },
    {
      "cell_type": "markdown",
      "source": [
        "ANSWER-\n",
        "\n",
        "SELECT f.title AS movie_title,\n",
        "       c.first_name AS customer_first_name,\n",
        "       c.last_name AS customer_last_name\n",
        "FROM rental r\n",
        "JOIN inventory i ON r.inventory_id = i.inventory_id\n",
        "JOIN film f ON i.film_id = f.film_id\n",
        "JOIN customer c ON r.customer_id = c.customer_id;"
      ],
      "metadata": {
        "id": "S1eIKCCXgIMM"
      }
    },
    {
      "cell_type": "markdown",
      "source": [
        "Q10- RETRIEVE THE NAMES OF ALL ACTORS WHO HAVE APPEARED IN THE FILM \"GONE WITH THE WIND.\"\n",
        "\n",
        "HINT: USE JOIN BETWEEN THE FILM ACTOR, FILM, AND ACTOR TABLES."
      ],
      "metadata": {
        "id": "Q13AqkuPJLs5"
      }
    },
    {
      "cell_type": "markdown",
      "source": [
        "ANSWER -\n",
        "\n",
        "SELECT a.first_name AS actor_first_name,\n",
        "       a.last_name AS actor_last_name\n",
        "FROM film f\n",
        "JOIN film_actor fa ON f.film_id = fa.film_id\n",
        "JOIN actor a ON fa.actor_id = a.actor_id\n",
        "WHERE f.title = 'Gone with the Wind';"
      ],
      "metadata": {
        "id": "69g2Z4H5gNED"
      }
    },
    {
      "cell_type": "markdown",
      "source": [
        "Q11- RETRIEVE THE CUSTOMER NAMES ALONG WITH THE TOTAL AMOUNT THEY'VE SPENT ON RENTALS.\n",
        "\n",
        "HINT: JOIN CUSTOMER, PAYMENT, AND RENTAL TABLES, THEN USE SUM() AND GROUP BY."
      ],
      "metadata": {
        "id": "suGcjMj5JO2K"
      }
    },
    {
      "cell_type": "markdown",
      "source": [
        "ANSWER-\n",
        "\n",
        "SELECT c.first_name AS customer_first_name,\n",
        "       c.last_name AS customer_last_name,\n",
        "       SUM(p.amount) AS total_spent\n",
        "FROM customer c\n",
        "JOIN payment p ON c.customer_id = p.customer_id\n",
        "GROUP BY c.customer_id;"
      ],
      "metadata": {
        "id": "db119PC9gRsb"
      }
    },
    {
      "cell_type": "markdown",
      "source": [
        "Q12- LIST THE TITLES OF MOVIES RENTED BY EACH CUSTOMER IN A PARTICULAR CITY (E.G., 'LONDON').\n",
        "\n",
        "HINT: JOIN CUSTOMER, ADDRESS, CITY, RENTAL, INVENTORY, AND FILM TABLES, THEN USE GROUP BY."
      ],
      "metadata": {
        "id": "7xDQGiNqJR5w"
      }
    },
    {
      "cell_type": "markdown",
      "source": [
        "ANSWER-\n",
        "\n",
        "SELECT c.first_name AS customer_first_name,\n",
        "       c.last_name AS customer_last_name,\n",
        "       f.title AS movie_title,\n",
        "       ci.city AS city_name\n",
        "FROM customer c\n",
        "JOIN address a ON c.address_id = a.address_id\n",
        "JOIN city ci ON a.city_id = ci.city_id\n",
        "JOIN rental r ON c.customer_id = r.customer_id\n",
        "JOIN inventory i ON r.inventory_id = i.inventory_id\n",
        "JOIN film f ON i.film_id = f.film_id\n",
        "WHERE ci.city = 'London'\n",
        "GROUP BY c.customer_id, f.title;"
      ],
      "metadata": {
        "id": "0yVLGVyjgVWe"
      }
    },
    {
      "cell_type": "markdown",
      "source": [
        "**ADVANCED JOINS AND GROUP BY:**"
      ],
      "metadata": {
        "id": "aszlMYNgJVlJ"
      }
    },
    {
      "cell_type": "markdown",
      "source": [
        "Q13- DISPLAY THE TOP 5 RENTED MOVIES ALONG WITH THE NUMBER OF TIMES THEY'VE BEEN RENTED.\n",
        "\n",
        "HINT: JOIN FILM, INVENTORY, AND RENTAL TABLES, THEN USE COUNT() AND GROUP BY, AND LIMIT THE RESULTS."
      ],
      "metadata": {
        "id": "Xu8cA9ftJfJe"
      }
    },
    {
      "cell_type": "markdown",
      "source": [
        "ANSWER-\n",
        "\n",
        "SELECT f.title AS movie_title,\n",
        "       COUNT(r.rental_id) AS rental_count\n",
        "FROM rental r\n",
        "JOIN inventory i ON r.inventory_id = i.inventory_id\n",
        "JOIN film f ON i.film_id = f.film_id\n",
        "GROUP BY f.title\n",
        "ORDER BY rental_count DESC\n",
        "LIMIT 5;\n"
      ],
      "metadata": {
        "id": "EKDLDlc2gZxd"
      }
    },
    {
      "cell_type": "markdown",
      "source": [
        "Q14- DETERMINE THE CUSTOMERS WHO HAVE RENTED MOVIES FROM BOTH STORES (STORE ID 1 AND STORE ID 2).\n",
        "\n",
        "HINT: USE JOINS WITH RENTAL, INVENTORY, AND CUSTOMER TABLES AND CONSIDER COUNT() AND GROUP BY."
      ],
      "metadata": {
        "id": "XBOdBJLLJjAg"
      }
    },
    {
      "cell_type": "markdown",
      "source": [
        "ANSWER-\n",
        "\n",
        "SELECT f.title AS movie_title,\n",
        "       COUNT(r.rental_id) AS rental_count\n",
        "FROM rental r\n",
        "JOIN inventory i ON r.inventory_id = i.inventory_id\n",
        "JOIN film f ON i.film_id = f.film_id\n",
        "GROUP BY f.title\n",
        "ORDER BY rental_count DESC\n",
        "LIMIT 5;\n"
      ],
      "metadata": {
        "id": "Sb4_Jv3FgdI2"
      }
    },
    {
      "cell_type": "markdown",
      "source": [
        "# WINDOWS FUNCTION:"
      ],
      "metadata": {
        "id": "TqC9hlJFJv6F"
      }
    },
    {
      "cell_type": "markdown",
      "source": [
        "Q1 - RANK THE CUSTOMERS BASED ON THE TOTAL AMOUNT THEY'VE SPENT ON RENTALS."
      ],
      "metadata": {
        "id": "IQnrh8RjJzaj"
      }
    },
    {
      "cell_type": "markdown",
      "source": [
        "ANSWER -\n",
        "\n",
        "SELECT c.customer_id,\n",
        "       c.first_name,\n",
        "       c.last_name,\n",
        "       SUM(p.amount) AS total_spent,\n",
        "       RANK() OVER (ORDER BY SUM(p.amount) DESC) AS rank\n",
        "FROM customer c\n",
        "JOIN payment p ON c.customer_id = p.customer_id\n",
        "GROUP BY c.customer_id;\n"
      ],
      "metadata": {
        "id": "EhAqklmSgiOM"
      }
    },
    {
      "cell_type": "markdown",
      "source": [
        "Q2- CALCULATE THE CUMULATIVE REVENUE GENERATED BY EACH FILM OVER TIME."
      ],
      "metadata": {
        "id": "-fyu5LF6KAwX"
      }
    },
    {
      "cell_type": "markdown",
      "source": [
        "ANSWER - SELECT f.title AS movie_title,\n",
        "       p.payment_date,\n",
        "       SUM(p.amount) OVER (PARTITION BY f.film_id ORDER BY p.payment_date) AS cumulative_revenue\n",
        "FROM film f\n",
        "JOIN inventory i ON f.film_id = i.film_id\n",
        "JOIN rental r ON i.inventory_id = r.inventory_id\n",
        "JOIN payment p ON r.rental_id = p.rental_id;\n"
      ],
      "metadata": {
        "id": "39yQzxLLgpDy"
      }
    },
    {
      "cell_type": "markdown",
      "source": [
        "Q3- DETERMINE THE AVERAGE RENTAL DURATION FOR EACH FILM, CONSIDERING FILMS WITH SIMILAR LENGTHS."
      ],
      "metadata": {
        "id": "ombzjNR-KErd"
      }
    },
    {
      "cell_type": "markdown",
      "source": [
        "ANSWER - SELECT f.title AS movie_title,\n",
        "       f.length AS film_length,\n",
        "       AVG(julianday(r.return_date) - julianday(r.rental_date)) OVER (PARTITION BY f.length) AS avg_rental_duration\n",
        "FROM film f\n",
        "JOIN inventory i ON f.film_id = i.film_id\n",
        "JOIN rental r ON i.inventory_id = r.inventory_id;\n"
      ],
      "metadata": {
        "id": "Em6JaVz2gsxQ"
      }
    },
    {
      "cell_type": "markdown",
      "source": [
        "Q4- IDENTIFY THE TOP 3 FILMS IN EACH CATEGORY BASED ON THEIR RENTAL COUNTS ."
      ],
      "metadata": {
        "id": "vEydGfS-KI2I"
      }
    },
    {
      "cell_type": "markdown",
      "source": [
        "ANSWER -\n",
        "\n",
        "SELECT c.name AS category_name,\n",
        "       f.title AS movie_title,\n",
        "       COUNT(r.rental_id) AS rental_count,\n",
        "       RANK() OVER (PARTITION BY c.category_id ORDER BY COUNT(r.rental_id) DESC) AS rank\n",
        "FROM film f\n",
        "JOIN film_category fc ON f.film_id = fc.film_id\n",
        "JOIN category c ON fc.category_id = c.category_id\n",
        "JOIN inventory i ON f.film_id = i.film_id\n",
        "JOIN rental r ON i.inventory_id = r.inventory_id\n",
        "GROUP BY c.category_id, f.film_id\n",
        "HAVING rank <= 3;\n"
      ],
      "metadata": {
        "id": "Yk3uOZgQgvrK"
      }
    },
    {
      "cell_type": "markdown",
      "source": [
        "Q5- FIND THE MONTHLY REVENUE TREND FOR THE ENTIRE RENTAL STORE OVER TIME."
      ],
      "metadata": {
        "id": "XUSdfAJZKNkr"
      }
    },
    {
      "cell_type": "markdown",
      "source": [
        "ANSWER -\n",
        "\n",
        "SELECT strftime('%Y-%m', p.payment_date) AS month,\n",
        "       SUM(p.amount) AS monthly_revenue\n",
        "FROM payment p\n",
        "GROUP BY month\n",
        "ORDER BY month;"
      ],
      "metadata": {
        "id": "CVrha_1WgyzU"
      }
    },
    {
      "cell_type": "markdown",
      "source": [
        "Q6- IDENTIFY THE CUSTOMERS WHOSE TOTAL SPENDING ON RENTALS FALLS WITHIN THE TOP 20% OF ALL CUSTOMERS."
      ],
      "metadata": {
        "id": "yS06-5i2KQ69"
      }
    },
    {
      "cell_type": "markdown",
      "source": [
        "ANSWER -\n",
        "\n",
        "WITH customer_spending AS (\n",
        "    SELECT c.customer_id,\n",
        "           c.first_name,\n",
        "           c.last_name,\n",
        "           SUM(p.amount) AS total_spent\n",
        "    FROM customer c\n",
        "    JOIN payment p ON c.customer_id = p.customer_id\n",
        "    GROUP BY c.customer_id\n",
        "),\n",
        "spending_percentiles AS (\n",
        "    SELECT total_spent,\n",
        "           PERCENT_RANK() OVER (ORDER BY total_spent DESC) AS spending_rank\n",
        "    FROM customer_spending\n",
        ")\n",
        "SELECT cs.customer_id,\n",
        "       cs.first_name,\n",
        "       cs.last_name,\n",
        "       cs.total_spent\n",
        "FROM customer_spending cs\n",
        "JOIN spending_percentiles sp ON cs.total_spent = sp.total_spent\n",
        "WHERE sp.spending_rank >= 0.8;"
      ],
      "metadata": {
        "id": "W2Ki6T74gzta"
      }
    },
    {
      "cell_type": "markdown",
      "source": [
        "Q7- CALCULATE THE RUNNING TOTAL OF RENTALS PER CATEGORY, ORDERED BY RENTAL COUNT."
      ],
      "metadata": {
        "id": "jZAUYA04KT2h"
      }
    },
    {
      "cell_type": "markdown",
      "source": [
        "ANSWER -\n",
        "\n",
        "SELECT c.name AS category_name,\n",
        "       COUNT(r.rental_id) AS rental_count,\n",
        "       SUM(COUNT(r.rental_id)) OVER (PARTITION BY c.category_id ORDER BY COUNT(r.rental_id) DESC) AS running_total\n",
        "FROM category c\n",
        "JOIN film_category fc ON c.category_id = fc.category_id\n",
        "JOIN film f ON fc.film_id = f.film_id\n",
        "JOIN inventory i ON f.film_id = i.film_id\n",
        "JOIN rental r ON i.inventory_id = r.inventory_id\n",
        "GROUP BY c.category_id, f.film_id;\n",
        "w"
      ],
      "metadata": {
        "id": "k0MR3Ceug0pb"
      }
    },
    {
      "cell_type": "markdown",
      "source": [
        "Q8- FIND THE FILMS THAT HAVE BEEN RENTED LESS THAN THE AVERAGE RENTAL COUNT FOR THEIR RESPECTIVE CATEGORIES."
      ],
      "metadata": {
        "id": "89tKRI8HKWcW"
      }
    },
    {
      "cell_type": "markdown",
      "source": [
        "ANSWER -\n",
        "\n",
        "WITH category_rentals AS (\n",
        "    SELECT c.category_id,\n",
        "           c.name AS category_name,\n",
        "           f.film_id,\n",
        "           f.title AS movie_title,\n",
        "           COUNT(r.rental_id) AS rental_count\n",
        "    FROM category c\n",
        "    JOIN film_category fc ON c.category_id = fc.category_id\n",
        "    JOIN film f ON fc.film_id = f.film_id\n",
        "    JOIN inventory i ON f.film_id = i.film_id\n",
        "    JOIN rental r ON i.inventory_id = r.inventory_id\n",
        "    GROUP BY c.category_id, f.film_id\n",
        "),\n",
        "category_avg AS (\n",
        "    SELECT category_id,\n",
        "           AVG(rental_count) AS avg_rental_count\n",
        "    FROM category_rentals\n",
        "    GROUP BY category_id\n",
        ")\n",
        "SELECT cr.category_name,\n",
        "       cr.movie_title,\n",
        "       cr.rental_count\n",
        "FROM category_rentals cr\n",
        "JOIN category_avg ca ON cr.category_id = ca.category_id\n",
        "WHERE cr.rental_count < ca.avg_rental_count;\n",
        "```\n",
        "\n"
      ],
      "metadata": {
        "id": "bxNJUhnxg1YU"
      }
    },
    {
      "cell_type": "markdown",
      "source": [
        "Q9- IDENTIFY THE TOP 5 MONTHS WITH THE HIGHEST REVENUE AND DISPLAY THE REVENUE GENERATED IN EACH MONTH."
      ],
      "metadata": {
        "id": "SMxdNbtNKZy6"
      }
    },
    {
      "cell_type": "markdown",
      "source": [
        "ANSWER - SELECT strftime('%Y-%m', p.payment_date) AS month,\n",
        "       SUM(p.amount) AS revenue,\n",
        "       RANK() OVER (ORDER BY SUM(p.amount) DESC) AS rank\n",
        "FROM payment p\n",
        "GROUP BY month\n",
        "HAVING rank <= 5;"
      ],
      "metadata": {
        "id": "aN0--fryg2Xr"
      }
    },
    {
      "cell_type": "markdown",
      "source": [
        "Q10- CALCULATE THE DIFFERENCE IN RENTAL COUNTS BETWEEN EACH CUSTOMER'S TOTAL RENTALS AND THE AVERAGE RENTALS ACROSS ALL CUSTOMERS."
      ],
      "metadata": {
        "id": "pE2w-dH0KcaX"
      }
    },
    {
      "cell_type": "markdown",
      "source": [
        "ANSWER - WITH customer_rental_counts AS (\n",
        "    SELECT c.customer_id,\n",
        "           c.first_name,\n",
        "           c.last_name,\n",
        "           COUNT(r.rental_id) AS total_rentals\n",
        "    FROM customer c\n",
        "    JOIN rental r ON c.customer_id = r.customer_id\n",
        "    GROUP BY c.customer_id\n",
        "),\n",
        "average_rentals AS (\n",
        "    SELECT AVG(total_rentals) AS avg_rentals\n",
        "    FROM customer_rental_counts\n",
        ")\n",
        "SELECT crc.customer_id,\n",
        "       crc.first_name,\n",
        "       crc.last_name,\n",
        "       crc.total_rentals,\n",
        "       (crc.total_rentals - ar.avg_rentals) AS rental_difference\n",
        "FROM customer_rental_counts crc\n",
        "CROSS JOIN average_rentals ar;\n"
      ],
      "metadata": {
        "id": "jBgVpEOLg3Mi"
      }
    },
    {
      "cell_type": "markdown",
      "source": [
        "# NORMALISATION AND CTE"
      ],
      "metadata": {
        "id": "CXiH1-AhZVpb"
      }
    },
    {
      "cell_type": "markdown",
      "source": [
        "Q1 - FIRST NORMAL FORM (1NF):\n",
        "\n",
        "A. IDENTIFY A TABLE IN THE SAKILA DATABASE THAT VIOLATES 1NF. EXPLAIN HOW YOU WOULD NORMALIZE IT TO ACHIEVE 1NF."
      ],
      "metadata": {
        "id": "T08NiWjPZcQl"
      }
    },
    {
      "cell_type": "markdown",
      "source": [
        "Q2- SECOND NORMAL FORM (2NF):\n",
        "\n",
        "A. CHOOSE A TABLE IN SAKILA AND DESCRIBE HOW YOU WOULD DETERMINE WHETHER IT IS IN 2NF.\n",
        "\n",
        "IF IT VIOLATES 2NF, EXPLAIN THE STEPS TO NORMALIZE IT."
      ],
      "metadata": {
        "id": "Okejlp8saqHT"
      }
    },
    {
      "cell_type": "markdown",
      "source": [
        "Q3- THIRD NORMAL FORM (3NF):\n",
        "\n",
        "A. IDENTIFY A TABLE IN SAKILA THAT VIOLATES 3NF. DESCRIBE THE TRANSITIVE DEPENDENCIES PRESENT AND OUTLINE THE STEPS TO NORMALIZE THE TABLE TO 3NF."
      ],
      "metadata": {
        "id": "KlBhELTuatjD"
      }
    },
    {
      "cell_type": "markdown",
      "source": [
        "Q4- NORMALIZATION PROCESS:\n",
        "\n",
        "A. TAKE A SPECIFIC TABLE IN SAKILA AND GUIDE THROUGH THE PROCESS OF NORMALIZING IT FROM THE INITIAL UNNORMALIZED FORM UP TO AT LEAST 2NF."
      ],
      "metadata": {
        "id": "UFqI4vD9ax8T"
      }
    },
    {
      "cell_type": "markdown",
      "source": [
        "Q5- CTE BASICS:\n",
        "\n",
        "A. WRITE A QUERY USING A CTE TO RETRIEVE THE DISTINCT LIST OF ACTOR NAMES AND THE NUMBER OF FILMS THEY HAVE ACTED IN FROM THE ACTOR AND FILM_ACTOR TABLES."
      ],
      "metadata": {
        "id": "bgE6qVG0a1Uy"
      }
    },
    {
      "cell_type": "markdown",
      "source": [
        "Q6- CTE WITH JOINS:\n",
        "\n",
        "A. CREATE A CTE THAT COMBINES INFORMATION FROM THE FILM AND LANGUAGE TABLES TO DISPLAY THE FILM TITLE, LANGUAGE NAME, AND RENTAL RATE."
      ],
      "metadata": {
        "id": "nSeWiNL4a1-Z"
      }
    },
    {
      "cell_type": "markdown",
      "source": [
        "Q7- CTE FOR AGGREGATION:\n",
        "\n",
        "A. WRITE A QUERY USING A CTE TO FIND THE TOTAL REVENUE GENERATED BY EACH CUSTOMER (SUM OF PAYMENTS) FROM THE CUSTOMER AND PAYMENT TABLES."
      ],
      "metadata": {
        "id": "Y7Att58ZbQTL"
      }
    },
    {
      "cell_type": "markdown",
      "source": [
        "Q8- CTE WITH WINDOW FUNCTIONS:\n",
        "\n",
        "A. UTILIZE A CTE WITH A WINDOW FUNCTION TO RANK FILMS BASED ON THEIR RENTAL DURATION FROM THE FILM TABLE."
      ],
      "metadata": {
        "id": "4OCtPcSvbTsq"
      }
    },
    {
      "cell_type": "markdown",
      "source": [
        "Q9- CTE AND FILTERING:\n",
        "\n",
        "A. CREATE A CTE TO LIST CUSTOMERS WHO HAVE MADE MORE THAN TWO RENTALS, AND THEN JOIN THIS CTE WITH THE CUSTOMER TABLE TO RETRIEVE ADDITIONAL CUSTOMER DETAILS."
      ],
      "metadata": {
        "id": "sZgfroYebWP7"
      }
    },
    {
      "cell_type": "markdown",
      "source": [
        "Q10- CTE FOR DATE CALCULATIONS:\n",
        "\n",
        "A. WRITE A QUERY USING A CTE TO FIND THE TOTAL NUMBER OF RENTALS MADE EACH MONTH, CONSIDERING THE RENTAL_DATE FROM THE RENTAL TABLE"
      ],
      "metadata": {
        "id": "h4AFruHIbaKi"
      }
    },
    {
      "cell_type": "markdown",
      "source": [
        "Q11- CTE AND SELF-JOIN:\n",
        "\n",
        "A. CREATE A CTE TO GENERATE A REPORT SHOWING PAIRS OF ACTORS WHO HAVE APPEARED IN THE SAME FILM TOGETHER, USING THE FILM_ACTOR TABLE."
      ],
      "metadata": {
        "id": "6s3HqSDscBFI"
      }
    },
    {
      "cell_type": "markdown",
      "source": [
        "Q12- CTE FOR RECURSIVE SEARCH:\n",
        "A. IMPLEMENT A RECURSIVE CTE TO FIND ALL EMPLOYEES IN THE STAFF TABLE WHO REPORT TO A SPECIFIC MANAGER, CONSIDERING THE REPORTS_TO COLUMN"
      ],
      "metadata": {
        "id": "Qg3f4onkcCws"
      }
    }
  ]
}