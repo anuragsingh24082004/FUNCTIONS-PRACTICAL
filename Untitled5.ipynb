{
  "nbformat": 4,
  "nbformat_minor": 0,
  "metadata": {
    "colab": {
      "provenance": [],
      "authorship_tag": "ABX9TyM/T967qNu6Uc2tHBVFDwCi",
      "include_colab_link": true
    },
    "kernelspec": {
      "name": "python3",
      "display_name": "Python 3"
    },
    "language_info": {
      "name": "python"
    }
  },
  "cells": [
    {
      "cell_type": "markdown",
      "metadata": {
        "id": "view-in-github",
        "colab_type": "text"
      },
      "source": [
        "<a href=\"https://colab.research.google.com/github/anuragsingh24082004/FUNCTIONS-PRACTICAL/blob/main/Untitled5.ipynb\" target=\"_parent\"><img src=\"https://colab.research.google.com/assets/colab-badge.svg\" alt=\"Open In Colab\"/></a>"
      ]
    },
    {
      "cell_type": "markdown",
      "source": [
        "GOOGLE DRIVE LINK - https://colab.research.google.com/drive/1cY1VTElH0Z-SjLhJJz5cDSWnbs8dheG_\n",
        "\n",
        "GITHUB LINK -"
      ],
      "metadata": {
        "id": "hH7oNFGDkEZu"
      }
    },
    {
      "cell_type": "markdown",
      "source": [
        "# THEORETICAL QUESTIONS -"
      ],
      "metadata": {
        "id": "_b-66d4Fj_Bw"
      }
    },
    {
      "cell_type": "markdown",
      "source": [
        "**Q1 - WHAT IS TENSORFLOW 2.0, AND HOW IS IT DIFFERENT FROM TENSORFLOW 1\n",
        "X?**"
      ],
      "metadata": {
        "id": "ifDu1C5U3VXg"
      }
    },
    {
      "cell_type": "markdown",
      "source": [
        "ANSWER 1:\n",
        "TENSORFLOW 2.0 IS THE UPGRADED VERSION OF TENSORFLOW THAT FOCUSES ON SIMPLICITY AND EASE OF USE. IT INTEGRATES KERAS AS ITS HIGH-LEVEL API, SUPPORTS EAGER EXECUTION BY DEFAULT, AND REMOVES MANY OF THE COMPLEXITIES FOUND IN TENSORFLOW 1.X."
      ],
      "metadata": {
        "id": "I7U787HjfR6B"
      }
    },
    {
      "cell_type": "markdown",
      "source": [
        "**Q2- HOW DO YOU INSTALL TENSORFLOW 2.0?**"
      ],
      "metadata": {
        "id": "5TWEPRQC3FwF"
      }
    },
    {
      "cell_type": "code",
      "source": [
        "# TO INSTALL TENSORFLOW 2.0 WE USE -\n",
        "!pip install tensorflow\n"
      ],
      "metadata": {
        "colab": {
          "base_uri": "https://localhost:8080/"
        },
        "collapsed": true,
        "id": "F2WooevnfdCQ",
        "outputId": "b39fbc15-28f6-4bf5-fc36-1d017f7093e1"
      },
      "execution_count": null,
      "outputs": [
        {
          "output_type": "stream",
          "name": "stdout",
          "text": [
            "Requirement already satisfied: tensorflow in /usr/local/lib/python3.11/dist-packages (2.18.0)\n",
            "Requirement already satisfied: absl-py>=1.0.0 in /usr/local/lib/python3.11/dist-packages (from tensorflow) (1.4.0)\n",
            "Requirement already satisfied: astunparse>=1.6.0 in /usr/local/lib/python3.11/dist-packages (from tensorflow) (1.6.3)\n",
            "Requirement already satisfied: flatbuffers>=24.3.25 in /usr/local/lib/python3.11/dist-packages (from tensorflow) (25.2.10)\n",
            "Requirement already satisfied: gast!=0.5.0,!=0.5.1,!=0.5.2,>=0.2.1 in /usr/local/lib/python3.11/dist-packages (from tensorflow) (0.6.0)\n",
            "Requirement already satisfied: google-pasta>=0.1.1 in /usr/local/lib/python3.11/dist-packages (from tensorflow) (0.2.0)\n",
            "Requirement already satisfied: libclang>=13.0.0 in /usr/local/lib/python3.11/dist-packages (from tensorflow) (18.1.1)\n",
            "Requirement already satisfied: opt-einsum>=2.3.2 in /usr/local/lib/python3.11/dist-packages (from tensorflow) (3.4.0)\n",
            "Requirement already satisfied: packaging in /usr/local/lib/python3.11/dist-packages (from tensorflow) (24.2)\n",
            "Requirement already satisfied: protobuf!=4.21.0,!=4.21.1,!=4.21.2,!=4.21.3,!=4.21.4,!=4.21.5,<6.0.0dev,>=3.20.3 in /usr/local/lib/python3.11/dist-packages (from tensorflow) (5.29.4)\n",
            "Requirement already satisfied: requests<3,>=2.21.0 in /usr/local/lib/python3.11/dist-packages (from tensorflow) (2.32.3)\n",
            "Requirement already satisfied: setuptools in /usr/local/lib/python3.11/dist-packages (from tensorflow) (75.2.0)\n",
            "Requirement already satisfied: six>=1.12.0 in /usr/local/lib/python3.11/dist-packages (from tensorflow) (1.17.0)\n",
            "Requirement already satisfied: termcolor>=1.1.0 in /usr/local/lib/python3.11/dist-packages (from tensorflow) (3.0.1)\n",
            "Requirement already satisfied: typing-extensions>=3.6.6 in /usr/local/lib/python3.11/dist-packages (from tensorflow) (4.13.1)\n",
            "Requirement already satisfied: wrapt>=1.11.0 in /usr/local/lib/python3.11/dist-packages (from tensorflow) (1.17.2)\n",
            "Requirement already satisfied: grpcio<2.0,>=1.24.3 in /usr/local/lib/python3.11/dist-packages (from tensorflow) (1.71.0)\n",
            "Requirement already satisfied: tensorboard<2.19,>=2.18 in /usr/local/lib/python3.11/dist-packages (from tensorflow) (2.18.0)\n",
            "Requirement already satisfied: keras>=3.5.0 in /usr/local/lib/python3.11/dist-packages (from tensorflow) (3.8.0)\n",
            "Requirement already satisfied: numpy<2.1.0,>=1.26.0 in /usr/local/lib/python3.11/dist-packages (from tensorflow) (2.0.2)\n",
            "Requirement already satisfied: h5py>=3.11.0 in /usr/local/lib/python3.11/dist-packages (from tensorflow) (3.13.0)\n",
            "Requirement already satisfied: ml-dtypes<0.5.0,>=0.4.0 in /usr/local/lib/python3.11/dist-packages (from tensorflow) (0.4.1)\n",
            "Requirement already satisfied: tensorflow-io-gcs-filesystem>=0.23.1 in /usr/local/lib/python3.11/dist-packages (from tensorflow) (0.37.1)\n",
            "Requirement already satisfied: wheel<1.0,>=0.23.0 in /usr/local/lib/python3.11/dist-packages (from astunparse>=1.6.0->tensorflow) (0.45.1)\n",
            "Requirement already satisfied: rich in /usr/local/lib/python3.11/dist-packages (from keras>=3.5.0->tensorflow) (13.9.4)\n",
            "Requirement already satisfied: namex in /usr/local/lib/python3.11/dist-packages (from keras>=3.5.0->tensorflow) (0.0.8)\n",
            "Requirement already satisfied: optree in /usr/local/lib/python3.11/dist-packages (from keras>=3.5.0->tensorflow) (0.14.1)\n",
            "Requirement already satisfied: charset-normalizer<4,>=2 in /usr/local/lib/python3.11/dist-packages (from requests<3,>=2.21.0->tensorflow) (3.4.1)\n",
            "Requirement already satisfied: idna<4,>=2.5 in /usr/local/lib/python3.11/dist-packages (from requests<3,>=2.21.0->tensorflow) (3.10)\n",
            "Requirement already satisfied: urllib3<3,>=1.21.1 in /usr/local/lib/python3.11/dist-packages (from requests<3,>=2.21.0->tensorflow) (2.3.0)\n",
            "Requirement already satisfied: certifi>=2017.4.17 in /usr/local/lib/python3.11/dist-packages (from requests<3,>=2.21.0->tensorflow) (2025.1.31)\n",
            "Requirement already satisfied: markdown>=2.6.8 in /usr/local/lib/python3.11/dist-packages (from tensorboard<2.19,>=2.18->tensorflow) (3.7)\n",
            "Requirement already satisfied: tensorboard-data-server<0.8.0,>=0.7.0 in /usr/local/lib/python3.11/dist-packages (from tensorboard<2.19,>=2.18->tensorflow) (0.7.2)\n",
            "Requirement already satisfied: werkzeug>=1.0.1 in /usr/local/lib/python3.11/dist-packages (from tensorboard<2.19,>=2.18->tensorflow) (3.1.3)\n",
            "Requirement already satisfied: MarkupSafe>=2.1.1 in /usr/local/lib/python3.11/dist-packages (from werkzeug>=1.0.1->tensorboard<2.19,>=2.18->tensorflow) (3.0.2)\n",
            "Requirement already satisfied: markdown-it-py>=2.2.0 in /usr/local/lib/python3.11/dist-packages (from rich->keras>=3.5.0->tensorflow) (3.0.0)\n",
            "Requirement already satisfied: pygments<3.0.0,>=2.13.0 in /usr/local/lib/python3.11/dist-packages (from rich->keras>=3.5.0->tensorflow) (2.18.0)\n",
            "Requirement already satisfied: mdurl~=0.1 in /usr/local/lib/python3.11/dist-packages (from markdown-it-py>=2.2.0->rich->keras>=3.5.0->tensorflow) (0.1.2)\n"
          ]
        }
      ]
    },
    {
      "cell_type": "code",
      "source": [
        "import tensorflow as tf\n",
        "print(tf.__version__)\n"
      ],
      "metadata": {
        "colab": {
          "base_uri": "https://localhost:8080/"
        },
        "id": "IxbSfCVkhcdZ",
        "outputId": "427892bc-ace7-4f04-a572-d1193d004c83"
      },
      "execution_count": null,
      "outputs": [
        {
          "output_type": "stream",
          "name": "stdout",
          "text": [
            "2.18.0\n"
          ]
        }
      ]
    },
    {
      "cell_type": "markdown",
      "source": [
        "**Q3- WHAT IS THE PRIMARY FUNCTION OF THE TF.FUNCTION IN TENSORFLOW 2.0?**"
      ],
      "metadata": {
        "id": "UQFNs7Go3Ftx"
      }
    },
    {
      "cell_type": "markdown",
      "source": [
        "ANSWER 3:\n",
        "THE TF.FUNCTION DECORATOR IS USED TO CONVERT A PYTHON FUNCTION INTO A TENSORFLOW COMPUTATION GRAPH. THIS OPTIMIZATION IMPROVES PERFORMANCE AND ALLOWS FOR BETTER DEPLOYMENT ACROSS PLATFORMS."
      ],
      "metadata": {
        "id": "Je5dkOqyfttY"
      }
    },
    {
      "cell_type": "markdown",
      "source": [
        "**Q4- WHAT IS THE PURPOSE OF THE MODEL CLASS IN TENSORFLOW 2.0?**"
      ],
      "metadata": {
        "id": "o76oWDsD3Frh"
      }
    },
    {
      "cell_type": "markdown",
      "source": [
        "THE MODEL CLASS IN TENSORFLOW 2.0 (FROM TF.KERAS.MODEL) SERVES AS A BASE CLASS TO BUILD CUSTOM DEEP LEARNING MODELS. IT ENABLES US TO DEFINE THE FORWARD PASS AND MANAGE TRAINING, EVALUATION, AND PREDICTION LOGIC."
      ],
      "metadata": {
        "id": "-Ga_es2_fxfa"
      }
    },
    {
      "cell_type": "markdown",
      "source": [
        "**Q5- HOW DO YOU CREATE A NEURAL NETWORK USING TENSORFLOW 2.0?**"
      ],
      "metadata": {
        "id": "wGCrOqz03FpG"
      }
    },
    {
      "cell_type": "code",
      "source": [
        "# we can create a neural network using the terminal API frim keras in tensorflow\n",
        "#example -\n",
        "from tensorflow.keras.models import Sequential\n",
        "from tensorflow.keras.layers import Dense\n",
        "\n",
        "model = Sequential([\n",
        "    Dense(64, activation='relu'),\n",
        "    Dense(1)\n",
        "])\n"
      ],
      "metadata": {
        "id": "G8WCx-cbf291"
      },
      "execution_count": null,
      "outputs": []
    },
    {
      "cell_type": "markdown",
      "source": [
        "**Q6- WHAT IS THE IMPORTANCE OF TENSOR SPACE IN TENSORFLOW?**"
      ],
      "metadata": {
        "id": "owD7R16Y3Fme"
      }
    },
    {
      "cell_type": "markdown",
      "source": [
        "ANSWER6-\n",
        "TENSOR SPACE REFERS TO THE MULTIDIMENSIONAL SPACE IN WHICH TENSORS EXIST. IN TENSORFLOW, TENSORS ARE THE CORE DATA STRUCTURE USED TO REPRESENT AND MANIPULATE ALL FORMS OF NUMERICAL DATA EFFICIENTLY."
      ],
      "metadata": {
        "id": "Nsq-axF-hnRB"
      }
    },
    {
      "cell_type": "markdown",
      "source": [
        "**Q7- HOW CAN TENSORBOARD BE INTEGRATED WITH TENSORFLOW 2.0?**"
      ],
      "metadata": {
        "id": "35RF3m3S3Fjv"
      }
    },
    {
      "cell_type": "markdown",
      "source": [
        "ANSWER 7:\n",
        "TENSORBOARD CAN BE INTEGRATED BY USING THE TENSORBOARD CALLBACK DURING MODEL TRAINING. IT ALLOWS YOU TO VISUALIZE TRAINING METRICS LIKE LOSS, ACCURACY"
      ],
      "metadata": {
        "id": "MHpv4G0Vhvu3"
      }
    },
    {
      "cell_type": "code",
      "source": [
        "tensorboard_callback = tf.keras.callbacks.TensorBoard(log_dir=\"./logs\")\n"
      ],
      "metadata": {
        "id": "kWvGXFpqhzPY"
      },
      "execution_count": null,
      "outputs": []
    },
    {
      "cell_type": "markdown",
      "source": [
        "**Q8-WHAT IS THE PURPOSE OF TENSORFLOW PLAYGROUND?**"
      ],
      "metadata": {
        "id": "2pMbuLkc3FhH"
      }
    },
    {
      "cell_type": "markdown",
      "source": [
        "ANSWER 8 -\n",
        "TENSORFLOW PLAYGROUND IS AN INTERACTIVE, BROWSER-BASED TOOL THAT HELPS USERS UNDERSTAND HOW NEURAL NETWORKS WORK. IT PROVIDES A VISUAL AND HANDS-ON WAY TO EXPERIMENT WITH VARIOUS MODEL CONFIGURATIONS."
      ],
      "metadata": {
        "id": "apwJQUI_h77Y"
      }
    },
    {
      "cell_type": "markdown",
      "source": [
        "**Q9-WHAT IS NETRON, AND HOW IS IT USEFUL FOR DEEP LEARNING MODELS?**"
      ],
      "metadata": {
        "id": "Uo7wr6Gg3FeZ"
      }
    },
    {
      "cell_type": "markdown",
      "source": [
        "ANSWER 9:\n",
        "NETRON IS A VIEWER FOR NEURAL NETWORK, DEEP LEARNING, AND MACHINE LEARNING MODELS. IT HELPS YOU VISUALIZE THE ARCHITECTURE OF MODELS SUCH AS TENSORFLOW, PYTORCH, KERAS, ONNX"
      ],
      "metadata": {
        "id": "TlbXwlSBiEPw"
      }
    },
    {
      "cell_type": "markdown",
      "source": [
        "**Q10-WHAT IS THE DIFFERENCE BETWEEN TENSORFLOW AND PYTORCH?**"
      ],
      "metadata": {
        "id": "4JxW28nM3Fbk"
      }
    },
    {
      "cell_type": "markdown",
      "source": [
        "ANSWER 10:\n",
        "TENSORFLOW IS WIDELY USED FOR PRODUCTION AND LARGE-SCALE DEPLOYMENT, OFFERING ROBUST TOOLS AND SCALABILITY. PYTORCH, ON THE OTHER HAND, IS KNOWN FOR ITS DYNAMIC COMPUTATION GRAPH AND EASE OF EXPERIMENTATION, MAKING IT A FAVORITE IN THE RESEARCH COMMUNITY."
      ],
      "metadata": {
        "id": "lFYKaI_biISo"
      }
    },
    {
      "cell_type": "markdown",
      "source": [
        "**Q11-HOW DO YOU INSTALL PYTORCH?**"
      ],
      "metadata": {
        "id": "Q-01vHYm3FXf"
      }
    },
    {
      "cell_type": "code",
      "source": [
        "# TO INSTALL THE PYTORCH ( FOR GPU'S)\n",
        "!pip install torch torchvision torchaudio --index-url https://download.pytorch.org/whl/cu118\n"
      ],
      "metadata": {
        "colab": {
          "base_uri": "https://localhost:8080/"
        },
        "collapsed": true,
        "id": "N-Pd2MmJiV2p",
        "outputId": "ef7f4618-87b2-4590-f231-866dcf289a47"
      },
      "execution_count": null,
      "outputs": [
        {
          "output_type": "stream",
          "name": "stdout",
          "text": [
            "Looking in indexes: https://download.pytorch.org/whl/cu118\n",
            "Requirement already satisfied: torch in /usr/local/lib/python3.11/dist-packages (2.6.0+cu118)\n",
            "Requirement already satisfied: torchvision in /usr/local/lib/python3.11/dist-packages (0.21.0+cu124)\n",
            "Requirement already satisfied: torchaudio in /usr/local/lib/python3.11/dist-packages (2.6.0+cu124)\n",
            "Requirement already satisfied: filelock in /usr/local/lib/python3.11/dist-packages (from torch) (3.18.0)\n",
            "Requirement already satisfied: typing-extensions>=4.10.0 in /usr/local/lib/python3.11/dist-packages (from torch) (4.13.1)\n",
            "Requirement already satisfied: networkx in /usr/local/lib/python3.11/dist-packages (from torch) (3.4.2)\n",
            "Requirement already satisfied: jinja2 in /usr/local/lib/python3.11/dist-packages (from torch) (3.1.6)\n",
            "Requirement already satisfied: fsspec in /usr/local/lib/python3.11/dist-packages (from torch) (2025.3.2)\n",
            "Requirement already satisfied: nvidia-cuda-nvrtc-cu11==11.8.89 in /usr/local/lib/python3.11/dist-packages (from torch) (11.8.89)\n",
            "Requirement already satisfied: nvidia-cuda-runtime-cu11==11.8.89 in /usr/local/lib/python3.11/dist-packages (from torch) (11.8.89)\n",
            "Requirement already satisfied: nvidia-cuda-cupti-cu11==11.8.87 in /usr/local/lib/python3.11/dist-packages (from torch) (11.8.87)\n",
            "Requirement already satisfied: nvidia-cudnn-cu11==9.1.0.70 in /usr/local/lib/python3.11/dist-packages (from torch) (9.1.0.70)\n",
            "Requirement already satisfied: nvidia-cublas-cu11==11.11.3.6 in /usr/local/lib/python3.11/dist-packages (from torch) (11.11.3.6)\n",
            "Requirement already satisfied: nvidia-cufft-cu11==10.9.0.58 in /usr/local/lib/python3.11/dist-packages (from torch) (10.9.0.58)\n",
            "Requirement already satisfied: nvidia-curand-cu11==10.3.0.86 in /usr/local/lib/python3.11/dist-packages (from torch) (10.3.0.86)\n",
            "Requirement already satisfied: nvidia-cusolver-cu11==11.4.1.48 in /usr/local/lib/python3.11/dist-packages (from torch) (11.4.1.48)\n",
            "Requirement already satisfied: nvidia-cusparse-cu11==11.7.5.86 in /usr/local/lib/python3.11/dist-packages (from torch) (11.7.5.86)\n",
            "Requirement already satisfied: nvidia-nccl-cu11==2.21.5 in /usr/local/lib/python3.11/dist-packages (from torch) (2.21.5)\n",
            "Requirement already satisfied: nvidia-nvtx-cu11==11.8.86 in /usr/local/lib/python3.11/dist-packages (from torch) (11.8.86)\n",
            "Requirement already satisfied: triton==3.2.0 in /usr/local/lib/python3.11/dist-packages (from torch) (3.2.0)\n",
            "Requirement already satisfied: sympy==1.13.1 in /usr/local/lib/python3.11/dist-packages (from torch) (1.13.1)\n",
            "Requirement already satisfied: mpmath<1.4,>=1.1.0 in /usr/local/lib/python3.11/dist-packages (from sympy==1.13.1->torch) (1.3.0)\n",
            "Requirement already satisfied: numpy in /usr/local/lib/python3.11/dist-packages (from torchvision) (2.0.2)\n",
            "Requirement already satisfied: pillow!=8.3.*,>=5.3.0 in /usr/local/lib/python3.11/dist-packages (from torchvision) (11.1.0)\n",
            "Requirement already satisfied: MarkupSafe>=2.0 in /usr/local/lib/python3.11/dist-packages (from jinja2->torch) (3.0.2)\n"
          ]
        }
      ]
    },
    {
      "cell_type": "code",
      "source": [
        "import torch\n",
        "print(torch.__version__)\n",
        "print(\"CUDA available:\", torch.cuda.is_available())\n"
      ],
      "metadata": {
        "colab": {
          "base_uri": "https://localhost:8080/"
        },
        "id": "KW5WcXp-ihui",
        "outputId": "add05098-fb44-4a82-f262-7964ea0b944a"
      },
      "execution_count": null,
      "outputs": [
        {
          "output_type": "stream",
          "name": "stdout",
          "text": [
            "2.6.0+cu118\n",
            "CUDA available: False\n"
          ]
        }
      ]
    },
    {
      "cell_type": "markdown",
      "source": [
        "**Q12-WHAT IS THE BASIC STRUCTURE OF A PYTORCH NEURAL NETWORK?**"
      ],
      "metadata": {
        "id": "5UvXu0zd3FUH"
      }
    },
    {
      "cell_type": "markdown",
      "source": [
        "ANSWER 12:\n",
        "A PYTORCH NEURAL NETWORK IS BUILT BY DEFINING A CLASS THAT INHERITS FROM NN.MODULE. LAYERS ARE DEFINED IN THE CONSTRUCTOR, AND THE FORWARD PASS IS WRITTEN IN THE FORWARD() METHOD."
      ],
      "metadata": {
        "id": "XmztpT2VkQt5"
      }
    },
    {
      "cell_type": "markdown",
      "source": [
        "**Q13-WHAT IS THE SIGNIFICANCE OF TENSORS IN PYTORCH?**"
      ],
      "metadata": {
        "id": "SOx9DtJH3FRw"
      }
    },
    {
      "cell_type": "markdown",
      "source": [
        "ANSWER 13:\n",
        "TENSORS IN PYTORCH ARE MULTIDIMENSIONAL ARRAYS, SIMILAR TO NUMPY ARRAYS BUT WITH GPU ACCELERATION. THEY ARE THE FUNDAMENTAL BUILDING BLOCKS FOR STORING AND PROCESSING DATA IN DEEP LEARNING MODELS."
      ],
      "metadata": {
        "id": "WVCMAezukSxA"
      }
    },
    {
      "cell_type": "markdown",
      "source": [
        "**Q14-WHAT IS THE DIFFERENCE BETWEEN TORCH.TENSOR AND TORCH.CUDA.TENSOR IN PYTORCH?**"
      ],
      "metadata": {
        "id": "hF802-li3FPH"
      }
    },
    {
      "cell_type": "markdown",
      "source": [
        "ANSWER 14:\n",
        "TORCH.TENSOR REFERS TO TENSORS THAT RESIDE ON THE CPU, WHEREAS TORCH.CUDA.TENSOR REFERS TO TENSORS THAT ARE STORED AND PROCESSED ON THE GPU. GPU TENSORS ARE ESSENTIAL FOR FASTER TRAINING ON LARGE DATASETS."
      ],
      "metadata": {
        "id": "fzLXUNmzkUbQ"
      }
    },
    {
      "cell_type": "markdown",
      "source": [
        "**Q15-WHAT IS THE PURPOSE OF THE TORCH.OPTIM MODULE IN PYTORCH?**"
      ],
      "metadata": {
        "id": "J7lQCNBm3FM7"
      }
    },
    {
      "cell_type": "markdown",
      "source": [
        "ANSWER 15:\n",
        "THE TORCH.OPTIM MODULE PROVIDES VARIOUS OPTIMIZATION ALGORITHMS (E.G., SGD, ADAM) TO UPDATE MODEL WEIGHTS DURING TRAINING. IT PLAYS A CRUCIAL ROLE IN MINIMIZING LOSS AND IMPROVING MODEL PERFORMANCE."
      ],
      "metadata": {
        "id": "Sbn4A9fakWQA"
      }
    },
    {
      "cell_type": "markdown",
      "source": [
        "**Q16-WHAT ARE SOME COMMON ACTIVATION FUNCTIONS USED IN NEURAL NETWORKS?**"
      ],
      "metadata": {
        "id": "BxkjfYyD3FKM"
      }
    },
    {
      "cell_type": "markdown",
      "source": [
        "ANSWER 16:\n",
        "COMMON ACTIVATION FUNCTIONS INCLUDE RELU, SIGMOID, AND TANH. THESE FUNCTIONS INTRODUCE NON-LINEARITY INTO THE MODEL, ENABLING IT TO LEARN COMPLEX PATTERNS IN DATA."
      ],
      "metadata": {
        "id": "FsswRlQdkX8Z"
      }
    },
    {
      "cell_type": "markdown",
      "source": [
        "**Q17- WHAT IS THE DIFFERENCE BETWEEN TORCH.NN.MODULE AND TORCH.NN.SEQUENTIAL IN PYTORCH?**"
      ],
      "metadata": {
        "id": "N3qQ_Rm93FHf"
      }
    },
    {
      "cell_type": "markdown",
      "source": [
        "ANSWER 17:\n",
        "TORCH.NN.MODULE IS USED FOR BUILDING FLEXIBLE, CUSTOM MODELS. TORCH.NN.SEQUENTIAL IS A SIMPLER ALTERNATIVE FOR MODELS WITH A LINEAR STACK OF LAYERS, WHERE LAYERS ARE ADDED IN ORDER."
      ],
      "metadata": {
        "id": "jWFXA2mAkZzQ"
      }
    },
    {
      "cell_type": "markdown",
      "source": [
        "**Q18- HOW CAN YOU MONITOR TRAINING PROGRESS IN TENSORFLOW 2.0?**"
      ],
      "metadata": {
        "id": "l3GH4siJ3E-2"
      }
    },
    {
      "cell_type": "markdown",
      "source": [
        "ANSWER 18:\n",
        "IN TENSORFLOW 2.0, TRAINING PROGRESS CAN BE MONITORED USING REAL-TIME CONSOLE OUTPUTS OR THROUGH TENSORBOARD, WHICH PROVIDES DETAILED VISUALIZATIONS OF TRAINING METRICS AND MODEL GRAPHS."
      ],
      "metadata": {
        "id": "vq5m1eZ_kbtR"
      }
    },
    {
      "cell_type": "markdown",
      "source": [
        "**Q19-HOW DOES THE KERAS API FIT INTO TENSORFLOW 2.0?**"
      ],
      "metadata": {
        "id": "34EH2hVP3E0V"
      }
    },
    {
      "cell_type": "markdown",
      "source": [
        "ANSWER 19:\n",
        "THE KERAS API IS TIGHTLY INTEGRATED INTO TENSORFLOW 2.0. IT PROVIDES A CLEAN AND INTUITIVE INTERFACE FOR BUILDING, TRAINING, AND DEPLOYING DEEP LEARNING MODELS WITH MINIMAL CODE."
      ],
      "metadata": {
        "id": "Mu3fXwV5kdeA"
      }
    },
    {
      "cell_type": "markdown",
      "source": [
        "**Q20- WHAT IS AN EXAMPLE OF A DEEP LEARNING PROJECT THAT CAN BE IMPLEMENTED USING TENSORFLOW 2.0?**"
      ],
      "metadata": {
        "id": "DNvw7s9z3Ep6"
      }
    },
    {
      "cell_type": "markdown",
      "source": [
        "ANSWER 20:\n",
        "AN EXAMPLE PROJECT USING TENSORFLOW 2.0 COULD BE A REAL-TIME IMAGE CLASSIFICATION SYSTEM (E.G., IDENTIFYING CATS VS. DOGS), TEXT SENTIMENT ANALYSIS, OR A HANDWRITTEN DIGIT RECOGNIZER USING THE MNIST DATASET."
      ],
      "metadata": {
        "id": "TLtz40qpkhHp"
      }
    },
    {
      "cell_type": "markdown",
      "source": [
        "**Q21- WHAT IS THE MAIN ADVANTAGE OF USING PRE-TRAINED MODELS IN TENSORFLOW AND PYTORCH?**"
      ],
      "metadata": {
        "id": "xp9m7x1b3EcV"
      }
    },
    {
      "cell_type": "markdown",
      "source": [
        "ANSWER 21:\n",
        "PRE-TRAINED MODELS OFFER A HEAD START BY LEVERAGING KNOWLEDGE LEARNED FROM LARGE DATASETS. THEY SIGNIFICANTLY REDUCE TRAINING TIME AND OFTEN IMPROVE ACCURACY, ESPECIALLY WHEN FINE-TUNED FOR SPECIFIC TASKS."
      ],
      "metadata": {
        "id": "LnJIVyKndirL"
      }
    },
    {
      "cell_type": "markdown",
      "source": [
        "# PRACTICAL QUESTIONS -"
      ],
      "metadata": {
        "id": "YGphdoG-ksOx"
      }
    },
    {
      "cell_type": "markdown",
      "source": [
        "Q1- HOW DO YOU INSTALL AND VERIFY THAT TENSORFLOW 2.0 WAS INSTALLED SUCCESSFULLY?"
      ],
      "metadata": {
        "id": "4C1YA1fqgbUY"
      }
    },
    {
      "cell_type": "code",
      "source": [
        "# TO INSTALL -\n",
        "!pip install tensorflow"
      ],
      "metadata": {
        "colab": {
          "base_uri": "https://localhost:8080/"
        },
        "id": "xEQN3Q0hhl91",
        "outputId": "f18e0d6a-6425-4b75-d9cd-c0c9c62ef336"
      },
      "execution_count": 1,
      "outputs": [
        {
          "output_type": "stream",
          "name": "stdout",
          "text": [
            "Requirement already satisfied: tensorflow in /usr/local/lib/python3.11/dist-packages (2.18.0)\n",
            "Requirement already satisfied: absl-py>=1.0.0 in /usr/local/lib/python3.11/dist-packages (from tensorflow) (1.4.0)\n",
            "Requirement already satisfied: astunparse>=1.6.0 in /usr/local/lib/python3.11/dist-packages (from tensorflow) (1.6.3)\n",
            "Requirement already satisfied: flatbuffers>=24.3.25 in /usr/local/lib/python3.11/dist-packages (from tensorflow) (25.2.10)\n",
            "Requirement already satisfied: gast!=0.5.0,!=0.5.1,!=0.5.2,>=0.2.1 in /usr/local/lib/python3.11/dist-packages (from tensorflow) (0.6.0)\n",
            "Requirement already satisfied: google-pasta>=0.1.1 in /usr/local/lib/python3.11/dist-packages (from tensorflow) (0.2.0)\n",
            "Requirement already satisfied: libclang>=13.0.0 in /usr/local/lib/python3.11/dist-packages (from tensorflow) (18.1.1)\n",
            "Requirement already satisfied: opt-einsum>=2.3.2 in /usr/local/lib/python3.11/dist-packages (from tensorflow) (3.4.0)\n",
            "Requirement already satisfied: packaging in /usr/local/lib/python3.11/dist-packages (from tensorflow) (24.2)\n",
            "Requirement already satisfied: protobuf!=4.21.0,!=4.21.1,!=4.21.2,!=4.21.3,!=4.21.4,!=4.21.5,<6.0.0dev,>=3.20.3 in /usr/local/lib/python3.11/dist-packages (from tensorflow) (5.29.4)\n",
            "Requirement already satisfied: requests<3,>=2.21.0 in /usr/local/lib/python3.11/dist-packages (from tensorflow) (2.32.3)\n",
            "Requirement already satisfied: setuptools in /usr/local/lib/python3.11/dist-packages (from tensorflow) (75.2.0)\n",
            "Requirement already satisfied: six>=1.12.0 in /usr/local/lib/python3.11/dist-packages (from tensorflow) (1.17.0)\n",
            "Requirement already satisfied: termcolor>=1.1.0 in /usr/local/lib/python3.11/dist-packages (from tensorflow) (3.0.1)\n",
            "Requirement already satisfied: typing-extensions>=3.6.6 in /usr/local/lib/python3.11/dist-packages (from tensorflow) (4.13.1)\n",
            "Requirement already satisfied: wrapt>=1.11.0 in /usr/local/lib/python3.11/dist-packages (from tensorflow) (1.17.2)\n",
            "Requirement already satisfied: grpcio<2.0,>=1.24.3 in /usr/local/lib/python3.11/dist-packages (from tensorflow) (1.71.0)\n",
            "Requirement already satisfied: tensorboard<2.19,>=2.18 in /usr/local/lib/python3.11/dist-packages (from tensorflow) (2.18.0)\n",
            "Requirement already satisfied: keras>=3.5.0 in /usr/local/lib/python3.11/dist-packages (from tensorflow) (3.8.0)\n",
            "Requirement already satisfied: numpy<2.1.0,>=1.26.0 in /usr/local/lib/python3.11/dist-packages (from tensorflow) (2.0.2)\n",
            "Requirement already satisfied: h5py>=3.11.0 in /usr/local/lib/python3.11/dist-packages (from tensorflow) (3.13.0)\n",
            "Requirement already satisfied: ml-dtypes<0.5.0,>=0.4.0 in /usr/local/lib/python3.11/dist-packages (from tensorflow) (0.4.1)\n",
            "Requirement already satisfied: tensorflow-io-gcs-filesystem>=0.23.1 in /usr/local/lib/python3.11/dist-packages (from tensorflow) (0.37.1)\n",
            "Requirement already satisfied: wheel<1.0,>=0.23.0 in /usr/local/lib/python3.11/dist-packages (from astunparse>=1.6.0->tensorflow) (0.45.1)\n",
            "Requirement already satisfied: rich in /usr/local/lib/python3.11/dist-packages (from keras>=3.5.0->tensorflow) (13.9.4)\n",
            "Requirement already satisfied: namex in /usr/local/lib/python3.11/dist-packages (from keras>=3.5.0->tensorflow) (0.0.8)\n",
            "Requirement already satisfied: optree in /usr/local/lib/python3.11/dist-packages (from keras>=3.5.0->tensorflow) (0.14.1)\n",
            "Requirement already satisfied: charset-normalizer<4,>=2 in /usr/local/lib/python3.11/dist-packages (from requests<3,>=2.21.0->tensorflow) (3.4.1)\n",
            "Requirement already satisfied: idna<4,>=2.5 in /usr/local/lib/python3.11/dist-packages (from requests<3,>=2.21.0->tensorflow) (3.10)\n",
            "Requirement already satisfied: urllib3<3,>=1.21.1 in /usr/local/lib/python3.11/dist-packages (from requests<3,>=2.21.0->tensorflow) (2.3.0)\n",
            "Requirement already satisfied: certifi>=2017.4.17 in /usr/local/lib/python3.11/dist-packages (from requests<3,>=2.21.0->tensorflow) (2025.1.31)\n",
            "Requirement already satisfied: markdown>=2.6.8 in /usr/local/lib/python3.11/dist-packages (from tensorboard<2.19,>=2.18->tensorflow) (3.7)\n",
            "Requirement already satisfied: tensorboard-data-server<0.8.0,>=0.7.0 in /usr/local/lib/python3.11/dist-packages (from tensorboard<2.19,>=2.18->tensorflow) (0.7.2)\n",
            "Requirement already satisfied: werkzeug>=1.0.1 in /usr/local/lib/python3.11/dist-packages (from tensorboard<2.19,>=2.18->tensorflow) (3.1.3)\n",
            "Requirement already satisfied: MarkupSafe>=2.1.1 in /usr/local/lib/python3.11/dist-packages (from werkzeug>=1.0.1->tensorboard<2.19,>=2.18->tensorflow) (3.0.2)\n",
            "Requirement already satisfied: markdown-it-py>=2.2.0 in /usr/local/lib/python3.11/dist-packages (from rich->keras>=3.5.0->tensorflow) (3.0.0)\n",
            "Requirement already satisfied: pygments<3.0.0,>=2.13.0 in /usr/local/lib/python3.11/dist-packages (from rich->keras>=3.5.0->tensorflow) (2.18.0)\n",
            "Requirement already satisfied: mdurl~=0.1 in /usr/local/lib/python3.11/dist-packages (from markdown-it-py>=2.2.0->rich->keras>=3.5.0->tensorflow) (0.1.2)\n"
          ]
        }
      ]
    },
    {
      "cell_type": "code",
      "source": [
        "# TO CHECK IT IS INSTLAEED -\n",
        "import tensorflow as tf\n",
        "print(tf.__version__)\n"
      ],
      "metadata": {
        "colab": {
          "base_uri": "https://localhost:8080/"
        },
        "id": "9OOr5CO_hs4f",
        "outputId": "14d42d72-ecf6-4e46-a657-a432d706ff31"
      },
      "execution_count": 2,
      "outputs": [
        {
          "output_type": "stream",
          "name": "stdout",
          "text": [
            "2.18.0\n"
          ]
        }
      ]
    },
    {
      "cell_type": "markdown",
      "source": [
        "Q2- HOW CAN YOU DEFINE A SIMPLE FUNCTION IN TENSORFLOW 2.0 TO PERFORM ADDITION?"
      ],
      "metadata": {
        "id": "L_H_BHlQgaup"
      }
    },
    {
      "cell_type": "code",
      "source": [
        "@tf.function\n",
        "def add(a, b):\n",
        "    return a + b\n",
        "\n",
        "result = add(tf.constant(3), tf.constant(4))\n",
        "print(result)\n"
      ],
      "metadata": {
        "colab": {
          "base_uri": "https://localhost:8080/"
        },
        "id": "5Zlx1nhKh4C6",
        "outputId": "266e3469-cb28-4fb2-f023-9410b4a384a5"
      },
      "execution_count": 3,
      "outputs": [
        {
          "output_type": "stream",
          "name": "stdout",
          "text": [
            "tf.Tensor(7, shape=(), dtype=int32)\n"
          ]
        }
      ]
    },
    {
      "cell_type": "markdown",
      "source": [
        "Q3- HOW CAN YOU CREATE A SIMPLE NEURAL NETWORK IN TENSORFLOW 2.0 WITH ONE HIDDEN LAYER?"
      ],
      "metadata": {
        "id": "3l8xZT8tgaV0"
      }
    },
    {
      "cell_type": "code",
      "source": [
        "from tensorflow.keras.models import Sequential\n",
        "from tensorflow.keras.layers import Dense\n",
        "\n",
        "model = Sequential([\n",
        "    Dense(16, activation='relu', input_shape=(10,)),\n",
        "    Dense(1)\n",
        "])\n",
        "\n",
        "model.summary()\n"
      ],
      "metadata": {
        "colab": {
          "base_uri": "https://localhost:8080/",
          "height": 263
        },
        "id": "rUXZ3pWsh-_8",
        "outputId": "e7b6dd8c-8605-44b8-a195-fa1198b771e1"
      },
      "execution_count": 4,
      "outputs": [
        {
          "output_type": "stream",
          "name": "stderr",
          "text": [
            "/usr/local/lib/python3.11/dist-packages/keras/src/layers/core/dense.py:87: UserWarning: Do not pass an `input_shape`/`input_dim` argument to a layer. When using Sequential models, prefer using an `Input(shape)` object as the first layer in the model instead.\n",
            "  super().__init__(activity_regularizer=activity_regularizer, **kwargs)\n"
          ]
        },
        {
          "output_type": "display_data",
          "data": {
            "text/plain": [
              "\u001b[1mModel: \"sequential\"\u001b[0m\n"
            ],
            "text/html": [
              "<pre style=\"white-space:pre;overflow-x:auto;line-height:normal;font-family:Menlo,'DejaVu Sans Mono',consolas,'Courier New',monospace\"><span style=\"font-weight: bold\">Model: \"sequential\"</span>\n",
              "</pre>\n"
            ]
          },
          "metadata": {}
        },
        {
          "output_type": "display_data",
          "data": {
            "text/plain": [
              "┏━━━━━━━━━━━━━━━━━━━━━━━━━━━━━━━━━━━━━━┳━━━━━━━━━━━━━━━━━━━━━━━━━━━━━┳━━━━━━━━━━━━━━━━━┓\n",
              "┃\u001b[1m \u001b[0m\u001b[1mLayer (type)                        \u001b[0m\u001b[1m \u001b[0m┃\u001b[1m \u001b[0m\u001b[1mOutput Shape               \u001b[0m\u001b[1m \u001b[0m┃\u001b[1m \u001b[0m\u001b[1m        Param #\u001b[0m\u001b[1m \u001b[0m┃\n",
              "┡━━━━━━━━━━━━━━━━━━━━━━━━━━━━━━━━━━━━━━╇━━━━━━━━━━━━━━━━━━━━━━━━━━━━━╇━━━━━━━━━━━━━━━━━┩\n",
              "│ dense (\u001b[38;5;33mDense\u001b[0m)                        │ (\u001b[38;5;45mNone\u001b[0m, \u001b[38;5;34m16\u001b[0m)                  │             \u001b[38;5;34m176\u001b[0m │\n",
              "├──────────────────────────────────────┼─────────────────────────────┼─────────────────┤\n",
              "│ dense_1 (\u001b[38;5;33mDense\u001b[0m)                      │ (\u001b[38;5;45mNone\u001b[0m, \u001b[38;5;34m1\u001b[0m)                   │              \u001b[38;5;34m17\u001b[0m │\n",
              "└──────────────────────────────────────┴─────────────────────────────┴─────────────────┘\n"
            ],
            "text/html": [
              "<pre style=\"white-space:pre;overflow-x:auto;line-height:normal;font-family:Menlo,'DejaVu Sans Mono',consolas,'Courier New',monospace\">┏━━━━━━━━━━━━━━━━━━━━━━━━━━━━━━━━━━━━━━┳━━━━━━━━━━━━━━━━━━━━━━━━━━━━━┳━━━━━━━━━━━━━━━━━┓\n",
              "┃<span style=\"font-weight: bold\"> Layer (type)                         </span>┃<span style=\"font-weight: bold\"> Output Shape                </span>┃<span style=\"font-weight: bold\">         Param # </span>┃\n",
              "┡━━━━━━━━━━━━━━━━━━━━━━━━━━━━━━━━━━━━━━╇━━━━━━━━━━━━━━━━━━━━━━━━━━━━━╇━━━━━━━━━━━━━━━━━┩\n",
              "│ dense (<span style=\"color: #0087ff; text-decoration-color: #0087ff\">Dense</span>)                        │ (<span style=\"color: #00d7ff; text-decoration-color: #00d7ff\">None</span>, <span style=\"color: #00af00; text-decoration-color: #00af00\">16</span>)                  │             <span style=\"color: #00af00; text-decoration-color: #00af00\">176</span> │\n",
              "├──────────────────────────────────────┼─────────────────────────────┼─────────────────┤\n",
              "│ dense_1 (<span style=\"color: #0087ff; text-decoration-color: #0087ff\">Dense</span>)                      │ (<span style=\"color: #00d7ff; text-decoration-color: #00d7ff\">None</span>, <span style=\"color: #00af00; text-decoration-color: #00af00\">1</span>)                   │              <span style=\"color: #00af00; text-decoration-color: #00af00\">17</span> │\n",
              "└──────────────────────────────────────┴─────────────────────────────┴─────────────────┘\n",
              "</pre>\n"
            ]
          },
          "metadata": {}
        },
        {
          "output_type": "display_data",
          "data": {
            "text/plain": [
              "\u001b[1m Total params: \u001b[0m\u001b[38;5;34m193\u001b[0m (772.00 B)\n"
            ],
            "text/html": [
              "<pre style=\"white-space:pre;overflow-x:auto;line-height:normal;font-family:Menlo,'DejaVu Sans Mono',consolas,'Courier New',monospace\"><span style=\"font-weight: bold\"> Total params: </span><span style=\"color: #00af00; text-decoration-color: #00af00\">193</span> (772.00 B)\n",
              "</pre>\n"
            ]
          },
          "metadata": {}
        },
        {
          "output_type": "display_data",
          "data": {
            "text/plain": [
              "\u001b[1m Trainable params: \u001b[0m\u001b[38;5;34m193\u001b[0m (772.00 B)\n"
            ],
            "text/html": [
              "<pre style=\"white-space:pre;overflow-x:auto;line-height:normal;font-family:Menlo,'DejaVu Sans Mono',consolas,'Courier New',monospace\"><span style=\"font-weight: bold\"> Trainable params: </span><span style=\"color: #00af00; text-decoration-color: #00af00\">193</span> (772.00 B)\n",
              "</pre>\n"
            ]
          },
          "metadata": {}
        },
        {
          "output_type": "display_data",
          "data": {
            "text/plain": [
              "\u001b[1m Non-trainable params: \u001b[0m\u001b[38;5;34m0\u001b[0m (0.00 B)\n"
            ],
            "text/html": [
              "<pre style=\"white-space:pre;overflow-x:auto;line-height:normal;font-family:Menlo,'DejaVu Sans Mono',consolas,'Courier New',monospace\"><span style=\"font-weight: bold\"> Non-trainable params: </span><span style=\"color: #00af00; text-decoration-color: #00af00\">0</span> (0.00 B)\n",
              "</pre>\n"
            ]
          },
          "metadata": {}
        }
      ]
    },
    {
      "cell_type": "markdown",
      "source": [
        "Q4- HOW CAN YOU VISUALIZE THE TRAINING PROGRESS USING TENSORFLOW AND MATPLOTLIB?"
      ],
      "metadata": {
        "id": "b0nfOYbegZrp"
      }
    },
    {
      "cell_type": "code",
      "source": [
        "import matplotlib.pyplot as plt\n",
        "import numpy as np\n",
        "\n",
        "x = np.random.rand(100, 10)\n",
        "y = np.random.rand(100, 1)\n",
        "\n",
        "model.compile(optimizer='adam', loss='mse')\n",
        "history = model.fit(x, y, epochs=10, verbose=0)\n",
        "\n",
        "plt.plot(history.history['loss'])\n",
        "plt.title('Training Loss')\n",
        "plt.xlabel('Epoch')\n",
        "plt.ylabel('Loss')\n",
        "plt.show()\n"
      ],
      "metadata": {
        "colab": {
          "base_uri": "https://localhost:8080/",
          "height": 472
        },
        "id": "gdXKEOj4iFAX",
        "outputId": "ef2dfb67-3da9-42cf-cbbd-9b0072056603"
      },
      "execution_count": 5,
      "outputs": [
        {
          "output_type": "display_data",
          "data": {
            "text/plain": [
              "<Figure size 640x480 with 1 Axes>"
            ],
            "image/png": "[encoded data removed]"
          },
          "metadata": {}
        }
      ]
    },
    {
      "cell_type": "markdown",
      "source": [
        "Q5- HOW DO YOU INSTALL PYTORCH AND VERIFY THE PYTORCH INSTALLATION?"
      ],
      "metadata": {
        "id": "Tgz3wKpJgh3w"
      }
    },
    {
      "cell_type": "code",
      "source": [
        "import torch\n",
        "print(torch.__version__)\n",
        "print(torch.cuda.is_available())\n"
      ],
      "metadata": {
        "colab": {
          "base_uri": "https://localhost:8080/"
        },
        "id": "mtVAur4ZiIIh",
        "outputId": "1b6f8581-8555-48ef-ae70-9f80fc2656c8"
      },
      "execution_count": 6,
      "outputs": [
        {
          "output_type": "stream",
          "name": "stdout",
          "text": [
            "2.6.0+cu124\n",
            "False\n"
          ]
        }
      ]
    },
    {
      "cell_type": "markdown",
      "source": [
        "Q6- HOW DO YOU CREATE A SIMPLE NEURAL NETWORK IN PYTORCH?"
      ],
      "metadata": {
        "id": "hNDA1YJBgjTt"
      }
    },
    {
      "cell_type": "code",
      "source": [
        "import torch.nn as nn\n",
        "\n",
        "model = nn.Sequential(\n",
        "    nn.Linear(4, 8),\n",
        "    nn.ReLU(),\n",
        "    nn.Linear(8, 1)\n",
        ")\n",
        "print(model)\n"
      ],
      "metadata": {
        "colab": {
          "base_uri": "https://localhost:8080/"
        },
        "id": "wq3GcNYYiRVc",
        "outputId": "63971870-3326-478a-cdd3-f9dbd6032183"
      },
      "execution_count": 7,
      "outputs": [
        {
          "output_type": "stream",
          "name": "stdout",
          "text": [
            "Sequential(\n",
            "  (0): Linear(in_features=4, out_features=8, bias=True)\n",
            "  (1): ReLU()\n",
            "  (2): Linear(in_features=8, out_features=1, bias=True)\n",
            ")\n"
          ]
        }
      ]
    },
    {
      "cell_type": "markdown",
      "source": [
        "Q7- HOW DO YOU DEFINE A LOSS FUNCTION AND OPTIMIZER IN PYTORCH?"
      ],
      "metadata": {
        "id": "PAOVq0XwgkrO"
      }
    },
    {
      "cell_type": "code",
      "source": [
        "import torch.optim as optim\n",
        "\n",
        "loss_fn = nn.MSELoss()\n",
        "optimizer = optim.Adam(model.parameters())\n"
      ],
      "metadata": {
        "id": "wFeU7a3IimLh"
      },
      "execution_count": 8,
      "outputs": []
    },
    {
      "cell_type": "markdown",
      "source": [
        "Q8- HOW DO YOU IMPLEMENT A CUSTOM LOSS FUNCTION IN PYTORCH?"
      ],
      "metadata": {
        "id": "cYAlEqAvglyU"
      }
    },
    {
      "cell_type": "code",
      "source": [
        "def custom_loss(pred, target):\n",
        "    return ((pred - target)**2).mean()\n",
        "\n",
        "x = torch.randn(5, 1)\n",
        "y = torch.randn(5, 1)\n",
        "print(custom_loss(x, y))\n"
      ],
      "metadata": {
        "colab": {
          "base_uri": "https://localhost:8080/"
        },
        "id": "ptnRIWx-in2O",
        "outputId": "b267e0a5-19df-45e8-d7ff-07f1cdd2ebcb"
      },
      "execution_count": 9,
      "outputs": [
        {
          "output_type": "stream",
          "name": "stdout",
          "text": [
            "tensor(2.9659)\n"
          ]
        }
      ]
    },
    {
      "cell_type": "markdown",
      "source": [
        "Q9- HOW DO YOU SAVE AND LOAD A TENSORFLOW MODEL?"
      ],
      "metadata": {
        "id": "ZtCGFSo1gnQx"
      }
    },
    {
      "cell_type": "code",
      "source": [
        "from tensorflow.keras import Sequential\n",
        "from tensorflow.keras.layers import Dense\n",
        "from tensorflow.keras.models import load_model\n",
        "\n",
        "model = Sequential([\n",
        "    Dense(8, activation='relu', input_shape=(4,)),\n",
        "    Dense(1)\n",
        "])\n",
        "\n",
        "model.save('model.h5')\n",
        "\n",
        "loaded_model = load_model('model.h5')\n",
        "loaded_model.summary()\n",
        "\n"
      ],
      "metadata": {
        "colab": {
          "base_uri": "https://localhost:8080/",
          "height": 298
        },
        "id": "TwdB_Tj-isNU",
        "outputId": "249cb692-cfaf-4ffd-c520-41c85ee51590"
      },
      "execution_count": 11,
      "outputs": [
        {
          "output_type": "stream",
          "name": "stderr",
          "text": [
            "/usr/local/lib/python3.11/dist-packages/keras/src/layers/core/dense.py:87: UserWarning: Do not pass an `input_shape`/`input_dim` argument to a layer. When using Sequential models, prefer using an `Input(shape)` object as the first layer in the model instead.\n",
            "  super().__init__(activity_regularizer=activity_regularizer, **kwargs)\n",
            "WARNING:absl:You are saving your model as an HDF5 file via `model.save()` or `keras.saving.save_model(model)`. This file format is considered legacy. We recommend using instead the native Keras format, e.g. `model.save('my_model.keras')` or `keras.saving.save_model(model, 'my_model.keras')`. \n",
            "WARNING:absl:No training configuration found in the save file, so the model was *not* compiled. Compile it manually.\n"
          ]
        },
        {
          "output_type": "display_data",
          "data": {
            "text/plain": [
              "\u001b[1mModel: \"sequential_1\"\u001b[0m\n"
            ],
            "text/html": [
              "<pre style=\"white-space:pre;overflow-x:auto;line-height:normal;font-family:Menlo,'DejaVu Sans Mono',consolas,'Courier New',monospace\"><span style=\"font-weight: bold\">Model: \"sequential_1\"</span>\n",
              "</pre>\n"
            ]
          },
          "metadata": {}
        },
        {
          "output_type": "display_data",
          "data": {
            "text/plain": [
              "┏━━━━━━━━━━━━━━━━━━━━━━━━━━━━━━━━━━━━━━┳━━━━━━━━━━━━━━━━━━━━━━━━━━━━━┳━━━━━━━━━━━━━━━━━┓\n",
              "┃\u001b[1m \u001b[0m\u001b[1mLayer (type)                        \u001b[0m\u001b[1m \u001b[0m┃\u001b[1m \u001b[0m\u001b[1mOutput Shape               \u001b[0m\u001b[1m \u001b[0m┃\u001b[1m \u001b[0m\u001b[1m        Param #\u001b[0m\u001b[1m \u001b[0m┃\n",
              "┡━━━━━━━━━━━━━━━━━━━━━━━━━━━━━━━━━━━━━━╇━━━━━━━━━━━━━━━━━━━━━━━━━━━━━╇━━━━━━━━━━━━━━━━━┩\n",
              "│ dense_2 (\u001b[38;5;33mDense\u001b[0m)                      │ (\u001b[38;5;45mNone\u001b[0m, \u001b[38;5;34m8\u001b[0m)                   │              \u001b[38;5;34m40\u001b[0m │\n",
              "├──────────────────────────────────────┼─────────────────────────────┼─────────────────┤\n",
              "│ dense_3 (\u001b[38;5;33mDense\u001b[0m)                      │ (\u001b[38;5;45mNone\u001b[0m, \u001b[38;5;34m1\u001b[0m)                   │               \u001b[38;5;34m9\u001b[0m │\n",
              "└──────────────────────────────────────┴─────────────────────────────┴─────────────────┘\n"
            ],
            "text/html": [
              "<pre style=\"white-space:pre;overflow-x:auto;line-height:normal;font-family:Menlo,'DejaVu Sans Mono',consolas,'Courier New',monospace\">┏━━━━━━━━━━━━━━━━━━━━━━━━━━━━━━━━━━━━━━┳━━━━━━━━━━━━━━━━━━━━━━━━━━━━━┳━━━━━━━━━━━━━━━━━┓\n",
              "┃<span style=\"font-weight: bold\"> Layer (type)                         </span>┃<span style=\"font-weight: bold\"> Output Shape                </span>┃<span style=\"font-weight: bold\">         Param # </span>┃\n",
              "┡━━━━━━━━━━━━━━━━━━━━━━━━━━━━━━━━━━━━━━╇━━━━━━━━━━━━━━━━━━━━━━━━━━━━━╇━━━━━━━━━━━━━━━━━┩\n",
              "│ dense_2 (<span style=\"color: #0087ff; text-decoration-color: #0087ff\">Dense</span>)                      │ (<span style=\"color: #00d7ff; text-decoration-color: #00d7ff\">None</span>, <span style=\"color: #00af00; text-decoration-color: #00af00\">8</span>)                   │              <span style=\"color: #00af00; text-decoration-color: #00af00\">40</span> │\n",
              "├──────────────────────────────────────┼─────────────────────────────┼─────────────────┤\n",
              "│ dense_3 (<span style=\"color: #0087ff; text-decoration-color: #0087ff\">Dense</span>)                      │ (<span style=\"color: #00d7ff; text-decoration-color: #00d7ff\">None</span>, <span style=\"color: #00af00; text-decoration-color: #00af00\">1</span>)                   │               <span style=\"color: #00af00; text-decoration-color: #00af00\">9</span> │\n",
              "└──────────────────────────────────────┴─────────────────────────────┴─────────────────┘\n",
              "</pre>\n"
            ]
          },
          "metadata": {}
        },
        {
          "output_type": "display_data",
          "data": {
            "text/plain": [
              "\u001b[1m Total params: \u001b[0m\u001b[38;5;34m49\u001b[0m (196.00 B)\n"
            ],
            "text/html": [
              "<pre style=\"white-space:pre;overflow-x:auto;line-height:normal;font-family:Menlo,'DejaVu Sans Mono',consolas,'Courier New',monospace\"><span style=\"font-weight: bold\"> Total params: </span><span style=\"color: #00af00; text-decoration-color: #00af00\">49</span> (196.00 B)\n",
              "</pre>\n"
            ]
          },
          "metadata": {}
        },
        {
          "output_type": "display_data",
          "data": {
            "text/plain": [
              "\u001b[1m Trainable params: \u001b[0m\u001b[38;5;34m49\u001b[0m (196.00 B)\n"
            ],
            "text/html": [
              "<pre style=\"white-space:pre;overflow-x:auto;line-height:normal;font-family:Menlo,'DejaVu Sans Mono',consolas,'Courier New',monospace\"><span style=\"font-weight: bold\"> Trainable params: </span><span style=\"color: #00af00; text-decoration-color: #00af00\">49</span> (196.00 B)\n",
              "</pre>\n"
            ]
          },
          "metadata": {}
        },
        {
          "output_type": "display_data",
          "data": {
            "text/plain": [
              "\u001b[1m Non-trainable params: \u001b[0m\u001b[38;5;34m0\u001b[0m (0.00 B)\n"
            ],
            "text/html": [
              "<pre style=\"white-space:pre;overflow-x:auto;line-height:normal;font-family:Menlo,'DejaVu Sans Mono',consolas,'Courier New',monospace\"><span style=\"font-weight: bold\"> Non-trainable params: </span><span style=\"color: #00af00; text-decoration-color: #00af00\">0</span> (0.00 B)\n",
              "</pre>\n"
            ]
          },
          "metadata": {}
        }
      ]
    }
  ]
}